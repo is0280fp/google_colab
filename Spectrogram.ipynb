{
  "nbformat": 4,
  "nbformat_minor": 0,
  "metadata": {
    "colab": {
      "name": "Spectrogram.ipynb",
      "provenance": [],
      "mount_file_id": "1vHNpYCWRQLg40MuQfQ8XQZPD9XLhT29m",
      "authorship_tag": "ABX9TyM7evJKcg3FeQ1ioIOjecNF",
      "include_colab_link": true
    },
    "kernelspec": {
      "name": "python3",
      "display_name": "Python 3"
    },
    "accelerator": "GPU"
  },
  "cells": [
    {
      "cell_type": "markdown",
      "metadata": {
        "id": "view-in-github",
        "colab_type": "text"
      },
      "source": [
        "<a href=\"https://colab.research.google.com/github/is0280fp/google_colab/blob/main/Spectrogram.ipynb\" target=\"_parent\"><img src=\"https://colab.research.google.com/assets/colab-badge.svg\" alt=\"Open In Colab\"/></a>"
      ]
    },
    {
      "cell_type": "code",
      "metadata": {
        "id": "WE8WxIo7G6Cm"
      },
      "source": [
        "# from IPython.core.debugger import Pdb; Pdb().set_trace()\n",
        "import csv\n",
        "import tensorflow as tf\n",
        "import functools\n",
        "import numpy as np\n",
        "from scipy import signal\n",
        "import matplotlib.pyplot as plt\n",
        "# import wave_func as wf\n",
        "\n",
        "with open('/content/drive/MyDrive/GaitRect/GaitRect/GRF_F_V_PRO_left.csv') as f:\n",
        "    reader = csv.reader(f)\n",
        "    V_left = [row for row in reader]\n",
        "f.close()\n",
        "\n",
        "with open('/content/drive/MyDrive/GaitRect/GaitRect/GRF_F_V_PRO_right.csv') as f:\n",
        "    reader = csv.reader(f)\n",
        "    V_right = [row for row in reader]\n",
        "f.close()\n",
        "\n",
        "with open('/content/drive/MyDrive/GaitRect/GaitRect/GRF_F_AP_PRO_left.csv') as f:\n",
        "    reader = csv.reader(f)\n",
        "    AP_left = [row for row in reader]\n",
        "f.close()\n",
        "\n",
        "with open('/content/drive/MyDrive/GaitRect/GaitRect/GRF_F_AP_PRO_right.csv') as f:\n",
        "    reader = csv.reader(f)\n",
        "    AP_right = [row for row in reader]\n",
        "f.close()\n",
        "\n",
        "with open('/content/drive/MyDrive/GaitRect/GaitRect/GRF_F_ML_PRO_left.csv') as f:\n",
        "    reader = csv.reader(f)\n",
        "    ML_left = [row for row in reader]\n",
        "f.close()\n",
        "\n",
        "with open('/content/drive/MyDrive/GaitRect/GaitRect/GRF_F_ML_PRO_right.csv') as f:\n",
        "    reader = csv.reader(f)\n",
        "    ML_right = [row for row in reader]\n",
        "f.close()\n",
        "\n",
        "# with open('/content/drive/MyDrive/GaitRect/GaitRect/GRF_COP_AP_PRO_right.csv') as f:\n",
        "#     reader = csv.reader(f)\n",
        "#     COP_AP_right = [row for row in reader]\n",
        "# f.close()\n",
        "\n",
        "# with open('/content/drive/MyDrive/GaitRect/GaitRect/GRF_COP_AP_PRO_left.csv') as f:\n",
        "#     reader = csv.reader(f)\n",
        "#     COP_AP_left = [row for row in reader]\n",
        "# f.close()\n",
        "\n",
        "# with open('/content/drive/MyDrive/GaitRect/GaitRect/GRF_COP_ML_PRO_right.csv') as f:\n",
        "#     reader = csv.reader(f)\n",
        "#     COP_ML_right = [row for row in reader]\n",
        "# f.close()\n",
        "\n",
        "# with open('/content/drive/MyDrive/GaitRect/GaitRect/GRF_COP_ML_PRO_left.csv') as f:\n",
        "#     reader = csv.reader(f)\n",
        "#     COP_ML_left = [row for row in reader]\n",
        "# f.close()"
      ],
      "execution_count": 184,
      "outputs": []
    },
    {
      "cell_type": "code",
      "metadata": {
        "id": "RSPkDknwH7Gf"
      },
      "source": [
        "# データそれぞれの一番目の文字列を除去し、数字だけにした\n",
        "V_right_items = np.array(V_right, dtype=str)[0,::]\n",
        "V_right = np.array(V_right)[1:,::]\n",
        "V_right = np.array(V_right, dtype=float)\n",
        "\n",
        "V_left_items = np.array(V_left, dtype=str)[0,::]\n",
        "V_left = np.array(V_left)[1:,::]\n",
        "V_left = np.array(V_left, dtype=float)\n",
        "\n",
        "AP_right_items = np.array(AP_right, dtype=str)[0,::]\n",
        "AP_right = np.array(AP_right)[1:,::]\n",
        "AP_right = np.array(AP_right, dtype=float)\n",
        "\n",
        "AP_left_items = np.array(AP_left, dtype=str)[0,::]\n",
        "AP_left = np.array(AP_left)[1:,::]\n",
        "AP_left = np.array(AP_left, dtype=float)\n",
        "\n",
        "ML_right_items = np.array(ML_right, dtype=str)[0,::]\n",
        "ML_right = np.array(ML_right)[1:,::]\n",
        "ML_right = np.array(ML_right, dtype=float)\n",
        "\n",
        "ML_left_items = np.array(ML_left, dtype=str)[0,::]\n",
        "ML_left = np.array(ML_left)[1:,::]\n",
        "ML_left = np.array(ML_left, dtype=float) # ML_left.shape (75732, 104)"
      ],
      "execution_count": 185,
      "outputs": []
    },
    {
      "cell_type": "code",
      "metadata": {
        "id": "UWBFfQ6RTxAp"
      },
      "source": [
        "# GRFをV,AP,MLの順に横に並べる\n",
        "# AFFECTED_SIDEによって横に並ぶ順番を決める\n",
        "# trainとtestデータにわける\n",
        "\n",
        "V_left = V_left[::,3::]\n",
        "V_right = V_right[::,3::]\n",
        "AP_left = AP_left[::,3::]\n",
        "AP_right = AP_right[::,3::]\n",
        "ML_left = ML_left[::,3::]\n",
        "ML_right = ML_right[::,3::]"
      ],
      "execution_count": 186,
      "outputs": []
    },
    {
      "cell_type": "code",
      "metadata": {
        "id": "5T4S5lUn0gol"
      },
      "source": [
        "# upsampling 1000Hz\n",
        "from scipy import interpolate\n",
        "x_observed = range(101)\n",
        "# y_observed = V_left[0]\n",
        "resampled_V_left = []\n",
        "\n",
        "x_latent = np.linspace(min(x_observed), max(x_observed), 1000)\n",
        "\n",
        "# ip1 = [\"1次スプライン補間\", lambda x, y: interpolate.interp1d(x, y, kind=\"slinear\")]\n",
        "# ip2 = [\"2次スプライン補間\", lambda x, y: interpolate.interp1d(x, y, kind=\"quadratic\")]\n",
        "# ip3 = [\"3次スプライン補間\", lambda x, y: interpolate.interp1d(x, y, kind=\"cubic\")]\n",
        "\n",
        "# for method_name, method in [ip3]:\n",
        "#     print(method_name)\n",
        "#     fitted_curve = method(x_observed, y_observed)\n",
        "#     plt.scatter(x_observed, y_observed, label=\"observed\")\n",
        "#     y= fitted_curve(x_latent)\n",
        "#     plt.plot(x_latent, fitted_curve(x_latent), c=\"red\", label=\"fitted\")\n",
        "#     plt.grid()\n",
        "#     plt.legend()\n",
        "#     plt.show()\n",
        "\n",
        "for y_observed in V_left:\n",
        "  fitted_curve = interpolate.interp1d(x_observed, y_observed, kind=\"cubic\")\n",
        "  # plt.scatter(x_observed, y_observed, label=\"observed\")\n",
        "  resampled_V_left.append(fitted_curve(x_latent))\n",
        "  # plt.plot(x_latent, fitted_curve(x_latent), c=\"red\", label=\"fitted\")\n",
        "  # plt.grid()\n",
        "  # plt.legend()\n",
        "  # plt.show()\n",
        "\n",
        "resampled_V_left = np.array(resampled_V_left)"
      ],
      "execution_count": 208,
      "outputs": []
    },
    {
      "cell_type": "code",
      "metadata": {
        "colab": {
          "base_uri": "https://localhost:8080/"
        },
        "id": "rxxcJCgt2ZJp",
        "outputId": "547b2463-2a2d-4bda-870d-f2ba78c988a9"
      },
      "source": [
        "print(V_left[-1].max())\n",
        "print(y.max())\n",
        "print(V_left[-1].min())\n",
        "print(y.min())\n",
        "y = np.array(y).reshape(-1, 1)\n",
        "print(y.shape)"
      ],
      "execution_count": 207,
      "outputs": [
        {
          "output_type": "stream",
          "text": [
            "1.16871306383306\n",
            "1.1687992020754472\n",
            "0.0372662591679964\n",
            "0.0372662591679964\n",
            "(1000, 1)\n"
          ],
          "name": "stdout"
        }
      ]
    },
    {
      "cell_type": "code",
      "metadata": {
        "colab": {
          "base_uri": "https://localhost:8080/"
        },
        "id": "eQBKN3tZIIvY",
        "outputId": "a7caa0a4-a175-4095-ffeb-4f2ecc30228e"
      },
      "source": [
        "np.array(resampled_V_left).shape"
      ],
      "execution_count": 209,
      "outputs": [
        {
          "output_type": "execute_result",
          "data": {
            "text/plain": [
              "(75732, 1000)"
            ]
          },
          "metadata": {
            "tags": []
          },
          "execution_count": 209
        }
      ]
    },
    {
      "cell_type": "code",
      "metadata": {
        "id": "dDtrYpzT6t-o"
      },
      "source": [
        "mmscaler = preprocessing.MinMaxScaler(feature_range=(-1, 1), copy=True) # インスタンスの作成、活性化関数でtanhを使うのでfeature_range=(-1,1)\n",
        "mmscaler.fit(y)           # 最大・最小を計算\n",
        "y = mmscaler.transform(y) # 変換\n",
        "y = y.reshape(-1)"
      ],
      "execution_count": 164,
      "outputs": []
    },
    {
      "cell_type": "code",
      "metadata": {
        "id": "iQWtVrgZT0f8"
      },
      "source": [
        "# min_max normalizationする場合\n",
        "from sklearn import preprocessing\n",
        "mmscaler = preprocessing.MinMaxScaler(feature_range=(-1, 1), copy=True) # インスタンスの作成、活性化関数でtanhを使うのでfeature_range=(-1,1)\n",
        "# mmscaler = preprocessing.MinMaxScaler(feature_range=(0, 1), copy=True) \n",
        "\n",
        "mmscaler.fit(V_left)           # 最大・最小を計算\n",
        "V_left = mmscaler.transform(V_left) # 変換\n",
        "mmscaler.fit(V_right)           # 最大・最小を計算\n",
        "V_right = mmscaler.transform(V_right) # 変換\n",
        "\n",
        "mmscaler.fit(ML_left)           # 最大・最小を計算\n",
        "ML_left = mmscaler.transform(ML_left) # 変換\n",
        "mmscaler.fit(ML_right)           # 最大・最小を計算\n",
        "ML_right = mmscaler.transform(ML_right) # 変換\n",
        "\n",
        "mmscaler.fit(AP_left)           # 最大・最小を計算\n",
        "AP_left = mmscaler.transform(AP_left) # 変換\n",
        "mmscaler.fit(AP_right)           # 最大・最小を計算\n",
        "AP_right = mmscaler.transform(AP_right) # 変換"
      ],
      "execution_count": 107,
      "outputs": []
    },
    {
      "cell_type": "code",
      "metadata": {
        "colab": {
          "base_uri": "https://localhost:8080/",
          "height": 578
        },
        "id": "9sM7oXH7Xgc_",
        "outputId": "f0b58fcc-fc53-4135-e448-865f130d55d4"
      },
      "source": [
        "j = range(101)\n",
        "plt.title('vGRF')\n",
        "plt.grid(True)\n",
        "# plt.plot(j, V_right[0], label=\"vGRF_right\")\n",
        "plt.plot(j, V_left[0], label=\"vGRF_left\")\n",
        "plt.legend(loc='best')\n",
        "plt.show()\n",
        "\n",
        "import numpy as np\n",
        "from tqdm import tqdm\n",
        "import matplotlib.pyplot as plt\n",
        "\n",
        "# STFT (s: signal(1D-array), Lf: length of frame(window), noverlap: number of overlap)\n",
        "def STFT(s, Lf, noverlap=None):\n",
        "    if noverlap==None:\n",
        "        noverlap = Lf//2\n",
        "    l = s.shape[0]\n",
        "    win = np.hanning(Lf)\n",
        "    Mf = Lf//2 + 1\n",
        "    Nf = int(np.ceil((l-noverlap)/(Lf-noverlap)))-1\n",
        "    S = np.empty([Mf, Nf], dtype=np.complex128)\n",
        "    for n in tqdm(range(Nf)):\n",
        "        S[:,n] = np.fft.rfft(s[(Lf-noverlap)*n:(Lf-noverlap)*n+Lf] * win, n=Lf, axis=0)\n",
        "    return S\n",
        "\n",
        "# plot spectrogram (fs: sampling frequency, s: signal(1D-array), Lf: length of frame(window), noverlap: number of overlap)\n",
        "def plot_spectrogram(fs, s,  Lf, noverlap=None):\n",
        "    S = STFT(s, Lf, noverlap)\n",
        "    S = S + 1e-18\n",
        "    P = 20 * np.log10(np.abs(S))\n",
        "    P = P - np.max(P) # normalization\n",
        "    vmin = -100\n",
        "    if np.min(P) > vmin:\n",
        "        vmin = np.min(P)\n",
        "    m = np.linspace(0, s.shape[0]/fs, num=P.shape[1])\n",
        "    k = np.linspace(0, fs/2, num=P.shape[0])\n",
        "    plt.figure()\n",
        "    plt.pcolormesh(m, k, P, cmap = 'jet', vmin=-100, vmax=0)\n",
        "    plt.title(\"Spectrogram of Sound\")\n",
        "    plt.xlabel(\"time[s]\")\n",
        "    plt.ylabel(\"frequency[Hz]\")\n",
        "    plt.colorbar()\n",
        "    plt.tight_layout()\n",
        "    plt.show()\n",
        "\n",
        "Lf = 25\n",
        "noverlap = None\n",
        "s = y\n",
        "plot_spectrogram(1000, s, Lf, noverlap)"
      ],
      "execution_count": 177,
      "outputs": [
        {
          "output_type": "display_data",
          "data": {
            "image/png": "[encoded data removed]",
            "text/plain": [
              "<Figure size 432x288 with 1 Axes>"
            ]
          },
          "metadata": {
            "tags": [],
            "needs_background": "light"
          }
        },
        {
          "output_type": "stream",
          "text": [
            "100%|██████████| 75/75 [00:00<00:00, 26419.15it/s]\n"
          ],
          "name": "stderr"
        },
        {
          "output_type": "display_data",
          "data": {
            "image/png": "[encoded data removed]",
            "text/plain": [
              "<Figure size 432x288 with 2 Axes>"
            ]
          },
          "metadata": {
            "tags": [],
            "needs_background": "light"
          }
        }
      ]
    }
  ]
}