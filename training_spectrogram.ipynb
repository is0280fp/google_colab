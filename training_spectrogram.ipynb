{
  "nbformat": 4,
  "nbformat_minor": 0,
  "metadata": {
    "accelerator": "GPU",
    "colab": {
      "name": "training_spectrogram.ipynb",
      "provenance": [],
      "collapsed_sections": [],
      "mount_file_id": "1ijdXNpxuZHp7dm0zBtwiR-ocqDlg6IYg",
      "authorship_tag": "ABX9TyNvgUZzYJ9bfxhz1h5pDDiB",
      "include_colab_link": true
    },
    "kernelspec": {
      "display_name": "Python 3",
      "name": "python3"
    }
  },
  "cells": [
    {
      "cell_type": "markdown",
      "metadata": {
        "id": "view-in-github",
        "colab_type": "text"
      },
      "source": [
        "<a href=\"https://colab.research.google.com/github/is0280fp/google_colab/blob/use_image_as_input/training_spectrogram.ipynb\" target=\"_parent\"><img src=\"https://colab.research.google.com/assets/colab-badge.svg\" alt=\"Open In Colab\"/></a>"
      ]
    },
    {
      "cell_type": "code",
      "metadata": {
        "colab": {
          "base_uri": "https://localhost:8080/"
        },
        "id": "zNwUIy5fsXtu",
        "outputId": "df4bf7e7-ec25-41a2-b0b5-084568d8739d"
      },
      "source": [
        "from google.colab import drive \n",
        "drive.mount('/content/drive')"
      ],
      "execution_count": 58,
      "outputs": [
        {
          "output_type": "stream",
          "text": [
            "Drive already mounted at /content/drive; to attempt to forcibly remount, call drive.mount(\"/content/drive\", force_remount=True).\n"
          ],
          "name": "stdout"
        }
      ]
    },
    {
      "cell_type": "code",
      "metadata": {
        "id": "Wx9ajZC-pFYu"
      },
      "source": [
        "# ラベルの読み込み\n",
        "import pickle\n",
        "# with open(\"/content/drive/MyDrive/pickle/label_five_class.pickle\", mode=\"rb\") as f:\n",
        "#    label = pickle.load(f)\n",
        "# f.close()\n",
        "with open(\"/content/drive/MyDrive/pickle/label_HC_vs_GD_class.pickle\", mode=\"rb\") as f:\n",
        "   label = pickle.load(f)\n",
        "f.close()"
      ],
      "execution_count": 59,
      "outputs": []
    },
    {
      "cell_type": "code",
      "metadata": {
        "colab": {
          "base_uri": "https://localhost:8080/"
        },
        "id": "VBQp7qm8Z4Jw",
        "outputId": "e84d9906-4c97-4686-cd87-73d49c576564"
      },
      "source": [
        "# データセット内訳チェック\n",
        "import numpy as np\n",
        "\n",
        "print(np.array(np.where(label == 0)).shape)\n",
        "print(np.array(np.where(label == 1)).shape)\n",
        "print(np.array(np.where(label == 2)).shape)\n",
        "print(np.array(np.where(label == 3)).shape)\n",
        "print(np.array(np.where(label == 4)).shape)\n",
        "\n",
        "# NaNチェック\n",
        "print(np.isnan(label).sum())"
      ],
      "execution_count": 60,
      "outputs": [
        {
          "output_type": "stream",
          "text": [
            "(1, 7755)\n",
            "(1, 67977)\n",
            "(1, 0)\n",
            "(1, 0)\n",
            "(1, 0)\n",
            "0\n"
          ],
          "name": "stdout"
        }
      ]
    },
    {
      "cell_type": "code",
      "metadata": {
        "colab": {
          "base_uri": "https://localhost:8080/"
        },
        "id": "S-KPR8cl7-ul",
        "outputId": "ed0c85c8-40df-48bd-973e-5d6ef3654656"
      },
      "source": [
        "label.shape"
      ],
      "execution_count": 4,
      "outputs": [
        {
          "output_type": "execute_result",
          "data": {
            "text/plain": [
              "(75732,)"
            ]
          },
          "metadata": {
            "tags": []
          },
          "execution_count": 4
        }
      ]
    },
    {
      "cell_type": "code",
      "metadata": {
        "colab": {
          "base_uri": "https://localhost:8080/"
        },
        "id": "MdXgcprG6dXD",
        "outputId": "a838ff1b-54dc-4697-af17-e90b604d4712"
      },
      "source": [
        "import tensorflow as tf\n",
        "from tensorflow.keras import optimizers, regularizers\n",
        "from tensorflow.keras.models import Sequential\n",
        "from tensorflow.keras.layers import Conv2D, MaxPooling2D, LSTM, InputLayer, Dense, Dropout, Activation, Flatten, concatenate, Conv1D, MaxPooling1D, Input, Reshape, Bidirectional, GlobalAveragePooling2D\n",
        "from keras.models import Model\n",
        "from tensorflow.keras.callbacks import TensorBoard, LearningRateScheduler\n",
        "import time\n",
        "import math\n",
        "from keras.callbacks import ModelCheckpoint, EarlyStopping\n",
        "from sklearn.metrics import confusion_matrix, classification_report, plot_confusion_matrix\n",
        "import seaborn as sns\n",
        "from sklearn.model_selection import train_test_split\n",
        "import keras\n",
        "from PIL import Image\n",
        "import numpy as np\n",
        "\n",
        "# NAME = \"HC-vs-C-LSTM_2class\"\n",
        "# NAME = \"HC-vs-A-LSTM_2class\"\n",
        "# NAME = \"HC-vs-K-LSTM_2class\"\n",
        "# NAME = \"HC-vs-H-LSTM_2class\"\n",
        "# NAME = \"HC-vs-GDs-LSTM_2class\"\n",
        "# NAME = \"H-vs-K-vs-A-vs-C-LSTM_4class\"\n",
        "#NAME = \"HC-vs-H-vs-K-vs-A-vs-C-LSTM_5class\"\n",
        "# NAME = \"H-vs-K-vs-A-vs-C-CNN_4class\"\n",
        "# NAME = \"HC-vs-Patients-CNN_5class\"\n",
        "NAME = \"HC-vs-GDs-CNN_2class\"\n",
        "# NAME = \"HC-vs-H-CNN_2class\"\n",
        "# NAME = \"HC-vs-K-CNN_2class\"\n",
        "# NAME = \"HC-vs-A-CNN_2class\"\n",
        "# NAME = \"HC-vs-C-CNN_2class\"\n",
        "\n",
        "#-----------------------------------初期設定-------------------------------------------\n",
        "# tensorboardのログ\n",
        "tensorboard = TensorBoard(log_dir=\"logs/{}\".format(NAME))\n",
        "\n",
        "# 学習打ち切り目安\n",
        "early_stopping = EarlyStopping(\n",
        "                        monitor='val_loss',\n",
        "                        min_delta=0.0,\n",
        "                        patience=10,\n",
        "                )\n",
        "\n",
        "# checkpointの設定\n",
        "checkpoint = ModelCheckpoint(\n",
        "                    filepath=\"saved_model/{}\".format(NAME),\n",
        "                    monitor='val_loss',\n",
        "                    save_best_only=True,\n",
        "                    period=1,\n",
        "                )\n",
        "\n",
        "# weightの初期化\n",
        "# initializer = tf.initializers.he_normal()\n",
        "\n",
        "#-----------------------------------学習モデル作成-------------------------------------------\n",
        "\n",
        "\n",
        "#-----------------------------------Optimizer-------------------------------------------\n",
        "# Optimizer: 多クラス分類+Adam\n",
        "# model.compile(loss='sparse_categorical_crossentropy', \n",
        "#               optimizer= optimizers.Adam(lr=0.002, beta_1= 0.9, beta_2= 0.999),\n",
        "#               metrics=['accuracy'],\n",
        "#               )\n",
        "\n",
        "# Optimizer: 多クラス分類+SGD\n",
        "# model.compile(loss='sparse_categorical_crossentropy',\n",
        "#               optimizer= optimizers.SGD(lr=5e-2, decay=1e-2),\n",
        "#               metrics=['accuracy'],\n",
        "#               )\n",
        "\n",
        "# Optimizer: 2クラス分類\n",
        "# model.compile(loss='binary_crossentropy',\n",
        "#               optimizer= optimizers.SGD(lr=5e-3),\n",
        "#               metrics=['accuracy'],\n",
        "#               )\n",
        "\n",
        "#-----------------------------------summer出力-------------------------------------------\n",
        "# model.summary()\n",
        "\n",
        "#-----------------------------------学習-------------------------------------------\n",
        "# model.fit(X, train_label,\n",
        "#           batch_size=5,\n",
        "#           epochs=1000,\n",
        "#           validation_split=0.2,\n",
        "#           callbacks=[tensorboard])\n",
        "\n",
        "# training parameters = kernel_size * (1Dだったらここは1, 2Dだったらここはkernel_size) * output_channels + num_bias\n",
        "# 216 = 8 * 1 * 24 + 24"
      ],
      "execution_count": 5,
      "outputs": [
        {
          "output_type": "stream",
          "text": [
            "WARNING:tensorflow:`period` argument is deprecated. Please use `save_freq` to specify the frequency in number of batches seen.\n"
          ],
          "name": "stdout"
        }
      ]
    },
    {
      "cell_type": "code",
      "metadata": {
        "id": "K9Jgh1RXNzjC"
      },
      "source": [
        "# 入力データの加工\n",
        "\n",
        "def conv_binary(number):\n",
        "  V_left_filename = '/content/spectrogram_data/V_left/{}.png'.format(number)\n",
        "  V_right_filename = '/content/spectrogram_data/V_right/{}.png'.format(number)\n",
        "  V_left_img = Image.open(V_left_filename)\n",
        "  V_right_img = Image.open(V_right_filename)\n",
        "  V_left_img = V_left_img.resize(size=(224, 112), resample=Image.BICUBIC)\n",
        "  V_right_img = V_right_img.resize(size=(224, 112), resample=Image.BICUBIC)\n",
        "  V_left_rgb = np.array(V_left_img.convert('RGB')).astype('float32')\n",
        "  V_right_rgb = np.array(V_right_img.convert('RGB')).astype('float32')\n",
        "  V_left_rgb /= 255.0\n",
        "  V_right_rgb /= 255.0\n",
        "  # # numpy配列の取得\n",
        "  img_array = np.concatenate([V_left_rgb, V_right_rgb], axis=0)\n",
        "  return img_array"
      ],
      "execution_count": 7,
      "outputs": []
    },
    {
      "cell_type": "code",
      "metadata": {
        "colab": {
          "base_uri": "https://localhost:8080/",
          "height": 129
        },
        "id": "n1Xk22NeUknx",
        "outputId": "2b1a658f-34d6-4209-982f-f64d54ef85ea"
      },
      "source": [
        "number=1\n",
        "V_left_filename = '/content/spectrogram_data/V_left/{}.png'.format(number)\n",
        "V_right_filename = '/content/spectrogram_data/V_right/{}.png'.format(number)\n",
        "V_left_img = Image.open(V_left_filename)\n",
        "V_right_img = Image.open(V_right_filename)\n",
        "V_left_img = V_left_img.resize(size=(224, 112), resample=Image.BICUBIC)\n",
        "V_right_img = V_right_img.resize(size=(224, 112), resample=Image.BICUBIC)\n",
        "# V_left_rgb = np.array(V_left_img.convert('RGB')).astype('float32')\n",
        "# V_right_rgb = np.array(V_right_img.convert('RGB')).astype('float32')\n",
        "# V_left_rgb /= 255.0\n",
        "# V_right_rgb /= 255.0\n",
        "# # # numpy配列の取得\n",
        "# img_array = np.concatenate([V_left_rgb, V_right_rgb], axis=0)\n",
        "V_left_img\n",
        "V_right_img"
      ],
      "execution_count": 24,
      "outputs": [
        {
          "output_type": "execute_result",
          "data": {
            "image/png": "[encoded data removed]",
            "text/plain": [
              "<PIL.Image.Image image mode=RGBA size=224x112 at 0x7F42825C8780>"
            ]
          },
          "metadata": {
            "tags": []
          },
          "execution_count": 24
        }
      ]
    },
    {
      "cell_type": "code",
      "metadata": {
        "colab": {
          "base_uri": "https://localhost:8080/"
        },
        "id": "v8mAXJErXplL",
        "outputId": "a2e4fbd2-3b17-4084-b7ea-3e303025e2e0"
      },
      "source": [
        "np.array(V_left_img).shape\n",
        "np.concatenate([np.array(V_left_img), np.array(V_right_img)], axis=0).shape"
      ],
      "execution_count": 26,
      "outputs": [
        {
          "output_type": "execute_result",
          "data": {
            "text/plain": [
              "(224, 224, 4)"
            ]
          },
          "metadata": {
            "tags": []
          },
          "execution_count": 26
        }
      ]
    },
    {
      "cell_type": "code",
      "metadata": {
        "colab": {
          "base_uri": "https://localhost:8080/",
          "height": 305
        },
        "id": "xLNRo8UNU522",
        "outputId": "ee1bcfdf-055a-4dd5-c17a-375a8edc11ce"
      },
      "source": [
        "number=1\n",
        "V_left_filename = '/content/spectrogram_data/V_left/{}.png'.format(number)\n",
        "V_right_filename = '/content/spectrogram_data/V_right/{}.png'.format(number)\n",
        "V_left_img = Image.open(V_left_filename)\n",
        "V_right_img = Image.open(V_right_filename)\n",
        "V_left_img = V_left_img.resize(size=(576, 288), resample=Image.BICUBIC)\n",
        "V_right_img = V_right_img.resize(size=(576, 288), resample=Image.BICUBIC)\n",
        "# V_left_rgb = np.array(V_left_img.convert('RGB')).astype('float32')\n",
        "# V_right_rgb = np.array(V_right_img.convert('RGB')).astype('float32')\n",
        "# V_left_rgb /= 255.0\n",
        "# V_right_rgb /= 255.0\n",
        "# # # numpy配列の取得\n",
        "# img_array = np.concatenate([V_left_rgb, V_right_rgb], axis=0)\n",
        "V_left_img\n",
        "V_right_img"
      ],
      "execution_count": 17,
      "outputs": [
        {
          "output_type": "execute_result",
          "data": {
            "image/png": "[encoded data removed]",
            "text/plain": [
              "<PIL.Image.Image image mode=RGBA size=576x288 at 0x7F41F8104978>"
            ]
          },
          "metadata": {
            "tags": []
          },
          "execution_count": 17
        }
      ]
    },
    {
      "cell_type": "code",
      "metadata": {
        "id": "7hdvubAwGfJW"
      },
      "source": [
        "def get_batch(batch_size, X, Y):\n",
        "    \"\"\"\n",
        "    batchを取得する関数\n",
        "    \"\"\"\n",
        "    SIZE = len(X)\n",
        "    # n_batchs\n",
        "    n_batchs = SIZE//batch_size\n",
        "    # for でyield\n",
        "    i = 0\n",
        "    while ((i+batch_size) < SIZE):\n",
        "        # print(\"doing\", i, \"/\", n_batchs)\n",
        "        # Y_batch = Y[(i * n_batchs):(i * n_batchs + batch_size)]\n",
        "        Y_batch = Y[i:(i + batch_size)]\n",
        "        \n",
        "        #あるbatchのfilenameの配列を持っておく\n",
        "        # X_batch_name = X[(i * n_batchs):(i * n_batchs + batch_size)]\n",
        "        X_batch_name = X[i:(i + batch_size)]\n",
        "\n",
        "        # filenameにしたがってバッチのtensorを構築\n",
        "        X_batch = np.array([conv_binary(file) for file in X_batch_name])\n",
        "        \n",
        "        # これで(batch_size, 28, 28, 1)のtrainのテンソルが作られる\n",
        "        i += 1\n",
        "        yield X_batch, Y_batch"
      ],
      "execution_count": 8,
      "outputs": []
    },
    {
      "cell_type": "code",
      "metadata": {
        "colab": {
          "base_uri": "https://localhost:8080/",
          "height": 1000
        },
        "id": "gYOjlY_bVlA5",
        "outputId": "c6f76f46-9297-43b3-f5f7-7dbe667acf55"
      },
      "source": [
        "from keras.models import Model\n",
        "from keras.layers import Dense, GlobalAveragePooling2D,Input, Dropout\n",
        "from keras.applications.vgg16 import VGG16\n",
        "from keras.preprocessing.image import ImageDataGenerator\n",
        "from keras.optimizers import SGD\n",
        "from keras.callbacks import CSVLogger\n",
        "from sklearn.model_selection import StratifiedKFold\n",
        "\n",
        "n_categories=2\n",
        "N_EPOCHS = 1000\n",
        "BATCH_SIZE = 50\n",
        "\n",
        "# acquire the .png name\n",
        "TRAINS = np.array(range(len(label)))\n",
        "y = label\n",
        "# # split test and train\n",
        "# X_train, X_test, Y_train, Y_test = train_test_split(\n",
        "#     TRAINS, y, test_size=0.1, random_state=42)\n",
        "\n",
        "# split test and the others\n",
        "X_train_and_val, X_test, Y_train_and_val, Y_test = train_test_split(\n",
        "    TRAINS, y, test_size=0.1, random_state=42)\n",
        "\n",
        "# split k-folds (その中の一つのfoldがvalidationのためのtestデータとなる)\n",
        "skf = StratifiedKFold(n_splits=10, shuffle=True, random_state=42)\n",
        "for X_index, Y_index in skf.split(X_train_and_val, Y_train_and_val):\n",
        "    # print(\"train_index:\", train_index, \"val_index:\", val_index)\n",
        "    # print(\"train data\", X_train_and_val[X_index])\n",
        "    # print(\"train label\", Y_train_and_val[X_index])\n",
        "    # print(\"test data\", X_train_and_val[Y_index])\n",
        "    # print(\"test label\", Y_train_and_val[Y_index])\n",
        "\n",
        "    train_data = X_train_and_val[X_index]\n",
        "    train_label = Y_train_and_val[X_index]\n",
        "    test_data = X_train_and_val[Y_index]\n",
        "    test_label = Y_train_and_val[Y_index]\n",
        "\n",
        "    steps_per_epoch=len(X_train_and_val[X_index])//BATCH_SIZE \n",
        "    validation_steps=len(X_train_and_val[Y_index])//BATCH_SIZE \n",
        "\n",
        "training_generator = get_batch(BATCH_SIZE, train_data, train_label)\n",
        "validation_generator = get_batch(BATCH_SIZE, test_data, test_label)\n",
        "\n",
        "vgg_model = VGG16(weights='imagenet',include_top=False, input_shape=(224, 224, 3))\n",
        "\n",
        "#add new layers instead of FC networks\n",
        "x=vgg_model.output\n",
        "x=Flatten()(x) # Flatten dimensions to for use in FC layers\n",
        "x=Dense(256, activation='relu')(x)\n",
        "x=Dropout(0.5)(x) # Dropout layer to reduce overfitting\n",
        "# x = Dense(256, activation='relu')(x)\n",
        "x = Dense(n_categories, activation='softmax')(x) # Softmax for multiclass\n",
        "transfer_model = Model(inputs=vgg_model.input, outputs=x)\n",
        "\n",
        "#fix weights before VGG16 14layers\n",
        "for layer in vgg_model.layers[:15]:\n",
        "    layer.trainable=False\n",
        "\n",
        "transfer_model.compile(optimizer=optimizers.Adam(lr=1e-3),\n",
        "              loss='sparse_categorical_crossentropy',\n",
        "              metrics=['accuracy'])\n",
        "\n",
        "transfer_model.summary()\n",
        "\n",
        "hist=transfer_model.fit_generator(\n",
        "    generator=training_generator,\n",
        "    validation_data=validation_generator,\n",
        "    steps_per_epoch=steps_per_epoch,\n",
        "    validation_steps=validation_steps,\n",
        "    epochs=N_EPOCHS\n",
        "    )\n",
        "\n",
        "#save weights\n",
        "transfer_model.save(file_name+'.h5')"
      ],
      "execution_count": 17,
      "outputs": [
        {
          "output_type": "stream",
          "text": [
            "Downloading data from https://storage.googleapis.com/tensorflow/keras-applications/vgg16/vgg16_weights_tf_dim_ordering_tf_kernels_notop.h5\n",
            "58892288/58889256 [==============================] - 0s 0us/step\n",
            "Model: \"model\"\n",
            "_________________________________________________________________\n",
            "Layer (type)                 Output Shape              Param #   \n",
            "=================================================================\n",
            "input_1 (InputLayer)         [(None, 224, 224, 3)]     0         \n",
            "_________________________________________________________________\n",
            "block1_conv1 (Conv2D)        (None, 224, 224, 64)      1792      \n",
            "_________________________________________________________________\n",
            "block1_conv2 (Conv2D)        (None, 224, 224, 64)      36928     \n",
            "_________________________________________________________________\n",
            "block1_pool (MaxPooling2D)   (None, 112, 112, 64)      0         \n",
            "_________________________________________________________________\n",
            "block2_conv1 (Conv2D)        (None, 112, 112, 128)     73856     \n",
            "_________________________________________________________________\n",
            "block2_conv2 (Conv2D)        (None, 112, 112, 128)     147584    \n",
            "_________________________________________________________________\n",
            "block2_pool (MaxPooling2D)   (None, 56, 56, 128)       0         \n",
            "_________________________________________________________________\n",
            "block3_conv1 (Conv2D)        (None, 56, 56, 256)       295168    \n",
            "_________________________________________________________________\n",
            "block3_conv2 (Conv2D)        (None, 56, 56, 256)       590080    \n",
            "_________________________________________________________________\n",
            "block3_conv3 (Conv2D)        (None, 56, 56, 256)       590080    \n",
            "_________________________________________________________________\n",
            "block3_pool (MaxPooling2D)   (None, 28, 28, 256)       0         \n",
            "_________________________________________________________________\n",
            "block4_conv1 (Conv2D)        (None, 28, 28, 512)       1180160   \n",
            "_________________________________________________________________\n",
            "block4_conv2 (Conv2D)        (None, 28, 28, 512)       2359808   \n",
            "_________________________________________________________________\n",
            "block4_conv3 (Conv2D)        (None, 28, 28, 512)       2359808   \n",
            "_________________________________________________________________\n",
            "block4_pool (MaxPooling2D)   (None, 14, 14, 512)       0         \n",
            "_________________________________________________________________\n",
            "block5_conv1 (Conv2D)        (None, 14, 14, 512)       2359808   \n",
            "_________________________________________________________________\n",
            "block5_conv2 (Conv2D)        (None, 14, 14, 512)       2359808   \n",
            "_________________________________________________________________\n",
            "block5_conv3 (Conv2D)        (None, 14, 14, 512)       2359808   \n",
            "_________________________________________________________________\n",
            "block5_pool (MaxPooling2D)   (None, 7, 7, 512)         0         \n",
            "_________________________________________________________________\n",
            "flatten (Flatten)            (None, 25088)             0         \n",
            "_________________________________________________________________\n",
            "dense (Dense)                (None, 256)               6422784   \n",
            "_________________________________________________________________\n",
            "dropout (Dropout)            (None, 256)               0         \n",
            "_________________________________________________________________\n",
            "dense_1 (Dense)              (None, 2)                 514       \n",
            "=================================================================\n",
            "Total params: 21,137,986\n",
            "Trainable params: 13,502,722\n",
            "Non-trainable params: 7,635,264\n",
            "_________________________________________________________________\n"
          ],
          "name": "stdout"
        },
        {
          "output_type": "stream",
          "text": [
            "/usr/local/lib/python3.6/dist-packages/tensorflow/python/keras/engine/training.py:1844: UserWarning: `Model.fit_generator` is deprecated and will be removed in a future version. Please use `Model.fit`, which supports generators.\n",
            "  warnings.warn('`Model.fit_generator` is deprecated and '\n"
          ],
          "name": "stderr"
        },
        {
          "output_type": "stream",
          "text": [
            "Epoch 1/1000\n",
            "1226/1226 [==============================] - 757s 610ms/step - loss: 0.2409 - accuracy: 0.9354 - val_loss: 0.4853 - val_accuracy: 0.8718\n",
            "Epoch 2/1000\n",
            " 234/1226 [====>.........................] - ETA: 8:53 - loss: 0.0452 - accuracy: 0.9912"
          ],
          "name": "stdout"
        },
        {
          "output_type": "error",
          "ename": "KeyboardInterrupt",
          "evalue": "ignored",
          "traceback": [
            "\u001b[0;31m---------------------------------------------------------------------------\u001b[0m",
            "\u001b[0;31mKeyboardInterrupt\u001b[0m                         Traceback (most recent call last)",
            "\u001b[0;32m<ipython-input-17-d2dd09732695>\u001b[0m in \u001b[0;36m<module>\u001b[0;34m()\u001b[0m\n\u001b[1;32m     68\u001b[0m     \u001b[0msteps_per_epoch\u001b[0m\u001b[0;34m=\u001b[0m\u001b[0msteps_per_epoch\u001b[0m\u001b[0;34m,\u001b[0m\u001b[0;34m\u001b[0m\u001b[0;34m\u001b[0m\u001b[0m\n\u001b[1;32m     69\u001b[0m     \u001b[0mvalidation_steps\u001b[0m\u001b[0;34m=\u001b[0m\u001b[0mvalidation_steps\u001b[0m\u001b[0;34m,\u001b[0m\u001b[0;34m\u001b[0m\u001b[0;34m\u001b[0m\u001b[0m\n\u001b[0;32m---> 70\u001b[0;31m     \u001b[0mepochs\u001b[0m\u001b[0;34m=\u001b[0m\u001b[0mN_EPOCHS\u001b[0m\u001b[0;34m\u001b[0m\u001b[0;34m\u001b[0m\u001b[0m\n\u001b[0m\u001b[1;32m     71\u001b[0m     )\n\u001b[1;32m     72\u001b[0m \u001b[0;34m\u001b[0m\u001b[0m\n",
            "\u001b[0;32m/usr/local/lib/python3.6/dist-packages/tensorflow/python/keras/engine/training.py\u001b[0m in \u001b[0;36mfit_generator\u001b[0;34m(self, generator, steps_per_epoch, epochs, verbose, callbacks, validation_data, validation_steps, validation_freq, class_weight, max_queue_size, workers, use_multiprocessing, shuffle, initial_epoch)\u001b[0m\n\u001b[1;32m   1859\u001b[0m         \u001b[0muse_multiprocessing\u001b[0m\u001b[0;34m=\u001b[0m\u001b[0muse_multiprocessing\u001b[0m\u001b[0;34m,\u001b[0m\u001b[0;34m\u001b[0m\u001b[0;34m\u001b[0m\u001b[0m\n\u001b[1;32m   1860\u001b[0m         \u001b[0mshuffle\u001b[0m\u001b[0;34m=\u001b[0m\u001b[0mshuffle\u001b[0m\u001b[0;34m,\u001b[0m\u001b[0;34m\u001b[0m\u001b[0;34m\u001b[0m\u001b[0m\n\u001b[0;32m-> 1861\u001b[0;31m         initial_epoch=initial_epoch)\n\u001b[0m\u001b[1;32m   1862\u001b[0m \u001b[0;34m\u001b[0m\u001b[0m\n\u001b[1;32m   1863\u001b[0m   def evaluate_generator(self,\n",
            "\u001b[0;32m/usr/local/lib/python3.6/dist-packages/tensorflow/python/keras/engine/training.py\u001b[0m in \u001b[0;36mfit\u001b[0;34m(self, x, y, batch_size, epochs, verbose, callbacks, validation_split, validation_data, shuffle, class_weight, sample_weight, initial_epoch, steps_per_epoch, validation_steps, validation_batch_size, validation_freq, max_queue_size, workers, use_multiprocessing)\u001b[0m\n\u001b[1;32m   1098\u001b[0m                 _r=1):\n\u001b[1;32m   1099\u001b[0m               \u001b[0mcallbacks\u001b[0m\u001b[0;34m.\u001b[0m\u001b[0mon_train_batch_begin\u001b[0m\u001b[0;34m(\u001b[0m\u001b[0mstep\u001b[0m\u001b[0;34m)\u001b[0m\u001b[0;34m\u001b[0m\u001b[0;34m\u001b[0m\u001b[0m\n\u001b[0;32m-> 1100\u001b[0;31m               \u001b[0mtmp_logs\u001b[0m \u001b[0;34m=\u001b[0m \u001b[0mself\u001b[0m\u001b[0;34m.\u001b[0m\u001b[0mtrain_function\u001b[0m\u001b[0;34m(\u001b[0m\u001b[0miterator\u001b[0m\u001b[0;34m)\u001b[0m\u001b[0;34m\u001b[0m\u001b[0;34m\u001b[0m\u001b[0m\n\u001b[0m\u001b[1;32m   1101\u001b[0m               \u001b[0;32mif\u001b[0m \u001b[0mdata_handler\u001b[0m\u001b[0;34m.\u001b[0m\u001b[0mshould_sync\u001b[0m\u001b[0;34m:\u001b[0m\u001b[0;34m\u001b[0m\u001b[0;34m\u001b[0m\u001b[0m\n\u001b[1;32m   1102\u001b[0m                 \u001b[0mcontext\u001b[0m\u001b[0;34m.\u001b[0m\u001b[0masync_wait\u001b[0m\u001b[0;34m(\u001b[0m\u001b[0;34m)\u001b[0m\u001b[0;34m\u001b[0m\u001b[0;34m\u001b[0m\u001b[0m\n",
            "\u001b[0;32m/usr/local/lib/python3.6/dist-packages/tensorflow/python/eager/def_function.py\u001b[0m in \u001b[0;36m__call__\u001b[0;34m(self, *args, **kwds)\u001b[0m\n\u001b[1;32m    826\u001b[0m     \u001b[0mtracing_count\u001b[0m \u001b[0;34m=\u001b[0m \u001b[0mself\u001b[0m\u001b[0;34m.\u001b[0m\u001b[0mexperimental_get_tracing_count\u001b[0m\u001b[0;34m(\u001b[0m\u001b[0;34m)\u001b[0m\u001b[0;34m\u001b[0m\u001b[0;34m\u001b[0m\u001b[0m\n\u001b[1;32m    827\u001b[0m     \u001b[0;32mwith\u001b[0m \u001b[0mtrace\u001b[0m\u001b[0;34m.\u001b[0m\u001b[0mTrace\u001b[0m\u001b[0;34m(\u001b[0m\u001b[0mself\u001b[0m\u001b[0;34m.\u001b[0m\u001b[0m_name\u001b[0m\u001b[0;34m)\u001b[0m \u001b[0;32mas\u001b[0m \u001b[0mtm\u001b[0m\u001b[0;34m:\u001b[0m\u001b[0;34m\u001b[0m\u001b[0;34m\u001b[0m\u001b[0m\n\u001b[0;32m--> 828\u001b[0;31m       \u001b[0mresult\u001b[0m \u001b[0;34m=\u001b[0m \u001b[0mself\u001b[0m\u001b[0;34m.\u001b[0m\u001b[0m_call\u001b[0m\u001b[0;34m(\u001b[0m\u001b[0;34m*\u001b[0m\u001b[0margs\u001b[0m\u001b[0;34m,\u001b[0m \u001b[0;34m**\u001b[0m\u001b[0mkwds\u001b[0m\u001b[0;34m)\u001b[0m\u001b[0;34m\u001b[0m\u001b[0;34m\u001b[0m\u001b[0m\n\u001b[0m\u001b[1;32m    829\u001b[0m       \u001b[0mcompiler\u001b[0m \u001b[0;34m=\u001b[0m \u001b[0;34m\"xla\"\u001b[0m \u001b[0;32mif\u001b[0m \u001b[0mself\u001b[0m\u001b[0;34m.\u001b[0m\u001b[0m_experimental_compile\u001b[0m \u001b[0;32melse\u001b[0m \u001b[0;34m\"nonXla\"\u001b[0m\u001b[0;34m\u001b[0m\u001b[0;34m\u001b[0m\u001b[0m\n\u001b[1;32m    830\u001b[0m       \u001b[0mnew_tracing_count\u001b[0m \u001b[0;34m=\u001b[0m \u001b[0mself\u001b[0m\u001b[0;34m.\u001b[0m\u001b[0mexperimental_get_tracing_count\u001b[0m\u001b[0;34m(\u001b[0m\u001b[0;34m)\u001b[0m\u001b[0;34m\u001b[0m\u001b[0;34m\u001b[0m\u001b[0m\n",
            "\u001b[0;32m/usr/local/lib/python3.6/dist-packages/tensorflow/python/eager/def_function.py\u001b[0m in \u001b[0;36m_call\u001b[0;34m(self, *args, **kwds)\u001b[0m\n\u001b[1;32m    853\u001b[0m       \u001b[0;31m# In this case we have created variables on the first call, so we run the\u001b[0m\u001b[0;34m\u001b[0m\u001b[0;34m\u001b[0m\u001b[0;34m\u001b[0m\u001b[0m\n\u001b[1;32m    854\u001b[0m       \u001b[0;31m# defunned version which is guaranteed to never create variables.\u001b[0m\u001b[0;34m\u001b[0m\u001b[0;34m\u001b[0m\u001b[0;34m\u001b[0m\u001b[0m\n\u001b[0;32m--> 855\u001b[0;31m       \u001b[0;32mreturn\u001b[0m \u001b[0mself\u001b[0m\u001b[0;34m.\u001b[0m\u001b[0m_stateless_fn\u001b[0m\u001b[0;34m(\u001b[0m\u001b[0;34m*\u001b[0m\u001b[0margs\u001b[0m\u001b[0;34m,\u001b[0m \u001b[0;34m**\u001b[0m\u001b[0mkwds\u001b[0m\u001b[0;34m)\u001b[0m  \u001b[0;31m# pylint: disable=not-callable\u001b[0m\u001b[0;34m\u001b[0m\u001b[0;34m\u001b[0m\u001b[0m\n\u001b[0m\u001b[1;32m    856\u001b[0m     \u001b[0;32melif\u001b[0m \u001b[0mself\u001b[0m\u001b[0;34m.\u001b[0m\u001b[0m_stateful_fn\u001b[0m \u001b[0;32mis\u001b[0m \u001b[0;32mnot\u001b[0m \u001b[0;32mNone\u001b[0m\u001b[0;34m:\u001b[0m\u001b[0;34m\u001b[0m\u001b[0;34m\u001b[0m\u001b[0m\n\u001b[1;32m    857\u001b[0m       \u001b[0;31m# Release the lock early so that multiple threads can perform the call\u001b[0m\u001b[0;34m\u001b[0m\u001b[0;34m\u001b[0m\u001b[0;34m\u001b[0m\u001b[0m\n",
            "\u001b[0;32m/usr/local/lib/python3.6/dist-packages/tensorflow/python/eager/function.py\u001b[0m in \u001b[0;36m__call__\u001b[0;34m(self, *args, **kwargs)\u001b[0m\n\u001b[1;32m   2941\u001b[0m        filtered_flat_args) = self._maybe_define_function(args, kwargs)\n\u001b[1;32m   2942\u001b[0m     return graph_function._call_flat(\n\u001b[0;32m-> 2943\u001b[0;31m         filtered_flat_args, captured_inputs=graph_function.captured_inputs)  # pylint: disable=protected-access\n\u001b[0m\u001b[1;32m   2944\u001b[0m \u001b[0;34m\u001b[0m\u001b[0m\n\u001b[1;32m   2945\u001b[0m   \u001b[0;34m@\u001b[0m\u001b[0mproperty\u001b[0m\u001b[0;34m\u001b[0m\u001b[0;34m\u001b[0m\u001b[0m\n",
            "\u001b[0;32m/usr/local/lib/python3.6/dist-packages/tensorflow/python/eager/function.py\u001b[0m in \u001b[0;36m_call_flat\u001b[0;34m(self, args, captured_inputs, cancellation_manager)\u001b[0m\n\u001b[1;32m   1917\u001b[0m       \u001b[0;31m# No tape is watching; skip to running the function.\u001b[0m\u001b[0;34m\u001b[0m\u001b[0;34m\u001b[0m\u001b[0;34m\u001b[0m\u001b[0m\n\u001b[1;32m   1918\u001b[0m       return self._build_call_outputs(self._inference_function.call(\n\u001b[0;32m-> 1919\u001b[0;31m           ctx, args, cancellation_manager=cancellation_manager))\n\u001b[0m\u001b[1;32m   1920\u001b[0m     forward_backward = self._select_forward_and_backward_functions(\n\u001b[1;32m   1921\u001b[0m         \u001b[0margs\u001b[0m\u001b[0;34m,\u001b[0m\u001b[0;34m\u001b[0m\u001b[0;34m\u001b[0m\u001b[0m\n",
            "\u001b[0;32m/usr/local/lib/python3.6/dist-packages/tensorflow/python/eager/function.py\u001b[0m in \u001b[0;36mcall\u001b[0;34m(self, ctx, args, cancellation_manager)\u001b[0m\n\u001b[1;32m    558\u001b[0m               \u001b[0minputs\u001b[0m\u001b[0;34m=\u001b[0m\u001b[0margs\u001b[0m\u001b[0;34m,\u001b[0m\u001b[0;34m\u001b[0m\u001b[0;34m\u001b[0m\u001b[0m\n\u001b[1;32m    559\u001b[0m               \u001b[0mattrs\u001b[0m\u001b[0;34m=\u001b[0m\u001b[0mattrs\u001b[0m\u001b[0;34m,\u001b[0m\u001b[0;34m\u001b[0m\u001b[0;34m\u001b[0m\u001b[0m\n\u001b[0;32m--> 560\u001b[0;31m               ctx=ctx)\n\u001b[0m\u001b[1;32m    561\u001b[0m         \u001b[0;32melse\u001b[0m\u001b[0;34m:\u001b[0m\u001b[0;34m\u001b[0m\u001b[0;34m\u001b[0m\u001b[0m\n\u001b[1;32m    562\u001b[0m           outputs = execute.execute_with_cancellation(\n",
            "\u001b[0;32m/usr/local/lib/python3.6/dist-packages/tensorflow/python/eager/execute.py\u001b[0m in \u001b[0;36mquick_execute\u001b[0;34m(op_name, num_outputs, inputs, attrs, ctx, name)\u001b[0m\n\u001b[1;32m     58\u001b[0m     \u001b[0mctx\u001b[0m\u001b[0;34m.\u001b[0m\u001b[0mensure_initialized\u001b[0m\u001b[0;34m(\u001b[0m\u001b[0;34m)\u001b[0m\u001b[0;34m\u001b[0m\u001b[0;34m\u001b[0m\u001b[0m\n\u001b[1;32m     59\u001b[0m     tensors = pywrap_tfe.TFE_Py_Execute(ctx._handle, device_name, op_name,\n\u001b[0;32m---> 60\u001b[0;31m                                         inputs, attrs, num_outputs)\n\u001b[0m\u001b[1;32m     61\u001b[0m   \u001b[0;32mexcept\u001b[0m \u001b[0mcore\u001b[0m\u001b[0;34m.\u001b[0m\u001b[0m_NotOkStatusException\u001b[0m \u001b[0;32mas\u001b[0m \u001b[0me\u001b[0m\u001b[0;34m:\u001b[0m\u001b[0;34m\u001b[0m\u001b[0;34m\u001b[0m\u001b[0m\n\u001b[1;32m     62\u001b[0m     \u001b[0;32mif\u001b[0m \u001b[0mname\u001b[0m \u001b[0;32mis\u001b[0m \u001b[0;32mnot\u001b[0m \u001b[0;32mNone\u001b[0m\u001b[0;34m:\u001b[0m\u001b[0;34m\u001b[0m\u001b[0;34m\u001b[0m\u001b[0m\n",
            "\u001b[0;31mKeyboardInterrupt\u001b[0m: "
          ]
        }
      ]
    },
    {
      "cell_type": "code",
      "metadata": {
        "colab": {
          "base_uri": "https://localhost:8080/"
        },
        "id": "qqblAWXn9rwD",
        "outputId": "ebad3340-0062-4a84-e709-0a33bd02d666"
      },
      "source": [
        "print(steps_per_epoch)\n",
        "print(len(X_train_and_val[X_index]))\n",
        "print(BATCH_SIZE)"
      ],
      "execution_count": 20,
      "outputs": [
        {
          "output_type": "stream",
          "text": [
            "7667\n",
            "61343\n",
            "8\n"
          ],
          "name": "stdout"
        }
      ]
    },
    {
      "cell_type": "code",
      "metadata": {
        "id": "f7xCzsUOMut2"
      },
      "source": [
        "print(X_train_and_val[X_index].shape)\n",
        "print(X_index.shape)\n",
        "print(X_train_and_val[X_index][0])\n",
        "print(X_index[0])\n",
        "TRAINS"
      ],
      "execution_count": null,
      "outputs": []
    },
    {
      "cell_type": "code",
      "metadata": {
        "id": "x1nBpLOa8dpf"
      },
      "source": [
        "# データの読み込み \n",
        "# yesを選ぶように!\n",
        "!unzip /content/drive/MyDrive/zip_spectrogram_data/AP_left.zip\n",
        "!unzip /content/drive/MyDrive/zip_spectrogram_data/AP_right.zip\n",
        "!unzip /content/drive/MyDrive/zip_spectrogram_data/AP_right_69826.zip"
      ],
      "execution_count": null,
      "outputs": []
    },
    {
      "cell_type": "code",
      "metadata": {
        "id": "8PcYi1KLxa5G"
      },
      "source": [
        "# データの読み込み\n",
        "# yesを選ぶように!\n",
        "!unzip /content/drive/MyDrive/zip_spectrogram_data/ML_left.zip\n",
        "!unzip /content/drive/MyDrive/zip_spectrogram_data/ML_left_58106.zip\n",
        "!unzip /content/drive/MyDrive/zip_spectrogram_data/ML_right.zip"
      ],
      "execution_count": null,
      "outputs": []
    },
    {
      "cell_type": "code",
      "metadata": {
        "id": "UfcILK3fxdA-"
      },
      "source": [
        "# データの読み込み\n",
        "# yesを選ぶように!\n",
        "!unzip /content/drive/MyDrive/zip_spectrogram_data/V_left.zip\n",
        "!unzip /content/drive/MyDrive/zip_spectrogram_data/V_left_48327.zip\n",
        "!unzip /content/drive/MyDrive/zip_spectrogram_data/V_right.zip\n",
        "!unzip /content/drive/MyDrive/zip_spectrogram_data/V_right_34533.zip"
      ],
      "execution_count": null,
      "outputs": []
    },
    {
      "cell_type": "code",
      "metadata": {
        "id": "9oDzvMmh_xB1"
      },
      "source": [
        "img = Image.open(\"/content/spectrogram_data/ML_left/58106.png\")\n",
        "img"
      ],
      "execution_count": null,
      "outputs": []
    },
    {
      "cell_type": "code",
      "metadata": {
        "id": "bgNWKRgJCk7w"
      },
      "source": [
        "with open(\"/content/drive/MyDrive/pickle/metadata_for_GRF.pickle\", mode=\"rb\") as f:\n",
        "   metadata_for_GRF = pickle.load(f)\n",
        "f.close()\n",
        "\n",
        "# 2クラス分類(HC vs A VS K)\n",
        "# (HC=0, H=1, K=2, A=3, C=4)\n",
        "data_list = []\n",
        "label_list = []\n",
        "TRIAL_num = len(metadata_for_GRF)\n",
        "class_label = 2\n",
        "HC = 0\n",
        "H = 1\n",
        "K = 2\n",
        "A = 3\n",
        "C = 4\n",
        "\n",
        "for i in range(TRIAL_num):\n",
        "  if metadata_for_GRF[i, class_label] == HC:\n",
        "    data_list.append(i)\n",
        "    label_list.append(0)\n",
        "  elif metadata_for_GRF[i, class_label] == H: \n",
        "    data_list.append(i)\n",
        "    label_list.append(1)\n",
        "  elif metadata_for_GRF[i, class_label] == C: \n",
        "    data_list.append(i)\n",
        "    label_list.append(2)\n",
        "\n",
        "data_list = np.array(data_list)\n",
        "label_list = np.array(label_list)"
      ],
      "execution_count": 77,
      "outputs": []
    },
    {
      "cell_type": "code",
      "metadata": {
        "colab": {
          "base_uri": "https://localhost:8080/"
        },
        "id": "nILIIr9RkEdy",
        "outputId": "94af61d7-e213-40cd-d54b-606184f478d3"
      },
      "source": [
        "# originalデータのlabelとつくったlabelがあっているか確認、データの順番もlabelの順番とあっているか確認\n",
        "# (HC=0, H=1, K=2, A=3, C=4)\n",
        "# SUBJECT_ID, SESSION_ID, CLASS_LABEL, AFFECTED_SIDE, TRAIN. TEST\n",
        "print(\"file_name\", data_list[43110])  \n",
        "print(\"Index of class_label = C\", np.where(0 == label_list[::])) \n",
        "print(\"class_label\", metadata_for_GRF[75731, 2]) "
      ],
      "execution_count": 53,
      "outputs": [
        {
          "output_type": "stream",
          "text": [
            "file_name 75731\n",
            "Index of class_label = C (array([11870, 11871, 11872, ..., 43108, 43109, 43110]),)\n",
            "class_label 0.0\n"
          ],
          "name": "stdout"
        }
      ]
    },
    {
      "cell_type": "code",
      "metadata": {
        "colab": {
          "base_uri": "https://localhost:8080/"
        },
        "id": "d1lSbNs_EuJL",
        "outputId": "ea12b851-a505-4d39-c940-e8498f4814eb"
      },
      "source": [
        "import numpy as np\n",
        "\n",
        "print(np.array(np.where(np.array(label_list) == 0)).shape)\n",
        "print(np.array(np.where(np.array(label_list) == 1)).shape)\n",
        "print(np.array(np.where(np.array(label_list) == 2)).shape)\n",
        "print(np.array(np.where(np.array(label_list) == 3)).shape)\n",
        "print(np.array(np.where(np.array(label_list) == 4)).shape)\n",
        "\n",
        "# NaNチェック\n",
        "print(np.isnan(label_list).sum())"
      ],
      "execution_count": 76,
      "outputs": [
        {
          "output_type": "stream",
          "text": [
            "(1, 7755)\n",
            "(1, 19873)\n",
            "(1, 12748)\n",
            "(1, 0)\n",
            "(1, 0)\n",
            "0\n"
          ],
          "name": "stdout"
        }
      ]
    },
    {
      "cell_type": "code",
      "metadata": {
        "id": "xnsEcQQEFr8d"
      },
      "source": [
        "with open(\"/content/drive/MyDrive/pickle/HC_H_C_file_name.pickle\", mode=\"wb\") as f:\n",
        "   pickle.dump(data_list, f)"
      ],
      "execution_count": 78,
      "outputs": []
    },
    {
      "cell_type": "code",
      "metadata": {
        "id": "0S8RhRh-mon9"
      },
      "source": [
        "with open(\"/content/drive/MyDrive/pickle/HC_H_C_label.pickle\", mode=\"wb\") as f:\n",
        "   pickle.dump(label_list, f)"
      ],
      "execution_count": 79,
      "outputs": []
    },
    {
      "cell_type": "code",
      "metadata": {
        "id": "CzHpZp1_HCB9"
      },
      "source": [
        "import csv\n",
        "with open('/content/drive/MyDrive/GaitRect/GRF_F_AP_PRO_left.csv') as f:\n",
        "    reader = csv.reader(f)\n",
        "    AP_left = [row for row in reader]\n",
        "f.close()\n",
        "\n",
        "AP_left_items = np.array(AP_left, dtype=str)[0,::]\n",
        "AP_left = np.array(AP_left)[1:,::]\n",
        "AP_left = np.array(AP_left, dtype=float)"
      ],
      "execution_count": 7,
      "outputs": []
    },
    {
      "cell_type": "code",
      "metadata": {
        "id": "r4P3QSN-J0my"
      },
      "source": [
        "with open('/content/drive/MyDrive/pickle/metadata.pickle', mode=\"rb\") as f:\n",
        "    metadata = pickle.load(f)\n",
        "f.close()\n",
        "\n",
        "metadata = np.array(metadata)"
      ],
      "execution_count": 8,
      "outputs": []
    },
    {
      "cell_type": "code",
      "metadata": {
        "id": "wCjZoyXigCWj"
      },
      "source": [
        "with open('/content/drive/MyDrive/pickle/metadata_for_GRF.pickle', mode=\"rb\") as f:\n",
        "    metadata_for_GRF = pickle.load(f)\n",
        "f.close()"
      ],
      "execution_count": 10,
      "outputs": []
    },
    {
      "cell_type": "code",
      "metadata": {
        "colab": {
          "base_uri": "https://localhost:8080/"
        },
        "id": "19zxaQrYHWx2",
        "outputId": "2115cf11-badb-4d30-bda2-41825154c2df"
      },
      "source": [
        "# originalデータのlabelとつくったlabelがあっているか確認、データの順番もlabelの順番とあっているか確認\n",
        "print(\"Session_id\", AP_left[18186, 1]) \n",
        "print(\"Session_id\", AP_left[18187, 1]) \n",
        "print(\"Session_id\", AP_left[18188, 1]) \n",
        "print(\"Session_id\", AP_left[18189, 1]) \n",
        "print(\"Session_id\", AP_left[18190, 1]) \n",
        "print(\"Session_id\", AP_left[18191, 1]) \n",
        "print(\"Session_id\", AP_left[18192, 1])\n",
        "print(\"Session_id\", AP_left[18193, 1]) \n",
        "print(\"Session_id\", AP_left[18194, 1])  \n",
        "print(\"Session_id\", AP_left[18195, 1])  \n",
        "print(\"Index of Session_id=15666\",np.where(15666.0 == metadata_for_GRF[::,1]))\n",
        "print(\"class_label\", metadata_for_GRF[18186, 2]) \n",
        "print(\"class_label\", metadata_for_GRF[18187, 2]) \n",
        "print(\"class_label\", metadata_for_GRF[18188, 2]) \n",
        "print(\"class_label\", metadata_for_GRF[18189, 2]) \n",
        "print(\"class_label\", metadata_for_GRF[18190, 2])\n",
        "print(\"class_label\", metadata_for_GRF[18191, 2])  \n",
        "print(\"class_label\", metadata_for_GRF[18192, 2]) \n",
        "print(\"class_label\", metadata_for_GRF[18193, 2]) \n",
        "print(\"class_label\", metadata_for_GRF[18194, 2]) \n",
        "print(\"class_label\", metadata_for_GRF[18195, 2]) \n",
        "# print(\"Label of Session_id=413\", np.where(999910375 == metadata[-1,1].astype(\"float16\")))\n",
        "print(metadata[0])\n",
        "print(\"original_session_id\",metadata[-1,1])\n",
        "print(\"original_class_label\",metadata[-1,2])"
      ],
      "execution_count": 19,
      "outputs": [
        {
          "output_type": "stream",
          "text": [
            "Session_id 15666.0\n",
            "Session_id 15666.0\n",
            "Session_id 15666.0\n",
            "Session_id 15666.0\n",
            "Session_id 15666.0\n",
            "Session_id 15666.0\n",
            "Session_id 15666.0\n",
            "Session_id 15666.0\n",
            "Session_id 15666.0\n",
            "Session_id 15666.0\n",
            "Index of Session_id=15666 (array([18186, 18187, 18188, 18189, 18190, 18191, 18192, 18193, 18194,\n",
            "       18195]),)\n",
            "class_label 3.0\n",
            "class_label 3.0\n",
            "class_label 3.0\n",
            "class_label 3.0\n",
            "class_label 3.0\n",
            "class_label 3.0\n",
            "class_label 3.0\n",
            "class_label 3.0\n",
            "class_label 3.0\n",
            "class_label 3.0\n",
            "['SUBJECT_ID' 'SESSION_ID' 'CLASS_LABEL' 'CLASS_LABEL_DETAILED' 'SEX'\n",
            " 'AGE' 'HEIGHT' 'BODY_WEIGHT' 'BODY_MASS' 'SHOE_SIZE' 'AFFECTED_SIDE'\n",
            " 'SHOD_CONDITION' 'ORTHOPEDIC_INSOLE' 'SPEED' 'READMISSION' 'SESSION_TYPE'\n",
            " 'SESSION_DATE' 'TRAIN' 'TRAIN_BALANCED' 'TEST']\n",
            "original_session_id 15666\n",
            "original_class_label A\n"
          ],
          "name": "stdout"
        }
      ]
    }
  ]
}