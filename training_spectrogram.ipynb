{
  "nbformat": 4,
  "nbformat_minor": 0,
  "metadata": {
    "accelerator": "GPU",
    "colab": {
      "name": "training_spectrogram.ipynb",
      "provenance": [],
      "collapsed_sections": [],
      "mount_file_id": "1ijdXNpxuZHp7dm0zBtwiR-ocqDlg6IYg",
      "authorship_tag": "ABX9TyPsdhTR1sne1H78hifzg749",
      "include_colab_link": true
    },
    "kernelspec": {
      "display_name": "Python 3",
      "name": "python3"
    }
  },
  "cells": [
    {
      "cell_type": "markdown",
      "metadata": {
        "id": "view-in-github",
        "colab_type": "text"
      },
      "source": [
        "<a href=\"https://colab.research.google.com/github/is0280fp/google_colab/blob/use_image_as_input/training_spectrogram.ipynb\" target=\"_parent\"><img src=\"https://colab.research.google.com/assets/colab-badge.svg\" alt=\"Open In Colab\"/></a>"
      ]
    },
    {
      "cell_type": "code",
      "metadata": {
        "colab": {
          "base_uri": "https://localhost:8080/"
        },
        "id": "zNwUIy5fsXtu",
        "outputId": "5f5a1c9c-75eb-4a3e-f813-f40341dcedab"
      },
      "source": [
        "from google.colab import drive \n",
        "drive.mount('/content/drive')"
      ],
      "execution_count": 2,
      "outputs": [
        {
          "output_type": "stream",
          "text": [
            "Mounted at /content/drive\n"
          ],
          "name": "stdout"
        }
      ]
    },
    {
      "cell_type": "code",
      "metadata": {
        "id": "Wx9ajZC-pFYu"
      },
      "source": [
        "# ラベルの読み込み\n",
        "import pickle\n",
        "with open(\"/content/drive/MyDrive/pickle/label_five_class.pickle\", mode=\"rb\") as f:\n",
        "   label = pickle.load(f)\n",
        "f.close()\n",
        "# with open(\"/content/drive/MyDrive/pickle/label_HC_vs_GD_class.pickle\", mode=\"rb\") as f:\n",
        "#    label = pickle.load(f)\n",
        "# f.close()"
      ],
      "execution_count": 9,
      "outputs": []
    },
    {
      "cell_type": "code",
      "metadata": {
        "colab": {
          "base_uri": "https://localhost:8080/"
        },
        "id": "VBQp7qm8Z4Jw",
        "outputId": "1b9f3b96-b874-49fa-a9d8-56d55327853e"
      },
      "source": [
        "# データセット内訳チェック\n",
        "import numpy as np\n",
        "\n",
        "print(np.array(np.where(label == 0)).shape)\n",
        "print(np.array(np.where(label == 1)).shape)\n",
        "print(np.array(np.where(label == 2)).shape)\n",
        "print(np.array(np.where(label == 3)).shape)\n",
        "print(np.array(np.where(label == 4)).shape)\n",
        "\n",
        "# NaNチェック\n",
        "print(np.isnan(label).sum())"
      ],
      "execution_count": 10,
      "outputs": [
        {
          "output_type": "stream",
          "text": [
            "(1, 7755)\n",
            "(1, 12748)\n",
            "(1, 19873)\n",
            "(1, 21386)\n",
            "(1, 13970)\n",
            "0\n"
          ],
          "name": "stdout"
        }
      ]
    },
    {
      "cell_type": "code",
      "metadata": {
        "colab": {
          "base_uri": "https://localhost:8080/"
        },
        "id": "S-KPR8cl7-ul",
        "outputId": "ed0c85c8-40df-48bd-973e-5d6ef3654656"
      },
      "source": [
        "label.shape"
      ],
      "execution_count": 4,
      "outputs": [
        {
          "output_type": "execute_result",
          "data": {
            "text/plain": [
              "(75732,)"
            ]
          },
          "metadata": {
            "tags": []
          },
          "execution_count": 4
        }
      ]
    },
    {
      "cell_type": "code",
      "metadata": {
        "colab": {
          "base_uri": "https://localhost:8080/"
        },
        "id": "MdXgcprG6dXD",
        "outputId": "ad205ea3-51a7-4f63-fb47-84c3d0d3f678"
      },
      "source": [
        "import tensorflow as tf\n",
        "from tensorflow.keras import optimizers, regularizers\n",
        "from tensorflow.keras.models import Sequential\n",
        "from tensorflow.keras.layers import Conv2D, MaxPooling2D, LSTM, InputLayer, Dense, Dropout, Activation, Flatten, concatenate, Conv1D, MaxPooling1D, Input, Reshape, Bidirectional, GlobalAveragePooling2D\n",
        "from keras.models import Model\n",
        "from tensorflow.keras.callbacks import TensorBoard, LearningRateScheduler\n",
        "import time\n",
        "import math\n",
        "from keras.callbacks import ModelCheckpoint, EarlyStopping\n",
        "from sklearn.metrics import confusion_matrix, classification_report, plot_confusion_matrix\n",
        "import seaborn as sns\n",
        "from sklearn.model_selection import train_test_split\n",
        "import keras\n",
        "from PIL import Image\n",
        "import numpy as np\n",
        "\n",
        "# NAME = \"HC-vs-C-LSTM_2class\"\n",
        "# NAME = \"HC-vs-A-LSTM_2class\"\n",
        "# NAME = \"HC-vs-K-LSTM_2class\"\n",
        "# NAME = \"HC-vs-H-LSTM_2class\"\n",
        "# NAME = \"HC-vs-GDs-LSTM_2class\"\n",
        "# NAME = \"H-vs-K-vs-A-vs-C-LSTM_4class\"\n",
        "#NAME = \"HC-vs-H-vs-K-vs-A-vs-C-LSTM_5class\"\n",
        "# NAME = \"H-vs-K-vs-A-vs-C-CNN_4class\"\n",
        "NAME = \"HC-vs-Patients-CNN_5class\"\n",
        "# NAME = \"HC-vs-GDs-CNN_2class\"\n",
        "# NAME = \"HC-vs-H-CNN_2class\"\n",
        "# NAME = \"HC-vs-K-CNN_2class\"\n",
        "# NAME = \"HC-vs-A-CNN_2class\"\n",
        "# NAME = \"HC-vs-C-CNN_2class\"\n",
        "\n",
        "#-----------------------------------初期設定-------------------------------------------\n",
        "# tensorboardのログ\n",
        "tensorboard = TensorBoard(log_dir=\"logs/{}\".format(NAME))\n",
        "\n",
        "# 学習打ち切り目安\n",
        "early_stopping = EarlyStopping(\n",
        "                        monitor='val_loss',\n",
        "                        min_delta=0.0,\n",
        "                        patience=10,\n",
        "                )\n",
        "\n",
        "# checkpointの設定\n",
        "checkpoint = ModelCheckpoint(\n",
        "                    filepath=\"saved_model/{}\".format(NAME),\n",
        "                    monitor='val_loss',\n",
        "                    save_best_only=True,\n",
        "                    period=1,\n",
        "                )"
      ],
      "execution_count": 11,
      "outputs": [
        {
          "output_type": "stream",
          "text": [
            "WARNING:tensorflow:`period` argument is deprecated. Please use `save_freq` to specify the frequency in number of batches seen.\n"
          ],
          "name": "stdout"
        }
      ]
    },
    {
      "cell_type": "code",
      "metadata": {
        "id": "K9Jgh1RXNzjC"
      },
      "source": [
        "# 入力データの加工\n",
        "\n",
        "def conv_binary(number):\n",
        "  V_left_filename = '/content/spectrogram_data/V_left/{}.png'.format(number)\n",
        "  V_right_filename = '/content/spectrogram_data/V_right/{}.png'.format(number)\n",
        "  AP_left_filename = '/content/spectrogram_data/AP_left/{}.png'.format(number)\n",
        "  AP_right_filename = '/content/spectrogram_data/AP_right/{}.png'.format(number)\n",
        "  ML_left_filename = '/content/spectrogram_data/ML_left/{}.png'.format(number)\n",
        "  ML_right_filename = '/content/spectrogram_data/ML_right/{}.png'.format(number)\n",
        "\n",
        "\n",
        "  V_left_img = Image.open(V_left_filename)\n",
        "  V_right_img = Image.open(V_right_filename)\n",
        "  AP_left_img = Image.open(AP_left_filename)\n",
        "  AP_right_img = Image.open(AP_right_filename)\n",
        "  ML_left_img = Image.open(ML_left_filename)\n",
        "  ML_right_img = Image.open(ML_right_filename)\n",
        "\n",
        "  V_left_img = V_left_img.resize(size=(76, 114), resample=Image.BICUBIC)\n",
        "  V_right_img = V_right_img.resize(size=(76, 114), resample=Image.BICUBIC)\n",
        "  AP_left_img = AP_left_img.resize(size=(76, 114), resample=Image.BICUBIC)\n",
        "  AP_right_img = AP_right_img.resize(size=(76, 114), resample=Image.BICUBIC)\n",
        "  ML_left_img = ML_left_img.resize(size=(76, 114), resample=Image.BICUBIC)\n",
        "  ML_right_img = ML_right_img.resize(size=(76, 114), resample=Image.BICUBIC)\n",
        "\n",
        "  V_left_rgb = np.array(V_left_img.convert('RGB')).astype('float32')\n",
        "  V_right_rgb = np.array(V_right_img.convert('RGB')).astype('float32')\n",
        "  AP_left_rgb = np.array(AP_left_img.convert('RGB')).astype('float32')\n",
        "  AP_right_rgb = np.array(AP_right_img.convert('RGB')).astype('float32')\n",
        "  ML_left_rgb = np.array(ML_left_img.convert('RGB')).astype('float32')\n",
        "  ML_right_rgb = np.array(ML_right_img.convert('RGB')).astype('float32')\n",
        "\n",
        "  V_left_rgb /= 255.0\n",
        "  V_right_rgb /= 255.0\n",
        "  AP_left_rgb /= 255.0\n",
        "  AP_right_rgb /= 255.0\n",
        "  ML_left_rgb /= 255.0\n",
        "  ML_right_rgb /= 255.0\n",
        "\n",
        "  V_img_array = np.concatenate([V_left_rgb, V_right_rgb], axis=0)\n",
        "  AP_img_array = np.concatenate([AP_left_rgb, AP_right_rgb], axis=0)\n",
        "  ML_img_array = np.concatenate([ML_left_rgb, ML_right_rgb], axis=0)\n",
        "\n",
        "  img_array = np.concatenate([V_img_array, AP_img_array, ML_img_array], axis=1)\n",
        "  return img_array"
      ],
      "execution_count": 13,
      "outputs": []
    },
    {
      "cell_type": "code",
      "metadata": {
        "colab": {
          "base_uri": "https://localhost:8080/",
          "height": 131
        },
        "id": "n1Xk22NeUknx",
        "outputId": "770de1bd-f277-4e4b-907e-0ea99c9aa727"
      },
      "source": [
        "# 入力画像確認用\n",
        "number=1\n",
        "V_left_filename = '/content/spectrogram_data/V_left/{}.png'.format(number)\n",
        "V_right_filename = '/content/spectrogram_data/V_right/{}.png'.format(number)\n",
        "AP_left_filename = '/content/spectrogram_data/AP_left/{}.png'.format(number)\n",
        "AP_right_filename = '/content/spectrogram_data/AP_right/{}.png'.format(number)\n",
        "ML_left_filename = '/content/spectrogram_data/ML_left/{}.png'.format(number)\n",
        "ML_right_filename = '/content/spectrogram_data/ML_right/{}.png'.format(number)\n",
        "\n",
        "\n",
        "V_left_img = Image.open(V_left_filename)\n",
        "V_right_img = Image.open(V_right_filename)\n",
        "AP_left_img = Image.open(AP_left_filename)\n",
        "AP_right_img = Image.open(AP_right_filename)\n",
        "ML_left_img = Image.open(ML_left_filename)\n",
        "ML_right_img = Image.open(ML_right_filename)\n",
        "\n",
        "V_left_img = V_left_img.resize(size=(76, 114), resample=Image.BICUBIC)\n",
        "V_right_img = V_right_img.resize(size=(76, 114), resample=Image.BICUBIC)\n",
        "AP_left_img = AP_left_img.resize(size=(76, 114), resample=Image.BICUBIC)\n",
        "AP_right_img = AP_right_img.resize(size=(76, 114), resample=Image.BICUBIC)\n",
        "ML_left_img = ML_left_img.resize(size=(76, 114), resample=Image.BICUBIC)\n",
        "ML_right_img = ML_right_img.resize(size=(76, 114), resample=Image.BICUBIC)\n",
        "\n",
        "V_left_rgb = np.array(V_left_img.convert('RGB')).astype('float32')\n",
        "V_right_rgb = np.array(V_right_img.convert('RGB')).astype('float32')\n",
        "AP_left_rgb = np.array(AP_left_img.convert('RGB')).astype('float32')\n",
        "AP_right_rgb = np.array(AP_right_img.convert('RGB')).astype('float32')\n",
        "ML_left_rgb = np.array(ML_left_img.convert('RGB')).astype('float32')\n",
        "ML_right_rgb = np.array(ML_right_img.convert('RGB')).astype('float32')\n",
        "\n",
        "V_left_rgb /= 255.0\n",
        "V_right_rgb /= 255.0\n",
        "AP_left_rgb /= 255.0\n",
        "AP_right_rgb /= 255.0\n",
        "ML_left_rgb /= 255.0\n",
        "ML_right_rgb /= 255.0\n",
        "\n",
        "V_img_array = np.concatenate([V_left_rgb, V_right_rgb], axis=0)\n",
        "AP_img_array = np.concatenate([AP_left_rgb, AP_right_rgb], axis=0)\n",
        "ML_img_array = np.concatenate([ML_left_rgb, ML_right_rgb], axis=0)\n",
        "\n",
        "img_array = np.concatenate([V_img_array, AP_img_array, ML_img_array], axis=1)\n",
        "\n",
        "V_left_img\n",
        "V_right_img"
      ],
      "execution_count": 87,
      "outputs": [
        {
          "output_type": "execute_result",
          "data": {
            "image/png": "[encoded data removed]",
            "text/plain": [
              "<PIL.Image.Image image mode=RGBA size=76x114 at 0x7FCCE6631CC0>"
            ]
          },
          "metadata": {
            "tags": []
          },
          "execution_count": 87
        }
      ]
    },
    {
      "cell_type": "code",
      "metadata": {
        "colab": {
          "base_uri": "https://localhost:8080/"
        },
        "id": "g_krvWCIKGv-",
        "outputId": "7172ed44-4559-4a32-ffe1-6ab0fb72c2f8"
      },
      "source": [
        "img_array.shape"
      ],
      "execution_count": 90,
      "outputs": [
        {
          "output_type": "execute_result",
          "data": {
            "text/plain": [
              "(228, 228, 3)"
            ]
          },
          "metadata": {
            "tags": []
          },
          "execution_count": 90
        }
      ]
    },
    {
      "cell_type": "code",
      "metadata": {
        "id": "7hdvubAwGfJW"
      },
      "source": [
        "def get_batch(batch_size, X, Y):\n",
        "    \"\"\"\n",
        "    batchを取得する関数\n",
        "    \"\"\"\n",
        "    SIZE = len(X)\n",
        "    # n_batchs\n",
        "    n_batchs = SIZE//batch_size\n",
        "    # for でyield\n",
        "    i = 0\n",
        "    while ((i+batch_size) < SIZE):\n",
        "        # print(\"doing\", i, \"/\", n_batchs)\n",
        "        # Y_batch = Y[(i * n_batchs):(i * n_batchs + batch_size)]\n",
        "        Y_batch = Y[i:(i + batch_size)]\n",
        "        \n",
        "        #あるbatchのfilenameの配列を持っておく\n",
        "        # X_batch_name = X[(i * n_batchs):(i * n_batchs + batch_size)]\n",
        "        X_batch_name = X[i:(i + batch_size)]\n",
        "\n",
        "        # filenameにしたがってバッチのtensorを構築\n",
        "        X_batch = np.array([conv_binary(file) for file in X_batch_name])\n",
        "        \n",
        "        # これで(batch_size, 28, 28, 1)のtrainのテンソルが作られる\n",
        "        i += 1\n",
        "        yield X_batch, Y_batch"
      ],
      "execution_count": 14,
      "outputs": []
    },
    {
      "cell_type": "code",
      "metadata": {
        "colab": {
          "base_uri": "https://localhost:8080/"
        },
        "id": "gYOjlY_bVlA5",
        "outputId": "394b2a19-e6e2-4929-c6e5-735f2451b7e0"
      },
      "source": [
        "from keras.models import Model\n",
        "from keras.layers import Dense, GlobalAveragePooling2D,Input, Dropout\n",
        "from keras.applications.vgg16 import VGG16\n",
        "from keras.preprocessing.image import ImageDataGenerator\n",
        "from keras.optimizers import SGD\n",
        "from keras.callbacks import CSVLogger\n",
        "from sklearn.model_selection import StratifiedKFold\n",
        "\n",
        "n_categories=5\n",
        "N_EPOCHS = 1000\n",
        "BATCH_SIZE = 50\n",
        "\n",
        "# acquire the .png name\n",
        "TRAINS = np.array(range(len(label)))\n",
        "y = label\n",
        "# # split test and train\n",
        "# X_train, X_test, Y_train, Y_test = train_test_split(\n",
        "#     TRAINS, y, test_size=0.1, random_state=42)\n",
        "\n",
        "# split test and the others\n",
        "X_train_and_val, X_test, Y_train_and_val, Y_test = train_test_split(\n",
        "    TRAINS, y, test_size=0.1, random_state=42)\n",
        "\n",
        "# split k-folds (その中の一つのfoldがvalidationのためのtestデータとなる)\n",
        "skf = StratifiedKFold(n_splits=10, shuffle=True, random_state=42)\n",
        "for X_index, Y_index in skf.split(X_train_and_val, Y_train_and_val):\n",
        "    # print(\"train_index:\", train_index, \"val_index:\", val_index)\n",
        "    # print(\"train data\", X_train_and_val[X_index])\n",
        "    # print(\"train label\", Y_train_and_val[X_index])\n",
        "    # print(\"test data\", X_train_and_val[Y_index])\n",
        "    # print(\"test label\", Y_train_and_val[Y_index])\n",
        "\n",
        "    train_data = X_train_and_val[X_index]\n",
        "    train_label = Y_train_and_val[X_index]\n",
        "    test_data = X_train_and_val[Y_index]\n",
        "    test_label = Y_train_and_val[Y_index]\n",
        "\n",
        "    steps_per_epoch=len(X_train_and_val[X_index])//BATCH_SIZE \n",
        "    validation_steps=len(X_train_and_val[Y_index])//BATCH_SIZE \n",
        "\n",
        "training_generator = get_batch(BATCH_SIZE, train_data, train_label)\n",
        "validation_generator = get_batch(BATCH_SIZE, test_data, test_label)\n",
        "\n",
        "vgg_model = VGG16(weights='imagenet',include_top=False, input_shape=(228, 228, 3))\n",
        "\n",
        "#add new layers instead of FC networks\n",
        "x=vgg_model.output\n",
        "x=Flatten()(x) # Flatten dimensions to for use in FC layers\n",
        "x=Dense(256, activation='relu')(x)\n",
        "x=Dropout(0.5)(x) # Dropout layer to reduce overfitting\n",
        "# x = Dense(256, activation='relu')(x)\n",
        "x = Dense(n_categories, activation='softmax')(x) # Softmax for multiclass\n",
        "transfer_model = Model(inputs=vgg_model.input, outputs=x)\n",
        "\n",
        "#fix weights before VGG16 14layers\n",
        "for layer in vgg_model.layers[:15]:\n",
        "    layer.trainable=False\n",
        "\n",
        "transfer_model.compile(optimizer=optimizers.Adam(lr=1e-3),\n",
        "              loss='sparse_categorical_crossentropy',\n",
        "              metrics=['accuracy'])\n",
        "\n",
        "transfer_model.summary()\n",
        "\n",
        "hist=transfer_model.fit_generator(\n",
        "    generator=training_generator,\n",
        "    validation_data=validation_generator,\n",
        "    steps_per_epoch=steps_per_epoch,\n",
        "    validation_steps=validation_steps,\n",
        "    epochs=N_EPOCHS\n",
        "    )\n",
        "\n",
        "#save weights\n",
        "transfer_model.save(file_name+'.h5')"
      ],
      "execution_count": null,
      "outputs": [
        {
          "output_type": "stream",
          "text": [
            "Downloading data from https://storage.googleapis.com/tensorflow/keras-applications/vgg16/vgg16_weights_tf_dim_ordering_tf_kernels_notop.h5\n",
            "58892288/58889256 [==============================] - 0s 0us/step\n",
            "Model: \"model\"\n",
            "_________________________________________________________________\n",
            "Layer (type)                 Output Shape              Param #   \n",
            "=================================================================\n",
            "input_1 (InputLayer)         [(None, 228, 228, 3)]     0         \n",
            "_________________________________________________________________\n",
            "block1_conv1 (Conv2D)        (None, 228, 228, 64)      1792      \n",
            "_________________________________________________________________\n",
            "block1_conv2 (Conv2D)        (None, 228, 228, 64)      36928     \n",
            "_________________________________________________________________\n",
            "block1_pool (MaxPooling2D)   (None, 114, 114, 64)      0         \n",
            "_________________________________________________________________\n",
            "block2_conv1 (Conv2D)        (None, 114, 114, 128)     73856     \n",
            "_________________________________________________________________\n",
            "block2_conv2 (Conv2D)        (None, 114, 114, 128)     147584    \n",
            "_________________________________________________________________\n",
            "block2_pool (MaxPooling2D)   (None, 57, 57, 128)       0         \n",
            "_________________________________________________________________\n",
            "block3_conv1 (Conv2D)        (None, 57, 57, 256)       295168    \n",
            "_________________________________________________________________\n",
            "block3_conv2 (Conv2D)        (None, 57, 57, 256)       590080    \n",
            "_________________________________________________________________\n",
            "block3_conv3 (Conv2D)        (None, 57, 57, 256)       590080    \n",
            "_________________________________________________________________\n",
            "block3_pool (MaxPooling2D)   (None, 28, 28, 256)       0         \n",
            "_________________________________________________________________\n",
            "block4_conv1 (Conv2D)        (None, 28, 28, 512)       1180160   \n",
            "_________________________________________________________________\n",
            "block4_conv2 (Conv2D)        (None, 28, 28, 512)       2359808   \n",
            "_________________________________________________________________\n",
            "block4_conv3 (Conv2D)        (None, 28, 28, 512)       2359808   \n",
            "_________________________________________________________________\n",
            "block4_pool (MaxPooling2D)   (None, 14, 14, 512)       0         \n",
            "_________________________________________________________________\n",
            "block5_conv1 (Conv2D)        (None, 14, 14, 512)       2359808   \n",
            "_________________________________________________________________\n",
            "block5_conv2 (Conv2D)        (None, 14, 14, 512)       2359808   \n",
            "_________________________________________________________________\n",
            "block5_conv3 (Conv2D)        (None, 14, 14, 512)       2359808   \n",
            "_________________________________________________________________\n",
            "block5_pool (MaxPooling2D)   (None, 7, 7, 512)         0         \n",
            "_________________________________________________________________\n",
            "flatten (Flatten)            (None, 25088)             0         \n",
            "_________________________________________________________________\n",
            "dense (Dense)                (None, 256)               6422784   \n",
            "_________________________________________________________________\n",
            "dropout (Dropout)            (None, 256)               0         \n",
            "_________________________________________________________________\n",
            "dense_1 (Dense)              (None, 5)                 1285      \n",
            "=================================================================\n",
            "Total params: 21,138,757\n",
            "Trainable params: 13,503,493\n",
            "Non-trainable params: 7,635,264\n",
            "_________________________________________________________________\n"
          ],
          "name": "stdout"
        },
        {
          "output_type": "stream",
          "text": [
            "/usr/local/lib/python3.6/dist-packages/tensorflow/python/keras/engine/training.py:1844: UserWarning: `Model.fit_generator` is deprecated and will be removed in a future version. Please use `Model.fit`, which supports generators.\n",
            "  warnings.warn('`Model.fit_generator` is deprecated and '\n"
          ],
          "name": "stderr"
        },
        {
          "output_type": "stream",
          "text": [
            "Epoch 1/1000\n",
            "1226/1226 [==============================] - 1492s 1s/step - loss: 0.8103 - accuracy: 0.6825 - val_loss: 5.0191 - val_accuracy: 0.2469\n",
            "Epoch 2/1000\n",
            "  48/1226 [>.............................] - ETA: 21:12 - loss: 0.3331 - accuracy: 0.9231"
          ],
          "name": "stdout"
        }
      ]
    },
    {
      "cell_type": "code",
      "metadata": {
        "colab": {
          "base_uri": "https://localhost:8080/"
        },
        "id": "qqblAWXn9rwD",
        "outputId": "ebad3340-0062-4a84-e709-0a33bd02d666"
      },
      "source": [
        "print(steps_per_epoch)\n",
        "print(len(X_train_and_val[X_index]))\n",
        "print(BATCH_SIZE)"
      ],
      "execution_count": 20,
      "outputs": [
        {
          "output_type": "stream",
          "text": [
            "7667\n",
            "61343\n",
            "8\n"
          ],
          "name": "stdout"
        }
      ]
    },
    {
      "cell_type": "code",
      "metadata": {
        "id": "f7xCzsUOMut2"
      },
      "source": [
        "print(X_train_and_val[X_index].shape)\n",
        "print(X_index.shape)\n",
        "print(X_train_and_val[X_index][0])\n",
        "print(X_index[0])\n",
        "TRAINS"
      ],
      "execution_count": null,
      "outputs": []
    },
    {
      "cell_type": "code",
      "metadata": {
        "id": "x1nBpLOa8dpf"
      },
      "source": [
        "# データの読み込み \n",
        "# yesを選ぶように!\n",
        "!unzip /content/drive/MyDrive/zip_spectrogram_data/AP_left.zip\n",
        "!unzip /content/drive/MyDrive/zip_spectrogram_data/AP_right.zip\n",
        "!unzip /content/drive/MyDrive/zip_spectrogram_data/AP_right_69826.zip"
      ],
      "execution_count": null,
      "outputs": []
    },
    {
      "cell_type": "code",
      "metadata": {
        "id": "8PcYi1KLxa5G"
      },
      "source": [
        "# データの読み込み\n",
        "# yesを選ぶように!\n",
        "!unzip /content/drive/MyDrive/zip_spectrogram_data/ML_left.zip\n",
        "!unzip /content/drive/MyDrive/zip_spectrogram_data/ML_left_58106.zip\n",
        "!unzip /content/drive/MyDrive/zip_spectrogram_data/ML_right.zip"
      ],
      "execution_count": null,
      "outputs": []
    },
    {
      "cell_type": "code",
      "metadata": {
        "id": "UfcILK3fxdA-"
      },
      "source": [
        "# データの読み込み\n",
        "# yesを選ぶように!\n",
        "!unzip /content/drive/MyDrive/zip_spectrogram_data/V_left.zip\n",
        "!unzip /content/drive/MyDrive/zip_spectrogram_data/V_left_48327.zip\n",
        "!unzip /content/drive/MyDrive/zip_spectrogram_data/V_right.zip\n",
        "!unzip /content/drive/MyDrive/zip_spectrogram_data/V_right_34533.zip"
      ],
      "execution_count": null,
      "outputs": []
    },
    {
      "cell_type": "code",
      "metadata": {
        "colab": {
          "base_uri": "https://localhost:8080/",
          "height": 181
        },
        "id": "9oDzvMmh_xB1",
        "outputId": "2cce294c-5007-4234-d537-3686da039ff1"
      },
      "source": [
        "img = Image.open(\"/content/spectrogram_data/ML_left/58106.png\")\n",
        "img"
      ],
      "execution_count": 8,
      "outputs": [
        {
          "output_type": "error",
          "ename": "NameError",
          "evalue": "ignored",
          "traceback": [
            "\u001b[0;31m---------------------------------------------------------------------------\u001b[0m",
            "\u001b[0;31mNameError\u001b[0m                                 Traceback (most recent call last)",
            "\u001b[0;32m<ipython-input-8-30ae7a23518b>\u001b[0m in \u001b[0;36m<module>\u001b[0;34m()\u001b[0m\n\u001b[0;32m----> 1\u001b[0;31m \u001b[0mimg\u001b[0m \u001b[0;34m=\u001b[0m \u001b[0mImage\u001b[0m\u001b[0;34m.\u001b[0m\u001b[0mopen\u001b[0m\u001b[0;34m(\u001b[0m\u001b[0;34m\"/content/spectrogram_data/ML_left/58106.png\"\u001b[0m\u001b[0;34m)\u001b[0m\u001b[0;34m\u001b[0m\u001b[0;34m\u001b[0m\u001b[0m\n\u001b[0m\u001b[1;32m      2\u001b[0m \u001b[0mimg\u001b[0m\u001b[0;34m\u001b[0m\u001b[0;34m\u001b[0m\u001b[0m\n",
            "\u001b[0;31mNameError\u001b[0m: name 'Image' is not defined"
          ]
        }
      ]
    }
  ]
}