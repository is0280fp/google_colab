{
  "nbformat": 4,
  "nbformat_minor": 0,
  "metadata": {
    "accelerator": "GPU",
    "colab": {
      "name": "training_spectrogram.ipynb",
      "provenance": [],
      "collapsed_sections": [],
      "mount_file_id": "1ijdXNpxuZHp7dm0zBtwiR-ocqDlg6IYg",
      "authorship_tag": "ABX9TyOGH4jRFktRTI3cvNVgIQdR",
      "include_colab_link": true
    },
    "kernelspec": {
      "display_name": "Python 3",
      "name": "python3"
    }
  },
  "cells": [
    {
      "cell_type": "markdown",
      "metadata": {
        "id": "view-in-github",
        "colab_type": "text"
      },
      "source": [
        "<a href=\"https://colab.research.google.com/github/is0280fp/google_colab/blob/use_image_as_input/training_spectrogram.ipynb\" target=\"_parent\"><img src=\"https://colab.research.google.com/assets/colab-badge.svg\" alt=\"Open In Colab\"/></a>"
      ]
    },
    {
      "cell_type": "code",
      "metadata": {
        "colab": {
          "base_uri": "https://localhost:8080/"
        },
        "id": "zNwUIy5fsXtu",
        "outputId": "67b76fb4-f097-40e9-f578-681f1b235734"
      },
      "source": [
        "from google.colab import drive \n",
        "drive.mount('/content/drive')"
      ],
      "execution_count": 1,
      "outputs": [
        {
          "output_type": "stream",
          "text": [
            "Mounted at /content/drive\n"
          ],
          "name": "stdout"
        }
      ]
    },
    {
      "cell_type": "code",
      "metadata": {
        "id": "Wx9ajZC-pFYu"
      },
      "source": [
        "# ラベルの読み込み\n",
        "import pickle\n",
        "# with open(\"/content/drive/MyDrive/pickle/label_five_class.pickle\", mode=\"rb\") as f:\n",
        "#    label = pickle.load(f)\n",
        "# f.close()\n",
        "with open(\"/content/drive/MyDrive/pickle/label_HC_vs_GD_class.pickle\", mode=\"rb\") as f:\n",
        "   label = pickle.load(f)\n",
        "f.close()\n",
        "# with open(\"/content/drive/MyDrive/pickle/HC_A_C_label.pickle\", mode=\"rb\") as f:\n",
        "#    label = pickle.load(f)\n",
        "# f.close()\n",
        "\n",
        "# with open(\"/content/drive/MyDrive/pickle/HC_A_C_file_name.pickle\", mode=\"rb\") as f:\n",
        "#    data = pickle.load(f)\n",
        "# f.close()"
      ],
      "execution_count": 14,
      "outputs": []
    },
    {
      "cell_type": "code",
      "metadata": {
        "colab": {
          "base_uri": "https://localhost:8080/"
        },
        "id": "VBQp7qm8Z4Jw",
        "outputId": "617d0f06-af76-40c6-ca1d-5209bce04a43"
      },
      "source": [
        "# データセット内訳チェック\n",
        "import numpy as np\n",
        "\n",
        "print(np.array(np.where(label == 0)).shape)\n",
        "print(np.array(np.where(label == 1)).shape)\n",
        "print(np.array(np.where(label == 2)).shape)\n",
        "print(np.array(np.where(label == 3)).shape)\n",
        "print(np.array(np.where(label == 4)).shape)\n",
        "\n",
        "# NaNチェック\n",
        "print(np.isnan(label).sum())"
      ],
      "execution_count": 3,
      "outputs": [
        {
          "output_type": "stream",
          "text": [
            "(1, 7755)\n",
            "(1, 12748)\n",
            "(1, 19873)\n",
            "(1, 21386)\n",
            "(1, 13970)\n",
            "0\n"
          ],
          "name": "stdout"
        }
      ]
    },
    {
      "cell_type": "code",
      "metadata": {
        "colab": {
          "base_uri": "https://localhost:8080/"
        },
        "id": "S-KPR8cl7-ul",
        "outputId": "a9be7c7d-4a25-4f43-a2d2-111c40ebc231"
      },
      "source": [
        "data.shape"
      ],
      "execution_count": 51,
      "outputs": [
        {
          "output_type": "execute_result",
          "data": {
            "text/plain": [
              "(43111,)"
            ]
          },
          "metadata": {
            "tags": []
          },
          "execution_count": 51
        }
      ]
    },
    {
      "cell_type": "code",
      "metadata": {
        "colab": {
          "base_uri": "https://localhost:8080/"
        },
        "id": "MdXgcprG6dXD",
        "outputId": "0634be81-2c57-4815-ac1d-5652c4683130"
      },
      "source": [
        "import tensorflow as tf\n",
        "from tensorflow.keras import optimizers, regularizers\n",
        "from tensorflow.keras.models import Sequential\n",
        "from tensorflow.keras.layers import Conv2D, MaxPooling2D, LSTM, InputLayer, Dense, Dropout, Activation, Flatten, concatenate, Conv1D, MaxPooling1D, Input, Reshape, Bidirectional, GlobalAveragePooling2D\n",
        "from keras.models import Model\n",
        "from tensorflow.keras.callbacks import TensorBoard, LearningRateScheduler\n",
        "import time\n",
        "import math\n",
        "from keras.callbacks import ModelCheckpoint, EarlyStopping\n",
        "from sklearn.metrics import confusion_matrix, classification_report, plot_confusion_matrix\n",
        "import seaborn as sns\n",
        "from sklearn.model_selection import train_test_split\n",
        "import keras\n",
        "from PIL import Image\n",
        "import numpy as np\n",
        "\n",
        "# NAME = \"HC-vs-C-LSTM_2class\"\n",
        "# NAME = \"HC-vs-A-LSTM_2class\"\n",
        "# NAME = \"HC-vs-K-LSTM_2class\"\n",
        "# NAME = \"HC-vs-H-LSTM_2class\"\n",
        "# NAME = \"HC-vs-GDs-LSTM_2class\"\n",
        "# NAME = \"H-vs-K-vs-A-vs-C-LSTM_4class\"\n",
        "#NAME = \"HC-vs-H-vs-K-vs-A-vs-C-LSTM_5class\"\n",
        "# NAME = \"H-vs-K-vs-A-vs-C-CNN_4class\"\n",
        "NAME = \"HC-vs-Patients-CNN_5class\"\n",
        "# NAME = \"HC-vs-GDs-CNN_2class\"\n",
        "# NAME = \"HC-vs-H-CNN_2class\"\n",
        "# NAME = \"HC-vs-K-CNN_2class\"\n",
        "# NAME = \"HC-vs-A-CNN_2class\"\n",
        "# NAME = \"HC-vs-C-CNN_2class\"\n",
        "\n",
        "#-----------------------------------初期設定-------------------------------------------\n",
        "# tensorboardのログ\n",
        "tensorboard = TensorBoard(log_dir=\"logs/{}\".format(NAME))\n",
        "\n",
        "# 学習打ち切り目安\n",
        "early_stopping = EarlyStopping(\n",
        "                        monitor='val_loss',\n",
        "                        min_delta=0.0,\n",
        "                        patience=10,\n",
        "                )\n",
        "\n",
        "# checkpointの設定\n",
        "checkpoint = ModelCheckpoint(\n",
        "                    filepath=\"saved_model/{}\".format(NAME),\n",
        "                    monitor='val_loss',\n",
        "                    save_best_only=True,\n",
        "                    period=1,\n",
        "                )"
      ],
      "execution_count": 9,
      "outputs": [
        {
          "output_type": "stream",
          "text": [
            "WARNING:tensorflow:`period` argument is deprecated. Please use `save_freq` to specify the frequency in number of batches seen.\n"
          ],
          "name": "stdout"
        }
      ]
    },
    {
      "cell_type": "code",
      "metadata": {
        "id": "K9Jgh1RXNzjC"
      },
      "source": [
        "# 入力データの加工\n",
        "\n",
        "def conv_binary(number):\n",
        "  V_left_filename = '/content/spectrogram_data/V_left/{}.png'.format(number)\n",
        "  V_right_filename = '/content/spectrogram_data/V_right/{}.png'.format(number)\n",
        "  # AP_left_filename = '/content/spectrogram_data/AP_left/{}.png'.format(number)\n",
        "  # AP_right_filename = '/content/spectrogram_data/AP_right/{}.png'.format(number)\n",
        "  # ML_left_filename = '/content/spectrogram_data/ML_left/{}.png'.format(number)\n",
        "  # ML_right_filename = '/content/spectrogram_data/ML_right/{}.png'.format(number)\n",
        "\n",
        "\n",
        "  V_left_img = Image.open(V_left_filename)\n",
        "  V_right_img = Image.open(V_right_filename)\n",
        "  # AP_left_img = Image.open(AP_left_filename)\n",
        "  # AP_right_img = Image.open(AP_right_filename)\n",
        "  # ML_left_img = Image.open(ML_left_filename)\n",
        "  # ML_right_img = Image.open(ML_right_filename)\n",
        "\n",
        "  V_left_img = V_left_img.resize(size=(224, 112), resample=Image.BICUBIC)\n",
        "  V_right_img = V_right_img.resize(size=(224, 112), resample=Image.BICUBIC)\n",
        "  # AP_left_img = AP_left_img.resize(size=(114, 76), resample=Image.BICUBIC)\n",
        "  # AP_right_img = AP_right_img.resize(size=(114, 76), resample=Image.BICUBIC)\n",
        "  # ML_left_img = ML_left_img.resize(size=(114, 76), resample=Image.BICUBIC)\n",
        "  # ML_right_img = ML_right_img.resize(size=(114, 76), resample=Image.BICUBIC)\n",
        "\n",
        "  V_left_rgb = np.array(V_left_img.convert('RGB')).astype('float32')\n",
        "  V_right_rgb = np.array(V_right_img.convert('RGB')).astype('float32')\n",
        "  # AP_left_rgb = np.array(AP_left_img.convert('RGB')).astype('float32')\n",
        "  # AP_right_rgb = np.array(AP_right_img.convert('RGB')).astype('float32')\n",
        "  # ML_left_rgb = np.array(ML_left_img.convert('RGB')).astype('float32')\n",
        "  # ML_right_rgb = np.array(ML_right_img.convert('RGB')).astype('float32')\n",
        "\n",
        "  V_left_rgb /= 255.0\n",
        "  V_right_rgb /= 255.0\n",
        "  # AP_left_rgb /= 255.0\n",
        "  # AP_right_rgb /= 255.0\n",
        "  # ML_left_rgb /= 255.0\n",
        "  # ML_right_rgb /= 255.0\n",
        "\n",
        "  # V_img_array = np.concatenate([V_left_rgb, V_right_rgb], axis=0)\n",
        "  # AP_img_array = np.concatenate([AP_left_rgb, AP_right_rgb], axis=0)\n",
        "  # ML_img_array = np.concatenate([ML_left_rgb, ML_right_rgb], axis=0)\n",
        "  # img_array = np.concatenate([V_img_array, AP_img_array, ML_img_array], axis=1)\n",
        "\n",
        "  # V_img_array = np.concatenate([V_left_rgb, V_right_rgb], axis=1)\n",
        "  # AP_img_array = np.concatenate([AP_left_rgb, AP_right_rgb], axis=1)\n",
        "  # ML_img_array = np.concatenate([ML_left_rgb, ML_right_rgb], axis=1)\n",
        "  # img_array = np.concatenate([V_img_array, AP_img_array, ML_img_array], axis=0)\n",
        "\n",
        "  # img_array = np.concatenate([V_img_array, AP_img_array, ML_img_array], axis=0)\n",
        "  img_array = np.concatenate([V_left_rgb, V_right_rgb], axis=0)\n",
        "  return img_array"
      ],
      "execution_count": 10,
      "outputs": []
    },
    {
      "cell_type": "code",
      "metadata": {
        "colab": {
          "base_uri": "https://localhost:8080/",
          "height": 129
        },
        "id": "n1Xk22NeUknx",
        "outputId": "8fe2f55a-0281-4bb1-b2bd-ddd35e1b1285"
      },
      "source": [
        "# 入力画像確認用\n",
        "number=1\n",
        "V_left_filename = '/content/spectrogram_data/V_left/{}.png'.format(number)\n",
        "V_right_filename = '/content/spectrogram_data/V_right/{}.png'.format(number)\n",
        "AP_left_filename = '/content/spectrogram_data/AP_left/{}.png'.format(number)\n",
        "AP_right_filename = '/content/spectrogram_data/AP_right/{}.png'.format(number)\n",
        "ML_left_filename = '/content/spectrogram_data/ML_left/{}.png'.format(number)\n",
        "ML_right_filename = '/content/spectrogram_data/ML_right/{}.png'.format(number)\n",
        "\n",
        "\n",
        "V_left_img = Image.open(V_left_filename)\n",
        "V_right_img = Image.open(V_right_filename)\n",
        "AP_left_img = Image.open(AP_left_filename)\n",
        "AP_right_img = Image.open(AP_right_filename)\n",
        "ML_left_img = Image.open(ML_left_filename)\n",
        "ML_right_img = Image.open(ML_right_filename)\n",
        "\n",
        "V_left_img = V_left_img.resize(size=(224, 112), resample=Image.BICUBIC)\n",
        "V_right_img = V_right_img.resize(size=(224, 112), resample=Image.BICUBIC)\n",
        "AP_left_img = AP_left_img.resize(size=(114, 76), resample=Image.BICUBIC)\n",
        "AP_right_img = AP_right_img.resize(size=(114, 76), resample=Image.BICUBIC)\n",
        "ML_left_img = ML_left_img.resize(size=(114, 76), resample=Image.BICUBIC)\n",
        "ML_right_img = ML_right_img.resize(size=(114, 76), resample=Image.BICUBIC)\n",
        "\n",
        "V_left_rgb = np.array(V_left_img.convert('RGB')).astype('float32')\n",
        "V_right_rgb = np.array(V_right_img.convert('RGB')).astype('float32')\n",
        "AP_left_rgb = np.array(AP_left_img.convert('RGB')).astype('float32')\n",
        "AP_right_rgb = np.array(AP_right_img.convert('RGB')).astype('float32')\n",
        "ML_left_rgb = np.array(ML_left_img.convert('RGB')).astype('float32')\n",
        "ML_right_rgb = np.array(ML_right_img.convert('RGB')).astype('float32')\n",
        "\n",
        "V_left_rgb /= 255.0\n",
        "V_right_rgb /= 255.0\n",
        "AP_left_rgb /= 255.0\n",
        "AP_right_rgb /= 255.0\n",
        "ML_left_rgb /= 255.0\n",
        "ML_right_rgb /= 255.0\n",
        "\n",
        "# V_img_array = np.concatenate([V_left_rgb, V_right_rgb], axis=0)\n",
        "# AP_img_array = np.concatenate([AP_left_rgb, AP_right_rgb], axis=0)\n",
        "# ML_img_array = np.concatenate([ML_left_rgb, ML_right_rgb], axis=0)\n",
        "\n",
        "# img_array = np.concatenate([V_img_array, AP_img_array, ML_img_array], axis=1)\n",
        "\n",
        "# V_img_array = np.concatenate([V_left_rgb, V_right_rgb], axis=1)\n",
        "# AP_img_array = np.concatenate([AP_left_rgb, AP_right_rgb], axis=1)\n",
        "# ML_img_array = np.concatenate([ML_left_rgb, ML_right_rgb], axis=1)\n",
        "\n",
        "# img_array = np.concatenate([V_img_array, AP_img_array, ML_img_array], axis=0)\n",
        "\n",
        "img_array = np.concatenate([V_left_rgb, V_right_rgb], axis=0)\n",
        "\n",
        "V_left_img\n",
        "V_right_img"
      ],
      "execution_count": 68,
      "outputs": [
        {
          "output_type": "execute_result",
          "data": {
            "image/png": "[encoded data removed]",
            "text/plain": [
              "<PIL.Image.Image image mode=RGBA size=224x112 at 0x7F128C737358>"
            ]
          },
          "metadata": {
            "tags": []
          },
          "execution_count": 68
        }
      ]
    },
    {
      "cell_type": "code",
      "metadata": {
        "colab": {
          "base_uri": "https://localhost:8080/"
        },
        "id": "g_krvWCIKGv-",
        "outputId": "1b6c26d3-0492-40e6-ff20-d2fa14703d43"
      },
      "source": [
        "img_array.shape"
      ],
      "execution_count": 69,
      "outputs": [
        {
          "output_type": "execute_result",
          "data": {
            "text/plain": [
              "(224, 224, 3)"
            ]
          },
          "metadata": {
            "tags": []
          },
          "execution_count": 69
        }
      ]
    },
    {
      "cell_type": "code",
      "metadata": {
        "id": "7hdvubAwGfJW"
      },
      "source": [
        "def get_batch(batch_size, X, Y):\n",
        "    \"\"\"\n",
        "    batchを取得する関数\n",
        "    \"\"\"\n",
        "    SIZE = len(X)\n",
        "    # n_batchs\n",
        "    n_batchs = SIZE//batch_size\n",
        "    # for でyield\n",
        "    i = 0\n",
        "    while ((i+batch_size) < SIZE):\n",
        "        # print(\"doing\", i, \"/\", n_batchs)\n",
        "        # Y_batch = Y[(i * n_batchs):(i * n_batchs + batch_size)]\n",
        "        Y_batch = Y[i:(i + batch_size)]\n",
        "        \n",
        "        #あるbatchのfilenameの配列を持っておく\n",
        "        # X_batch_name = X[(i * n_batchs):(i * n_batchs + batch_size)]\n",
        "        X_batch_name = X[i:(i + batch_size)]\n",
        "\n",
        "        # filenameにしたがってバッチのtensorを構築\n",
        "        X_batch = np.array([conv_binary(file) for file in X_batch_name])\n",
        "        \n",
        "        # これで(batch_size, 28, 28, 1)のtrainのテンソルが作られる\n",
        "        i += 1\n",
        "        yield X_batch, Y_batch"
      ],
      "execution_count": 11,
      "outputs": []
    },
    {
      "cell_type": "code",
      "metadata": {
        "id": "gYOjlY_bVlA5"
      },
      "source": [
        "from keras.models import Model\n",
        "from keras.layers import Dense, GlobalAveragePooling2D,Input, Dropout\n",
        "from keras.applications.vgg16 import VGG16\n",
        "from keras.preprocessing.image import ImageDataGenerator\n",
        "from keras.optimizers import SGD\n",
        "from keras.callbacks import CSVLogger\n",
        "from sklearn.model_selection import StratifiedKFold\n",
        "\n",
        "n_categories=5\n",
        "N_EPOCHS = 1000\n",
        "# 32, 64, 128, 256, 400 overfitting\n",
        "BATCH_SIZE = 64\n",
        "\n",
        "# acquire the .png name\n",
        "TRAINS = np.array(range(len(label)))\n",
        "# TRAINS = data\n",
        "y = label\n",
        "# # split test and train\n",
        "# X_train, X_test, Y_train, Y_test = train_test_split(\n",
        "#     TRAINS, y, test_size=0.1, random_state=42)\n",
        "\n",
        "# split test and the others\n",
        "X_train_and_val, X_test, Y_train_and_val, Y_test = train_test_split(\n",
        "    TRAINS, y, test_size=0.1, random_state=42)\n",
        "\n",
        "# split k-folds (その中の一つのfoldがvalidationのためのtestデータとなる)\n",
        "skf = StratifiedKFold(n_splits=10, shuffle=True, random_state=42)\n",
        "for X_index, Y_index in skf.split(X_train_and_val, Y_train_and_val):\n",
        "    # print(\"train_index:\", train_index, \"val_index:\", val_index)\n",
        "    # print(\"train data\", X_train_and_val[X_index])\n",
        "    # print(\"train label\", Y_train_and_val[X_index])\n",
        "    # print(\"test data\", X_train_and_val[Y_index])\n",
        "    # print(\"test label\", Y_train_and_val[Y_index])\n",
        "\n",
        "    train_data = X_train_and_val[X_index]\n",
        "    train_label = Y_train_and_val[X_index]\n",
        "    test_data = X_train_and_val[Y_index]\n",
        "    test_label = Y_train_and_val[Y_index]\n",
        "\n",
        "    steps_per_epoch=len(X_train_and_val[X_index])//BATCH_SIZE \n",
        "    validation_steps=len(X_train_and_val[Y_index])//BATCH_SIZE \n",
        "\n",
        "training_generator = get_batch(BATCH_SIZE, train_data, train_label)\n",
        "validation_generator = get_batch(BATCH_SIZE, test_data, test_label)\n",
        "\n",
        "vgg_model = VGG16(weights='imagenet',include_top=False, input_shape=(224, 224, 3))\n",
        "\n",
        "#add new layers instead of FC networks\n",
        "x=vgg_model.output\n",
        "x=Flatten()(x) # Flatten dimensions to for use in FC layers\n",
        "x=Dense(256, activation='relu', activity_regularizer=regularizers.l1(l1=0.02))(x)\n",
        "x=Dropout(0.6)(x) # Dropout layer to reduce overfitting\n",
        "# x = Dense(256, activation='relu')(x)\n",
        "x = Dense(n_categories, activation='softmax')(x) # Softmax for multiclass\n",
        "transfer_model = Model(inputs=vgg_model.input, outputs=x)\n",
        "\n",
        "#fix weights before VGG16 14layers\n",
        "for layer in vgg_model.layers[:15]:\n",
        "    layer.trainable=False\n",
        "\n",
        "transfer_model.compile(optimizer=optimizers.Adam(lr=5e-5),\n",
        "              loss='sparse_categorical_crossentropy',\n",
        "              metrics=['accuracy'])\n",
        "\n",
        "transfer_model.summary()\n",
        "\n",
        "hist=transfer_model.fit_generator(\n",
        "    generator=training_generator,\n",
        "    validation_data=validation_generator,\n",
        "    steps_per_epoch=steps_per_epoch,\n",
        "    validation_steps=validation_steps,\n",
        "    epochs=N_EPOCHS\n",
        "    )\n",
        "\n",
        "#save weights\n",
        "transfer_model.save(file_name+'.h5')"
      ],
      "execution_count": null,
      "outputs": []
    },
    {
      "cell_type": "code",
      "metadata": {
        "id": "qqblAWXn9rwD"
      },
      "source": [
        "print(steps_per_epoch)\n",
        "print(len(X_train_and_val[X_index]))\n",
        "print(BATCH_SIZE)"
      ],
      "execution_count": null,
      "outputs": []
    },
    {
      "cell_type": "code",
      "metadata": {
        "id": "8AT5JaPXhZ1p"
      },
      "source": [
        "import gc\n",
        "gc.collect()"
      ],
      "execution_count": null,
      "outputs": []
    },
    {
      "cell_type": "code",
      "metadata": {
        "id": "f7xCzsUOMut2"
      },
      "source": [
        "print(X_train_and_val[X_index].shape)\n",
        "print(X_index.shape)\n",
        "print(X_train_and_val[X_index][0])\n",
        "print(X_index[0])\n",
        "TRAINS"
      ],
      "execution_count": null,
      "outputs": []
    },
    {
      "cell_type": "code",
      "metadata": {
        "id": "x1nBpLOa8dpf"
      },
      "source": [
        "# データの読み込み \n",
        "# yesを選ぶように!\n",
        "!unzip /content/drive/MyDrive/zip_spectrogram_data/AP_left.zip\n",
        "!unzip /content/drive/MyDrive/zip_spectrogram_data/AP_right.zip\n",
        "!unzip /content/drive/MyDrive/zip_spectrogram_data/AP_right_69826.zip"
      ],
      "execution_count": null,
      "outputs": []
    },
    {
      "cell_type": "code",
      "metadata": {
        "id": "8PcYi1KLxa5G"
      },
      "source": [
        "# データの読み込み\n",
        "# yesを選ぶように!\n",
        "!unzip /content/drive/MyDrive/zip_spectrogram_data/ML_left.zip\n",
        "!unzip /content/drive/MyDrive/zip_spectrogram_data/ML_left_58106.zip\n",
        "!unzip /content/drive/MyDrive/zip_spectrogram_data/ML_right.zip"
      ],
      "execution_count": null,
      "outputs": []
    },
    {
      "cell_type": "code",
      "metadata": {
        "id": "UfcILK3fxdA-"
      },
      "source": [
        "# データの読み込み\n",
        "# yesを選ぶように!\n",
        "!unzip /content/drive/MyDrive/zip_spectrogram_data/V_left.zip\n",
        "!unzip /content/drive/MyDrive/zip_spectrogram_data/V_left_48327.zip\n",
        "!unzip /content/drive/MyDrive/zip_spectrogram_data/V_right.zip\n",
        "!unzip /content/drive/MyDrive/zip_spectrogram_data/V_right_34533.zip"
      ],
      "execution_count": null,
      "outputs": []
    },
    {
      "cell_type": "code",
      "metadata": {
        "id": "9oDzvMmh_xB1"
      },
      "source": [
        "img = Image.open(\"/content/spectrogram_data/ML_left/58106.png\")\n",
        "img"
      ],
      "execution_count": null,
      "outputs": []
    }
  ]
}