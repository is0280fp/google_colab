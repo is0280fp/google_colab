{
  "nbformat": 4,
  "nbformat_minor": 0,
  "metadata": {
    "colab": {
      "name": "Affected_unaffected_separation.ipynb",
      "provenance": [],
      "include_colab_link": true
    },
    "kernelspec": {
      "name": "python3",
      "display_name": "Python 3"
    }
  },
  "cells": [
    {
      "cell_type": "markdown",
      "metadata": {
        "id": "view-in-github",
        "colab_type": "text"
      },
      "source": [
        "<a href=\"https://colab.research.google.com/github/is0280fp/google_colab/blob/main/Affected_unaffected_separation.ipynb\" target=\"_parent\"><img src=\"https://colab.research.google.com/assets/colab-badge.svg\" alt=\"Open In Colab\"/></a>"
      ]
    },
    {
      "cell_type": "code",
      "metadata": {
        "colab": {
          "base_uri": "https://localhost:8080/"
        },
        "id": "nigSvqJZOVSu",
        "outputId": "49c5af82-168c-40e8-d508-08e07ab3fc68"
      },
      "source": [
        "from google.colab import drive \n",
        "drive.mount('/content/drive')"
      ],
      "execution_count": null,
      "outputs": [
        {
          "output_type": "stream",
          "text": [
            "Mounted at /content/drive\n"
          ],
          "name": "stdout"
        }
      ]
    },
    {
      "cell_type": "code",
      "metadata": {
        "id": "EYjwnI_yO3JN"
      },
      "source": [
        "import pickle\n",
        "import numpy as np\n",
        "import pandas as pd\n",
        "\n",
        "# data\n",
        "with open(\"/content/drive/MyDrive/pickle/V_right.pickle\", mode=\"rb\") as f:\n",
        "   V_right = pickle.load(f)\n",
        "f.close()\n",
        "with open(\"/content/drive/MyDrive/pickle/V_left.pickle\", mode=\"rb\") as f:\n",
        "   V_left = pickle.load(f)\n",
        "f.close()\n",
        "\n",
        "with open(\"/content/drive/MyDrive/pickle/ML_right.pickle\", mode=\"rb\") as f:\n",
        "   ML_right = pickle.load(f)\n",
        "f.close()\n",
        "with open(\"/content/drive/MyDrive/pickle/ML_left.pickle\", mode=\"rb\") as f:\n",
        "   ML_left = pickle.load(f)\n",
        "f.close()\n",
        "\n",
        "with open(\"/content/drive/MyDrive/pickle/AP_right.pickle\", mode=\"rb\") as f:\n",
        "   AP_right = pickle.load(f)\n",
        "f.close()\n",
        "with open(\"/content/drive/MyDrive/pickle/AP_left.pickle\", mode=\"rb\") as f:\n",
        "   AP_left = pickle.load(f)\n",
        "f.close()\n",
        "\n",
        "with open(\"/content/drive/MyDrive/pickle/label_five_class.pickle\", mode=\"rb\") as f:\n",
        "   label = pickle.load(f)\n",
        "f.close()\n",
        "\n",
        "# with open(\"/content/drive/MyDrive/pickle/metadata.pickle\", mode=\"rb\") as f:\n",
        "#    metadata = pickle.load(f)\n",
        "# f.close()\n",
        "# metadata = np.array(metadata)\n",
        "# metadata_items = metadata[0]\n",
        "# metadata = metadata[1::]\n",
        "\n",
        "with open(\"/content/drive/MyDrive/pickle/metadata_for_GRF.pickle\", mode=\"rb\") as f:\n",
        "   metadata_for_GRF = pickle.load(f)\n",
        "f.close()\n",
        "\n",
        "with open(\"/content/drive/MyDrive/pickle/train_idx_list_StratifiedGroup5Fold.pickle\", mode=\"rb\") as f:\n",
        "   train_index_list = pickle.load(f)\n",
        "f.close()\n",
        "\n",
        "with open(\"/content/drive/MyDrive/pickle/val_idx_list_StratifiedGroup5Fold.pickle\", mode=\"rb\") as f:\n",
        "   val_index_list = pickle.load(f)\n",
        "f.close()"
      ],
      "execution_count": null,
      "outputs": []
    },
    {
      "cell_type": "code",
      "metadata": {
        "colab": {
          "base_uri": "https://localhost:8080/"
        },
        "id": "sFSFsxY63trC",
        "outputId": "08614f85-cebf-43d0-be49-c3e9409e9c44"
      },
      "source": [
        "# metadata_for_GRF[::, 3]のNanを3に変換\n",
        "print(\"before replacing Nan\")\n",
        "print(\"Affected=left\", np.array(np.where(metadata_for_GRF[::, 3] == 0)).shape)\n",
        "print(\"Affected=right\", np.array(np.where(metadata_for_GRF[::, 3] == 1)).shape)\n",
        "print(\"Affected=both\", np.array(np.where(metadata_for_GRF[::, 3] == 2)).shape)\n",
        "print(np.array(np.where(metadata_for_GRF[::, 3] == 3)).shape)\n",
        "metadata_for_GRF[::, 3] = np.nan_to_num(metadata_for_GRF[::, 3], nan=3)\n",
        "print(\"after replacing Nan with 3\")\n",
        "print(\"Affected=left\", np.array(np.where(metadata_for_GRF[::, 3] == 0)).shape)\n",
        "print(\"Affected=right\", np.array(np.where(metadata_for_GRF[::, 3] == 1)).shape)\n",
        "print(\"Affected=both\", np.array(np.where(metadata_for_GRF[::, 3] == 2)).shape)\n",
        "print(\"HC\", np.array(np.where(metadata_for_GRF[::, 3] == 3)).shape)"
      ],
      "execution_count": null,
      "outputs": [
        {
          "output_type": "stream",
          "text": [
            "before replacing Nan\n",
            "Affected=left (1, 32884)\n",
            "Affected=right (1, 31556)\n",
            "Affected=both (1, 3537)\n",
            "(1, 0)\n",
            "after replacing Nan with 3\n",
            "Affected=left (1, 32884)\n",
            "Affected=right (1, 31556)\n",
            "Affected=both (1, 3537)\n",
            "HC (1, 7755)\n"
          ],
          "name": "stdout"
        }
      ]
    },
    {
      "cell_type": "code",
      "metadata": {
        "id": "ufmlXe071UzU"
      },
      "source": [
        "import random\n",
        "\n",
        "# affected vs unaffected\n",
        "V_affected_list = []\n",
        "V_unaffected_list = []\n",
        "AP_affected_list = []\n",
        "AP_unaffected_list = []\n",
        "ML_affected_list = []\n",
        "ML_unaffected_list = []\n",
        "\n",
        "for i in range(len(label)):\n",
        "  if metadata_for_GRF[i, 3] == 0: # left=affected\n",
        "    V_affected_list.append(V_left[i])\n",
        "    V_unaffected_list.append(V_right[i])\n",
        "    AP_affected_list.append(AP_left[i])\n",
        "    AP_unaffected_list.append(AP_right[i])\n",
        "    ML_affected_list.append(ML_left[i])\n",
        "    ML_unaffected_list.append(ML_right[i])\n",
        "  elif metadata_for_GRF[i, 3] == 1: # right=affected\n",
        "    V_affected_list.append(V_right[i])\n",
        "    V_unaffected_list.append(V_left[i])\n",
        "    AP_affected_list.append(AP_right[i])\n",
        "    AP_unaffected_list.append(AP_left[i])\n",
        "    ML_affected_list.append(ML_right[i])\n",
        "    ML_unaffected_list.append(ML_left[i])\n",
        "  elif metadata_for_GRF[i, 3] > 1: # both=affected or HC\n",
        "    x = 1 if random.random() >= 0.5 else 0\n",
        "    if x ==1:\n",
        "      V_affected_list.append(V_left[i])\n",
        "      V_unaffected_list.append(V_right[i])\n",
        "      AP_affected_list.append(AP_left[i])\n",
        "      AP_unaffected_list.append(AP_right[i])\n",
        "      ML_affected_list.append(ML_left[i])\n",
        "      ML_unaffected_list.append(ML_right[i])\n",
        "    else:\n",
        "      V_affected_list.append(V_right[i])\n",
        "      V_unaffected_list.append(V_left[i])\n",
        "      AP_affected_list.append(AP_right[i])\n",
        "      AP_unaffected_list.append(AP_left[i])\n",
        "      ML_affected_list.append(ML_right[i])\n",
        "      ML_unaffected_list.append(ML_left[i])"
      ],
      "execution_count": null,
      "outputs": []
    },
    {
      "cell_type": "code",
      "metadata": {
        "id": "19h1XSRY6O_p"
      },
      "source": [
        "V_affected_list = np.array(V_affected_list)\n",
        "V_unaffected_list = np.array(V_unaffected_list)\n",
        "ML_affected_list = np.array(ML_affected_list)\n",
        "ML_unaffected_list = np.array(ML_unaffected_list)\n",
        "AP_affected_list = np.array(AP_affected_list)\n",
        "AP_unaffected_list = np.array(AP_unaffected_list)"
      ],
      "execution_count": null,
      "outputs": []
    },
    {
      "cell_type": "code",
      "metadata": {
        "colab": {
          "base_uri": "https://localhost:8080/"
        },
        "id": "0w18EgHq7Dxl",
        "outputId": "793c6268-7e16-46ab-8907-2d86bfc54cd5"
      },
      "source": [
        "print(V_affected_list.shape)\n",
        "print(V_unaffected_list.shape)\n",
        "print(ML_affected_list.shape)\n",
        "print(ML_unaffected_list.shape)\n",
        "print(AP_affected_list.shape)\n",
        "print(AP_unaffected_list.shape)"
      ],
      "execution_count": null,
      "outputs": [
        {
          "output_type": "stream",
          "text": [
            "(75732, 101)\n",
            "(75732, 101)\n",
            "(75732, 101)\n",
            "(75732, 101)\n",
            "(75732, 101)\n",
            "(75732, 101)\n"
          ],
          "name": "stdout"
        }
      ]
    },
    {
      "cell_type": "code",
      "metadata": {
        "id": "UBRN15MP6CHB"
      },
      "source": [
        "with open(\"/content/drive/MyDrive/pickle/V_affected.pickle\", mode=\"wb\") as f:\n",
        "   pickle.dump(V_affected_list, f)\n",
        "f.close()\n",
        "with open(\"/content/drive/MyDrive/pickle/V_unaffected.pickle\", mode=\"wb\") as f:\n",
        "   pickle.dump(V_unaffected_list, f)\n",
        "f.close()\n",
        "\n",
        "with open(\"/content/drive/MyDrive/pickle/ML_affected.pickle\", mode=\"wb\") as f:\n",
        "   pickle.dump(ML_affected_list, f)\n",
        "f.close()\n",
        "with open(\"/content/drive/MyDrive/pickle/ML_unaffected.pickle\", mode=\"wb\") as f:\n",
        "   pickle.dump(ML_unaffected_list, f)\n",
        "f.close()\n",
        "\n",
        "with open(\"/content/drive/MyDrive/pickle/AP_affected.pickle\", mode=\"wb\") as f:\n",
        "   pickle.dump(AP_affected_list, f)\n",
        "f.close()\n",
        "with open(\"/content/drive/MyDrive/pickle/AP_unaffected.pickle\", mode=\"wb\") as f:\n",
        "  pickle.dump(AP_unaffected_list, f)\n",
        "f.close()"
      ],
      "execution_count": null,
      "outputs": []
    }
  ]
}