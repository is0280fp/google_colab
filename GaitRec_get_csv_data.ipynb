{
  "nbformat": 4,
  "nbformat_minor": 0,
  "metadata": {
    "accelerator": "GPU",
    "colab": {
      "name": "GaitRec_get_csv_data.ipynb",
      "provenance": [],
      "collapsed_sections": [],
      "mount_file_id": "1ijdXNpxuZHp7dm0zBtwiR-ocqDlg6IYg",
      "authorship_tag": "ABX9TyMyyKxD5ucksESBV0m5uQzu",
      "include_colab_link": true
    },
    "kernelspec": {
      "display_name": "Python 3",
      "name": "python3"
    }
  },
  "cells": [
    {
      "cell_type": "markdown",
      "metadata": {
        "id": "view-in-github",
        "colab_type": "text"
      },
      "source": [
        "<a href=\"https://colab.research.google.com/github/is0280fp/google_colab/blob/main/GaitRec_get_csv_data.ipynb\" target=\"_parent\"><img src=\"https://colab.research.google.com/assets/colab-badge.svg\" alt=\"Open In Colab\"/></a>"
      ]
    },
    {
      "cell_type": "code",
      "metadata": {
        "id": "Lh16VKnfw0Ud"
      },
      "source": [
        "# from IPython.core.debugger import Pdb; Pdb().set_trace()\n",
        "import csv\n",
        "import tensorflow as tf\n",
        "import functools\n",
        "import numpy as np\n",
        "\n",
        "with open('/content/drive/MyDrive/GaitRect/GaitRect/GRF_F_V_PRO_left.csv') as f:\n",
        "    reader = csv.reader(f)\n",
        "    V_left = [row for row in reader]\n",
        "f.close()\n",
        "\n",
        "with open('/content/drive/MyDrive/GaitRect/GaitRect/GRF_F_V_PRO_right.csv') as f:\n",
        "    reader = csv.reader(f)\n",
        "    V_right = [row for row in reader]\n",
        "f.close()\n",
        "\n",
        "with open('/content/drive/MyDrive/GaitRect/GaitRect/GRF_F_AP_PRO_left.csv') as f:\n",
        "    reader = csv.reader(f)\n",
        "    AP_left = [row for row in reader]\n",
        "f.close()\n",
        "\n",
        "with open('/content/drive/MyDrive/GaitRect/GaitRect/GRF_F_AP_PRO_right.csv') as f:\n",
        "    reader = csv.reader(f)\n",
        "    AP_right = [row for row in reader]\n",
        "f.close()\n",
        "\n",
        "with open('/content/drive/MyDrive/GaitRect/GaitRect/GRF_F_ML_PRO_left.csv') as f:\n",
        "    reader = csv.reader(f)\n",
        "    ML_left = [row for row in reader]\n",
        "f.close()\n",
        "\n",
        "with open('/content/drive/MyDrive/GaitRect/GaitRect/GRF_F_ML_PRO_right.csv') as f:\n",
        "    reader = csv.reader(f)\n",
        "    ML_right = [row for row in reader]\n",
        "f.close()"
      ],
      "execution_count": 2,
      "outputs": []
    },
    {
      "cell_type": "code",
      "metadata": {
        "id": "VPXBon1M0dhB"
      },
      "source": [
        "with open('/content/drive/MyDrive/GaitRect/GaitRect/GRF_metadata.csv') as f:\n",
        "    reader = csv.reader(f)\n",
        "    metadata = [row for row in reader]\n",
        "f.close()\n",
        "\n",
        "meta_items = np.array(metadata, dtype=str)[0,::]\n",
        "metadata = np.array(metadata)[1:,::]"
      ],
      "execution_count": 3,
      "outputs": []
    },
    {
      "cell_type": "code",
      "metadata": {
        "colab": {
          "base_uri": "https://localhost:8080/"
        },
        "id": "o0d7XTWOGElr",
        "outputId": "ae99d297-3cce-4f7f-ceeb-b53c8a9da3a3"
      },
      "source": [
        "len(AP_left)\n",
        "np.array(AP_left).shape\n",
        "np.array(AP_left)[1:,::].shape"
      ],
      "execution_count": 4,
      "outputs": [
        {
          "output_type": "execute_result",
          "data": {
            "text/plain": [
              "(75732, 104)"
            ]
          },
          "metadata": {
            "tags": []
          },
          "execution_count": 4
        }
      ]
    },
    {
      "cell_type": "code",
      "metadata": {
        "id": "cDu3Fg_weaEV"
      },
      "source": [
        "# データそれぞれの一番目の文字列を除去し、数字だけにした\n",
        "V_right_items = np.array(V_right, dtype=str)[0,::]\n",
        "V_right = np.array(V_right)[1:,::]\n",
        "V_right = np.array(V_right, dtype=float)\n",
        "\n",
        "V_left_items = np.array(V_left, dtype=str)[0,::]\n",
        "V_left = np.array(V_left)[1:,::]\n",
        "V_left = np.array(V_left, dtype=float)\n",
        "\n",
        "AP_right_items = np.array(AP_right, dtype=str)[0,::]\n",
        "AP_right = np.array(AP_right)[1:,::]\n",
        "AP_right = np.array(AP_right, dtype=float)\n",
        "\n",
        "AP_left_items = np.array(AP_left, dtype=str)[0,::]\n",
        "AP_left = np.array(AP_left)[1:,::]\n",
        "AP_left = np.array(AP_left, dtype=float)\n",
        "\n",
        "ML_right_items = np.array(ML_right, dtype=str)[0,::]\n",
        "ML_right = np.array(ML_right)[1:,::]\n",
        "ML_right = np.array(ML_right, dtype=float)\n",
        "\n",
        "ML_left_items = np.array(ML_left, dtype=str)[0,::]\n",
        "ML_left = np.array(ML_left)[1:,::]\n",
        "ML_left = np.array(ML_left, dtype=float) # ML_left.shape (75732, 104)"
      ],
      "execution_count": 5,
      "outputs": []
    },
    {
      "cell_type": "code",
      "metadata": {
        "colab": {
          "base_uri": "https://localhost:8080/"
        },
        "id": "Srqy_zkYGlbG",
        "outputId": "94ffa777-39c3-4195-e9f0-42f8dfbededf"
      },
      "source": [
        "AP_left.shape"
      ],
      "execution_count": 6,
      "outputs": [
        {
          "output_type": "execute_result",
          "data": {
            "text/plain": [
              "(75732, 104)"
            ]
          },
          "metadata": {
            "tags": []
          },
          "execution_count": 6
        }
      ]
    },
    {
      "cell_type": "code",
      "metadata": {
        "id": "vRHitCZu82Q5"
      },
      "source": [
        "meta_items\n",
        "SUBJECT_ID = 0\n",
        "SESSION_ID = 1\n",
        "CLASS_LABEL = 2\n",
        "CLASS_LABEL_DETAILED = 3\n",
        "SEX = 4\n",
        "AGE = 5\n",
        "HEIGHT = 6\n",
        "BODY_WEIGHT = 7\n",
        "BODY_MASS = 8\n",
        "SHOE_SIZE = 9\n",
        "AFFECTED_SIDE = 10\n",
        "SHOD_CONDITION = 11\n",
        "ORTHOPEDIC_INSOLE = 12\n",
        "SPEED = 13\n",
        "READMISSION = 14\n",
        "SESSION_TYPE = 15\n",
        "SESSION_DATE = 16\n",
        "TRAIN = 17\n",
        "TRAIN_BALANCED = 18\n",
        "TEST = 19"
      ],
      "execution_count": 7,
      "outputs": []
    },
    {
      "cell_type": "code",
      "metadata": {
        "id": "8VlT5ui9MxLi"
      },
      "source": [
        "metadata_len = len(metadata)\n",
        "# meta = np.array(meta, dytpe=float) str型や日付など変換できない列があるので、逐次floatに変換忘れない\n",
        "# metadataの前処理, 3(class_label_detail)と16(year.date)列目削除して\n",
        "temp1_1 = np.concatenate([metadata[::, SUBJECT_ID].reshape(metadata_len, 1), metadata[::, SESSION_ID].reshape(metadata_len, 1)], axis=1)\n",
        "temp1_2 = np.concatenate([metadata[::, CLASS_LABEL].reshape(metadata_len, 1), metadata[::, AFFECTED_SIDE].reshape(metadata_len, 1)], axis=1)\n",
        "temp1_3 = np.concatenate([metadata[::, TRAIN].reshape(metadata_len, 1), metadata[::, TEST].reshape(metadata_len, 1)], axis=1)\n",
        "temp2 = np.concatenate([temp1_1, temp1_2], axis=1)\n",
        "metadata = np.concatenate([temp2, temp1_3], axis=1)"
      ],
      "execution_count": 8,
      "outputs": []
    },
    {
      "cell_type": "code",
      "metadata": {
        "colab": {
          "base_uri": "https://localhost:8080/"
        },
        "id": "JhbZ6MGX0YU9",
        "outputId": "1e6bb177-e7f0-43de-9f7a-8d79b5d550d3"
      },
      "source": [
        "metadata.shape"
      ],
      "execution_count": 9,
      "outputs": [
        {
          "output_type": "execute_result",
          "data": {
            "text/plain": [
              "(8971, 6)"
            ]
          },
          "metadata": {
            "tags": []
          },
          "execution_count": 9
        }
      ]
    },
    {
      "cell_type": "code",
      "metadata": {
        "id": "TManHd15DK1i"
      },
      "source": [
        "# 2列目を5クラスに対応した数字に変換(HC=0, H=1, K=2, A=3, C=4)\n",
        "metadata = np.where(metadata=='HC', 0, metadata)\n",
        "metadata = np.where(metadata=='H', 1, metadata)\n",
        "metadata = np.where(metadata=='K', 2, metadata)\n",
        "metadata = np.where(metadata=='A', 3, metadata)\n",
        "metadata = np.where(metadata=='C', 4, metadata)"
      ],
      "execution_count": 10,
      "outputs": []
    },
    {
      "cell_type": "code",
      "metadata": {
        "colab": {
          "base_uri": "https://localhost:8080/"
        },
        "id": "iuFWRLwd2gFV",
        "outputId": "b10c3a65-f029-42ce-ee94-d885d64de003"
      },
      "source": [
        "metadata.shape[1]"
      ],
      "execution_count": 11,
      "outputs": [
        {
          "output_type": "execute_result",
          "data": {
            "text/plain": [
              "6"
            ]
          },
          "metadata": {
            "tags": []
          },
          "execution_count": 11
        }
      ]
    },
    {
      "cell_type": "code",
      "metadata": {
        "id": "Ms_w4J7nmGeS"
      },
      "source": [
        "# V_left_and_meta = []\n",
        "# V_right_and_meta = []\n",
        "# AP_left_and_meta = []\n",
        "# AP_right_and_meta = []\n",
        "# ML_left_and_meta = []\n",
        "# ML_right_and_meta = []\n",
        "# リストはramを食いすぎるので、np.arrayを使うことにした\n",
        "\n",
        "TRIAL_num = len(AP_left)\n",
        "metadata_for_GRF = np.zeros([TRIAL_num, metadata.shape[1]])\n",
        "metadata_for_GRF[:,:] = np.nan # shape (8971, 6)\n",
        "\n",
        "for i in range(metadata.shape[0]):\n",
        "  index = np.array(np.where(AP_left[::, SESSION_ID] == int(metadata[i, SESSION_ID]))[0]) # 問題\n",
        "  index = np.array(index)\n",
        "  for k in index:\n",
        "    # from IPython.core.debugger import Pdb; Pdb().set_trace()\n",
        "    metadata_for_GRF[k, ::] = metadata[i, ::]\n"
      ],
      "execution_count": 12,
      "outputs": []
    },
    {
      "cell_type": "code",
      "metadata": {
        "id": "XO_03NIQAk4d"
      },
      "source": [
        "subject_id = 0\n",
        "session_id = 1\n",
        "class_label = 2\n",
        "affected_side = 3\n",
        "train = 4\n",
        "test = 5"
      ],
      "execution_count": 13,
      "outputs": []
    },
    {
      "cell_type": "code",
      "metadata": {
        "colab": {
          "base_uri": "https://localhost:8080/"
        },
        "id": "BuQa86TwFNKe",
        "outputId": "539fbf53-1d7a-4c1f-82a6-5f7d98e41af5"
      },
      "source": [
        "TRIAL_num"
      ],
      "execution_count": 14,
      "outputs": [
        {
          "output_type": "execute_result",
          "data": {
            "text/plain": [
              "75732"
            ]
          },
          "metadata": {
            "tags": []
          },
          "execution_count": 14
        }
      ]
    },
    {
      "cell_type": "code",
      "metadata": {
        "colab": {
          "base_uri": "https://localhost:8080/"
        },
        "id": "iN8tMQiJ3G3u",
        "outputId": "424b83f6-06e0-4de9-c74f-d1259218bde0"
      },
      "source": [
        "metadata_for_GRF.shape"
      ],
      "execution_count": 15,
      "outputs": [
        {
          "output_type": "execute_result",
          "data": {
            "text/plain": [
              "(75732, 6)"
            ]
          },
          "metadata": {
            "tags": []
          },
          "execution_count": 15
        }
      ]
    },
    {
      "cell_type": "code",
      "metadata": {
        "colab": {
          "base_uri": "https://localhost:8080/"
        },
        "id": "UemZHZ-MDO5N",
        "outputId": "3646383f-f3df-4c10-d40a-c7448545bfaf"
      },
      "source": [
        "metadata_for_GRF[::, class_label]"
      ],
      "execution_count": 16,
      "outputs": [
        {
          "output_type": "execute_result",
          "data": {
            "text/plain": [
              "array([4., 4., 4., ..., 0., 0., 0.])"
            ]
          },
          "metadata": {
            "tags": []
          },
          "execution_count": 16
        }
      ]
    },
    {
      "cell_type": "code",
      "metadata": {
        "colab": {
          "base_uri": "https://localhost:8080/"
        },
        "id": "tGqgCzoPukjx",
        "outputId": "edbfc41d-ca1e-461d-a556-b7b2957209f2"
      },
      "source": [
        "print(np.sum(np.isnan(metadata_for_GRF))) # HCの場合、Affected_sideはNaN\n",
        "print(np.array(np.where(metadata_for_GRF[::, class_label] == 0)).shape)\n"
      ],
      "execution_count": 17,
      "outputs": [
        {
          "output_type": "stream",
          "text": [
            "7755\n",
            "(1, 7755)\n"
          ],
          "name": "stdout"
        }
      ]
    },
    {
      "cell_type": "code",
      "metadata": {
        "id": "-gA7sODmJ8NP"
      },
      "source": [
        "# GRFをV,AP,MLの順に横に並べる\n",
        "# AFFECTED_SIDEによって横に並ぶ順番を決める\n",
        "# trainとtestデータにわける\n",
        "\n",
        "V_left = V_left[::,3::]\n",
        "V_right = V_right[::,3::]\n",
        "AP_left = AP_left[::,3::]\n",
        "AP_right = AP_right[::,3::]\n",
        "ML_left = ML_left[::,3::]\n",
        "ML_right = ML_right[::,3::]\n",
        "\n",
        "# min_max normalizationする場合\n",
        "from sklearn import preprocessing\n",
        "# mmscaler = preprocessing.MinMaxScaler(feature_range=(-1, 1), copy=True) # インスタンスの作成、活性化関数でtanhを使うのでfeature_range=(-1,1)\n",
        "mmscaler = preprocessing.MinMaxScaler(feature_range=(0, 1), copy=True) \n",
        "\n",
        "mmscaler.fit(V_left)           # 最大・最小を計算\n",
        "V_left = mmscaler.transform(V_left) # 変換\n",
        "mmscaler.fit(V_right)           # 最大・最小を計算\n",
        "V_right = mmscaler.transform(V_right) # 変換\n",
        "\n",
        "mmscaler.fit(ML_left)           # 最大・最小を計算\n",
        "ML_left = mmscaler.transform(ML_left) # 変換\n",
        "mmscaler.fit(ML_right)           # 最大・最小を計算\n",
        "ML_right = mmscaler.transform(ML_right) # 変換\n",
        "\n",
        "mmscaler.fit(AP_left)           # 最大・最小を計算\n",
        "AP_left = mmscaler.transform(AP_left) # 変換\n",
        "mmscaler.fit(AP_right)           # 最大・最小を計算\n",
        "AP_right = mmscaler.transform(AP_right) # 変換"
      ],
      "execution_count": 18,
      "outputs": []
    },
    {
      "cell_type": "code",
      "metadata": {
        "id": "4Sd8LxBieHAv"
      },
      "source": [
        "V_left = V_left.reshape(V_left.shape[0], 1, V_left.shape[1])\n",
        "V_right = V_right.reshape(V_right.shape[0], 1, V_right.shape[1])\n",
        "AP_left = AP_left.reshape(AP_left.shape[0], 1, AP_left.shape[1])\n",
        "AP_right = AP_right.reshape(AP_right.shape[0], 1, AP_right.shape[1])\n",
        "ML_left = ML_left.reshape(ML_left.shape[0], 1, ML_left.shape[1])\n",
        "ML_right = ML_right.reshape(ML_right.shape[0], 1, ML_right.shape[1])"
      ],
      "execution_count": 19,
      "outputs": []
    },
    {
      "cell_type": "code",
      "metadata": {
        "colab": {
          "base_uri": "https://localhost:8080/"
        },
        "id": "-pjCQfmGgkUk",
        "outputId": "808a26a8-e451-48d7-f250-a3313055b21c"
      },
      "source": [
        "# 正規化できているか確認\n",
        "\n",
        "print(V_left.max())\n",
        "print(V_left.min())\n",
        "print(V_right.max())\n",
        "print(V_right.min())\n",
        "\n",
        "print(AP_left.max())\n",
        "print(AP_left.min())\n",
        "print(AP_right.max())\n",
        "print(AP_right.min())\n",
        "\n",
        "print(ML_left.max())\n",
        "print(ML_left.min())\n",
        "print(ML_right.max())\n",
        "print(ML_right.min())"
      ],
      "execution_count": 20,
      "outputs": [
        {
          "output_type": "stream",
          "text": [
            "1.0000000000000002\n",
            "0.0\n",
            "1.0000000000000002\n",
            "0.0\n",
            "1.0000000000000002\n",
            "0.0\n",
            "1.0000000000000002\n",
            "0.0\n",
            "1.0000000000000002\n",
            "0.0\n",
            "1.0000000000000002\n",
            "0.0\n"
          ],
          "name": "stdout"
        }
      ]
    },
    {
      "cell_type": "code",
      "metadata": {
        "id": "00e6piioTztW"
      },
      "source": [
        "# データのみ\n",
        "right_GRF = np.concatenate([ML_right, AP_right, V_right], axis=2)\n",
        "left_GRF = np.concatenate([ML_left, AP_left, V_left], axis=2)"
      ],
      "execution_count": 21,
      "outputs": []
    },
    {
      "cell_type": "code",
      "metadata": {
        "colab": {
          "base_uri": "https://localhost:8080/"
        },
        "id": "XKk1RlJlQfNM",
        "outputId": "63daa721-d6e6-4b93-a4eb-b2cdd7f77207"
      },
      "source": [
        "print(right_GRF.shape)\n",
        "right_GRF[0].shape"
      ],
      "execution_count": 22,
      "outputs": [
        {
          "output_type": "stream",
          "text": [
            "(75732, 1, 303)\n"
          ],
          "name": "stdout"
        },
        {
          "output_type": "execute_result",
          "data": {
            "text/plain": [
              "(1, 303)"
            ]
          },
          "metadata": {
            "tags": []
          },
          "execution_count": 22
        }
      ]
    },
    {
      "cell_type": "code",
      "metadata": {
        "colab": {
          "base_uri": "https://localhost:8080/"
        },
        "id": "GbuG6quxUfWi",
        "outputId": "3495d221-5046-41c9-9582-e61ed99e58fa"
      },
      "source": [
        "np.concatenate([right_GRF[0], left_GRF[0]], axis=1).shape"
      ],
      "execution_count": 23,
      "outputs": [
        {
          "output_type": "execute_result",
          "data": {
            "text/plain": [
              "(1, 606)"
            ]
          },
          "metadata": {
            "tags": []
          },
          "execution_count": 23
        }
      ]
    },
    {
      "cell_type": "code",
      "metadata": {
        "colab": {
          "base_uri": "https://localhost:8080/"
        },
        "id": "3c3c0cPuUbLj",
        "outputId": "6c908747-1754-46c5-8575-95a85165906d"
      },
      "source": [
        "# AFFECTED_SIDEによって横に並ぶ順番を決める\n",
        "import random\n",
        "\n",
        "GRF = []\n",
        "for i in range(TRIAL_num):\n",
        "  if metadata_for_GRF[i, class_label] > 0:    # patient\n",
        "    if metadata_for_GRF[i, affected_side] == 0: # affected_leg is left\n",
        "      # from IPython.core.debugger import Pdb; Pdb().set_trace()   \n",
        "      GRF.append(np.concatenate([left_GRF[i], right_GRF[i]], axis=1))\n",
        "    elif metadata_for_GRF[i, affected_side] == 1:  # affected_leg is right\n",
        "      GRF.append(np.concatenate([right_GRF[i], left_GRF[i]], axis=1))\n",
        "    else: \n",
        "      # from IPython.core.debugger import Pdb; Pdb().set_trace()                                 # affected_leg is both\n",
        "      lst = []\n",
        "      lst.append(right_GRF[i])\n",
        "      lst.append(left_GRF[i])\n",
        "      random.shuffle(lst)\n",
        "      GRF.append(np.concatenate([np.array(lst[0]), np.array(lst[1])], axis=1)) \n",
        "  else:                                    # healthy control\n",
        "    lst = []\n",
        "    lst.append(right_GRF[0])\n",
        "    lst.append(left_GRF[0])\n",
        "    random.shuffle(lst)\n",
        "    GRF.append(np.concatenate([np.array(lst[0]), np.array(lst[1])], axis=1)) \n",
        "\n",
        "print(np.array(GRF).shape)\n",
        "GRF = np.array(GRF)\n",
        "print(np.array(GRF).shape)"
      ],
      "execution_count": 24,
      "outputs": [
        {
          "output_type": "stream",
          "text": [
            "(75732, 1, 606)\n",
            "(75732, 1, 606)\n"
          ],
          "name": "stdout"
        }
      ]
    },
    {
      "cell_type": "code",
      "metadata": {
        "id": "zNwUIy5fsXtu"
      },
      "source": [
        "# trainとtestデータにわける\n",
        "# この時点では、まだGRFとV_PRO_right_and_metaの順番は同じはず\n",
        "# なのでこの時点で対応する正解データも作らないといけない\n",
        "\n",
        "# 5クラス分類(HC vs H vs K vs A vs C)\n",
        "# train_data = []\n",
        "# train_data_label = []\n",
        "# test_data = []\n",
        "# test_data_label = []\n",
        "# for i in range(TRIAL_num):\n",
        "#   if metadata_for_GRF[i, test] == 1: # testデータかどうか\n",
        "#     test_data.append(GRF[i])\n",
        "#     test_data_label.append(metadata_for_GRF[i, class_label])\n",
        "#   else:\n",
        "#     train_data.append(GRF[i])\n",
        "#     train_data_label.append(metadata_for_GRF[i, class_label])\n",
        "\n",
        "# 4クラス分類(H vs K vs A vs C)\n",
        "train_data = []\n",
        "train_data_label = []\n",
        "test_data = []\n",
        "test_data_label = []\n",
        "for i in range(TRIAL_num):\n",
        "  if metadata_for_GRF[i, test] == 1: # testデータかどうか\n",
        "    if metadata_for_GRF[i, class_label] == 1:\n",
        "      test_data.append(GRF[i])\n",
        "      test_data_label.append(0)\n",
        "    elif metadata_for_GRF[i, class_label] == 2: \n",
        "      test_data.append(GRF[i])\n",
        "      test_data_label.append(1)\n",
        "    elif metadata_for_GRF[i, class_label] == 3: \n",
        "      test_data.append(GRF[i])\n",
        "      test_data_label.append(2)\n",
        "    elif metadata_for_GRF[i, class_label] == 4: \n",
        "      test_data.append(GRF[i])\n",
        "      test_data_label.append(3)\n",
        "  else:\n",
        "    if metadata_for_GRF[i, class_label] == 1:\n",
        "      train_data.append(GRF[i])\n",
        "      train_data_label.append(0)\n",
        "    elif metadata_for_GRF[i, class_label] == 2: \n",
        "      train_data.append(GRF[i])\n",
        "      train_data_label.append(1)\n",
        "    elif metadata_for_GRF[i, class_label] == 3: \n",
        "      train_data.append(GRF[i])\n",
        "      train_data_label.append(2)\n",
        "    elif metadata_for_GRF[i, class_label] == 4: \n",
        "      train_data.append(GRF[i])\n",
        "      train_data_label.append(3)\n",
        "\n",
        "# 2クラス分類(HC vs GD)\n",
        "# train_data = []\n",
        "# train_data_label = []\n",
        "# test_data = []\n",
        "# test_data_label = []\n",
        "# for i in range(TRIAL_num):\n",
        "#   if metadata_for_GRF[i, test] == 1: # testデータかどうか\n",
        "#     test_data.append(GRF[i])\n",
        "#     if metadata_for_GRF[i, class_label] > 0:\n",
        "#       test_data_label.append(1)\n",
        "#     else:\n",
        "#       test_data_label.append(0)\n",
        "#   else:\n",
        "#     train_data.append(GRF[i])\n",
        "#     if metadata_for_GRF[i, class_label] > 0:\n",
        "#       train_data_label.append(1)\n",
        "#     else:\n",
        "#       train_data_label.append(0)\n",
        "\n",
        "# 2クラス分類(HC vs H)\n",
        "# train_data = []\n",
        "# train_data_label = []\n",
        "# test_data = []\n",
        "# test_data_label = []\n",
        "# for i in range(TRIAL_num):\n",
        "#   if metadata_for_GRF[i, test] == 1: # testデータかどうか\n",
        "#     if metadata_for_GRF[i, class_label] == 0:\n",
        "#       test_data.append(GRF[i])\n",
        "#       test_data_label.append(0)\n",
        "#     elif metadata_for_GRF[i, class_label] == 1: \n",
        "#       test_data.append(GRF[i])\n",
        "#       test_data_label.append(1)\n",
        "#   else:\n",
        "#     if metadata_for_GRF[i, class_label] == 0:\n",
        "#       train_data.append(GRF[i])\n",
        "#       train_data_label.append(0)\n",
        "#     elif metadata_for_GRF[i, class_label] == 1: \n",
        "#       train_data.append(GRF[i])\n",
        "#       train_data_label.append(1)\n",
        "\n",
        "# 2クラス分類(HC vs K)\n",
        "# train_data = []\n",
        "# train_data_label = []\n",
        "# test_data = []\n",
        "# test_data_label = []\n",
        "# for i in range(TRIAL_num):\n",
        "#   if metadata_for_GRF[i, test] == 1: # testデータかどうか\n",
        "#     if metadata_for_GRF[i, class_label] == 0:\n",
        "#       test_data.append(GRF[i])\n",
        "#       test_data_label.append(0)\n",
        "#     elif metadata_for_GRF[i, class_label] == 2: \n",
        "#       test_data.append(GRF[i])\n",
        "#       test_data_label.append(1)\n",
        "#   else:\n",
        "#     if metadata_for_GRF[i, class_label] == 0:\n",
        "#       train_data.append(GRF[i])\n",
        "#       train_data_label.append(0)\n",
        "#     elif metadata_for_GRF[i, class_label] == 2: \n",
        "#       train_data.append(GRF[i])\n",
        "#       train_data_label.append(1)\n",
        "\n",
        "# 2クラス分類(HC vs A)\n",
        "# train_data = []\n",
        "# train_data_label = []\n",
        "# test_data = []\n",
        "# test_data_label = []\n",
        "# for i in range(TRIAL_num):\n",
        "#   if metadata_for_GRF[i, test] == 1: # testデータかどうか\n",
        "#     if metadata_for_GRF[i, class_label] == 0:\n",
        "#       test_data.append(GRF[i])\n",
        "#       test_data_label.append(0)\n",
        "#     elif metadata_for_GRF[i, class_label] == 3: \n",
        "#       test_data.append(GRF[i])\n",
        "#       test_data_label.append(1)\n",
        "#   else:\n",
        "#     if metadata_for_GRF[i, class_label] == 0:\n",
        "#       train_data.append(GRF[i])\n",
        "#       train_data_label.append(0)\n",
        "#     elif metadata_for_GRF[i, class_label] == 3: \n",
        "#       train_data.append(GRF[i])\n",
        "#       train_data_label.append(1)\n",
        "\n",
        "# 2クラス分類(HC vs C)\n",
        "# train_data = []\n",
        "# train_data_label = []\n",
        "# test_data = []\n",
        "# test_data_label = []\n",
        "# for i in range(TRIAL_num):\n",
        "#   if metadata_for_GRF[i, test] == 1: # testデータかどうか\n",
        "#     if metadata_for_GRF[i, class_label] == 0:\n",
        "#       test_data.append(GRF[i])\n",
        "#       test_data_label.append(0)\n",
        "#     elif metadata_for_GRF[i, class_label] == 4: \n",
        "#       test_data.append(GRF[i])\n",
        "#       test_data_label.append(1)\n",
        "#   else:\n",
        "#     if metadata_for_GRF[i, class_label] == 0:\n",
        "#       train_data.append(GRF[i])\n",
        "#       train_data_label.append(0)\n",
        "#     elif metadata_for_GRF[i, class_label] == 4: \n",
        "#       train_data.append(GRF[i])\n",
        "#       train_data_label.append(1)\n",
        "\n",
        "train_X = np.array(train_data)\n",
        "train_y = np.array(train_data_label)\n",
        "test_X = np.array(test_data)\n",
        "test_y = np.array(test_data_label)"
      ],
      "execution_count": 25,
      "outputs": []
    },
    {
      "cell_type": "code",
      "metadata": {
        "colab": {
          "base_uri": "https://localhost:8080/"
        },
        "id": "VBQp7qm8Z4Jw",
        "outputId": "2419e326-0e85-4c86-9b8a-d01a59415b2a"
      },
      "source": [
        "# データセット内訳チェック\n",
        "print(np.array(np.where(train_y == 0)).shape)\n",
        "print(np.array(np.where(train_y == 1)).shape)\n",
        "print(np.array(np.where(train_y == 2)).shape)\n",
        "print(np.array(np.where(train_y == 3)).shape)\n",
        "print(np.array(np.where(train_y == 4)).shape)\n",
        "\n",
        "# NaNチェック\n",
        "print(np.isnan(train_X).sum())\n",
        "print(np.isnan(train_y).sum())\n",
        "print(np.isnan(test_X).sum())\n",
        "print(np.isnan(test_y).sum())"
      ],
      "execution_count": 26,
      "outputs": [
        {
          "output_type": "stream",
          "text": [
            "(1, 7900)\n",
            "(1, 13341)\n",
            "(1, 15213)\n",
            "(1, 10728)\n",
            "(1, 0)\n",
            "0\n",
            "0\n",
            "0\n",
            "0\n"
          ],
          "name": "stdout"
        }
      ]
    },
    {
      "cell_type": "code",
      "metadata": {
        "colab": {
          "base_uri": "https://localhost:8080/",
          "height": 281
        },
        "id": "nCuA96Kbz_8a",
        "outputId": "cec638dc-2433-407e-d50d-1c293b6037d1"
      },
      "source": [
        "import matplotlib.pyplot as plt\n",
        "plt.title('GRF')\n",
        "plt.grid(True)\n",
        "\n",
        "j = range(101)\n",
        "# plt.plot(j, X[0, 0, 0:101], label=\"vGRF\")\n",
        "\n",
        "# plt.plot(j, X[0, 1, 0:101], label='apGRF')\n",
        "\n",
        "# plt.plot(j, X[0, 2, 0:101], label='mlGRF')\n",
        "\n",
        "plt.plot(j, train_X[0, 0, :101], label=\"mlGRF_right\")\n",
        "plt.plot(j, train_X[0, 0, 303:404], label=\"mlGRF_left\")\n",
        "\n",
        "plt.plot(j, train_X[0, 0, 101:202], label='apGRF_right')\n",
        "plt.plot(j, train_X[0, 0, 404:505], label='apGRF_left')\n",
        "\n",
        "plt.plot(j, train_X[0, 0, 202:303], label='vGRF_right')\n",
        "plt.plot(j, train_X[0, 0, 505:606], label='vGRF_left')\n",
        "\n",
        "plt.legend(loc='best')\n",
        "plt.show()"
      ],
      "execution_count": 27,
      "outputs": [
        {
          "output_type": "display_data",
          "data": {
            "image/png": "[encoded data removed]",
            "text/plain": [
              "<Figure size 432x288 with 1 Axes>"
            ]
          },
          "metadata": {
            "tags": [],
            "needs_background": "light"
          }
        }
      ]
    },
    {
      "cell_type": "code",
      "metadata": {
        "id": "MdXgcprG6dXD"
      },
      "source": [
        "import tensorflow as tf\n",
        "from tensorflow.keras import optimizers, regularizers\n",
        "# from tensorflow.keras.preprocessing.image import ImageDataGenerator\n",
        "from tensorflow.keras.models import Sequential\n",
        "from tensorflow.keras.layers import Conv2D, MaxPooling2D, LSTM, InputLayer, Dense, Dropout, Activation, Flatten, concatenate, Conv1D, MaxPooling1D, Input, Reshape, Bidirectional\n",
        "from keras.models import Model\n",
        "from tensorflow.keras.callbacks import TensorBoard, LearningRateScheduler\n",
        "import time\n",
        "import math\n",
        "from keras.callbacks import ModelCheckpoint, EarlyStopping\n",
        "from sklearn.metrics import confusion_matrix, classification_report, plot_confusion_matrix\n",
        "import seaborn as sns\n",
        "\n",
        "# NAME = \"HC-vs-C-LSTM_2class\"\n",
        "# NAME = \"HC-vs-A-LSTM_2class\"\n",
        "# NAME = \"HC-vs-K-LSTM_2class\"\n",
        "# NAME = \"HC-vs-H-LSTM_2class\"\n",
        "# NAME = \"HC-vs-GDs-LSTM_2class\"\n",
        "# NAME = \"H-vs-K-vs-A-vs-C-LSTM_4class\"\n",
        "#NAME = \"HC-vs-H-vs-K-vs-A-vs-C-LSTM_5class\"\n",
        "NAME = \"H-vs-K-vs-A-vs-C-CNN_4class\"\n",
        "# NAME = \"HC-vs-Patients-CNN_5class\"\n",
        "# NAME = \"HC-vs-GDs-CNN_2class\"\n",
        "# NAME = \"HC-vs-H-CNN_2class\"\n",
        "# NAME = \"HC-vs-K-CNN_2class\"\n",
        "# NAME = \"HC-vs-A-CNN_2class\"\n",
        "# NAME = \"HC-vs-C-CNN_2class\"\n",
        "\n",
        "# 学習\n",
        "early_stopping = EarlyStopping(\n",
        "                        monitor='val_loss',\n",
        "                        min_delta=0.0,\n",
        "                        # patience=2,\n",
        "                )\n",
        "\n",
        "# checkpointの設定\n",
        "checkpoint = ModelCheckpoint(\n",
        "                    filepath=\"saved_model/{}\".format(NAME),\n",
        "                    monitor='val_loss',\n",
        "                    save_best_only=True,\n",
        "                    period=1,\n",
        "                )\n",
        "# CNN----------------------------------------------------------------------------------------------------------------------\n",
        "model = Sequential()\n",
        "\n",
        "stddeviation = math.pow(202, -0.5)\n",
        "initializer = tf.keras.initializers.RandomNormal(mean=0, stddev=stddeviation)\n",
        "\n",
        "model.add(Conv1D(24, kernel_size=8 , kernel_initializer=initializer, strides=2, input_shape=(606, 1)))\n",
        "model.add(Activation('relu'))\n",
        "# model.add(MaxPooling1D(pool_size=2))\n",
        "\n",
        "model.add(Conv1D(24, kernel_size=8, strides=2))\n",
        "model.add(Activation('relu'))\n",
        "# model.add(MaxPooling1D(pool_size=2))\n",
        "\n",
        "model.add(Conv1D(48, kernel_size=6, strides=3))\n",
        "model.add(Activation('relu'))\n",
        "# model.add(MaxPooling1D(pool_size=3))\n",
        "\n",
        "model.add(Flatten())  # this converts our 3D feature maps to 1D feature vectors\n",
        "\n",
        "# # model.add(Dense(5)) # 5クラス分類\n",
        "# # model.add(Activation('softmax'))\n",
        "model.add(Dense(4)) # 4クラス分類\n",
        "model.add(Activation('softmax'))\n",
        "# model.add(Dense(1)) # 2クラス分類\n",
        "# model.add(Activation('sigmoid'))\n",
        "\n",
        "#-----------------------------------------------------------------------------------------------------------------------------\n",
        "\n",
        "# separated_1D-CNN----------------------------------------------------------------------------------------------------------------------\n",
        "# dropout_rate = 0.5\n",
        "\n",
        "# # ML_right_input = Input(shape=(101, 1), name=\"ML_right\")\n",
        "# # ML_left_input = Input(shape=(101, 1), name=\"ML_left\")\n",
        "# # AP_right_input = Input(shape=(101, 1), name=\"AP_right\")\n",
        "# # AP_left_input = Input(shape=(101, 1), name=\"AP_left\")\n",
        "# V_right_input = Input(shape=(101, 1), name=\"V_right\")\n",
        "# V_left_input = Input(shape=(101, 1), name=\"V_left\")\n",
        "\n",
        "# ML_right_features = Conv1D(8, activation='relu', kernel_size=3, kernel_initializer=initializer, strides=2)(ML_right_input)\n",
        "# ML_right_features = Conv1D(16, activation='relu', kernel_size=3, kernel_initializer=initializer, strides=2)(ML_right_features)\n",
        "# ML_right_features = MaxPooling1D(pool_size=2)(ML_right_features)\n",
        "# ML_right_features = Conv1D(16, activation='relu', kernel_size=3, kernel_initializer=initializer, strides=2)(ML_right_features)\n",
        "# ML_right_features = Conv1D(16, activation='relu', kernel_size=3, kernel_initializer=initializer, strides=2)(ML_right_features)\n",
        "# ML_right_features = MaxPooling1D(pool_size=2)(ML_right_features)\n",
        "# ML_right_features = Flatten()(ML_right_features)\n",
        "# ML_right_features = Dropout(rate=dropout_rate)(ML_right_features)\n",
        "# ML_right_features = Dense(100, activation='relu')(ML_right_features)\n",
        "\n",
        "# ML_left_features = Conv1D(8, activation='relu', kernel_size=3, kernel_initializer=initializer, strides=2)(ML_left_input)\n",
        "# ML_left_features = Conv1D(16, activation='relu', kernel_size=3, kernel_initializer=initializer, strides=2)(ML_left_features)\n",
        "# ML_left_features = MaxPooling1D(pool_size=2)(ML_left_features)\n",
        "# ML_left_features = Conv1D(16, activation='relu', kernel_size=3, kernel_initializer=initializer, strides=2)(ML_left_features)\n",
        "# ML_left_features = Conv1D(16, activation='relu', kernel_size=3, kernel_initializer=initializer, strides=2)(ML_left_features)\n",
        "# ML_left_features = MaxPooling1D(pool_size=2)(ML_left_features)\n",
        "# ML_left_features = Flatten()(ML_left_features)\n",
        "# ML_left_features = Dropout(rate=dropout_rate)(ML_left_features)\n",
        "# ML_left_features = Dense(100, activation='relu')(ML_left_features)\n",
        "\n",
        "# AP_right_features = Conv1D(8, activation='relu', kernel_size=3, kernel_initializer=initializer, strides=2)(AP_right_input)\n",
        "# AP_right_features = Conv1D(16, activation='relu', kernel_size=3, kernel_initializer=initializer, strides=2)(AP_right_features)\n",
        "# AP_right_features = MaxPooling1D(pool_size=2)(AP_right_features)\n",
        "# AP_right_features = Conv1D(16, activation='relu', kernel_size=3, kernel_initializer=initializer, strides=2)(AP_right_features)\n",
        "# AP_right_features = Conv1D(16, activation='relu', kernel_size=3, kernel_initializer=initializer, strides=2)(AP_right_features)\n",
        "# AP_right_features = MaxPooling1D(pool_size=2)(AP_right_features)\n",
        "# AP_right_features = Flatten()(AP_right_features)\n",
        "# AP_right_features = Dropout(rate=dropout_rate)(AP_right_features)\n",
        "# AP_right_features = Dense(100, activation='relu')(AP_right_features)\n",
        "\n",
        "# AP_left_features = Conv1D(8, activation='relu', kernel_size=3, kernel_initializer=initializer, strides=2)(AP_left_input)\n",
        "# AP_left_features = Conv1D(16, activation='relu', kernel_size=3, kernel_initializer=initializer, strides=2)(AP_left_features)\n",
        "# AP_left_features = MaxPooling1D(pool_size=2)(AP_left_features)\n",
        "# AP_left_features = Conv1D(16, activation='relu', kernel_size=3, kernel_initializer=initializer, strides=2)(AP_left_features)\n",
        "# AP_left_features = Conv1D(16, activation='relu', kernel_size=3, kernel_initializer=initializer, strides=2)(AP_left_features)\n",
        "# AP_left_features = MaxPooling1D(pool_size=2)(AP_left_features)\n",
        "# AP_left_features = Flatten()(AP_left_features)\n",
        "# AP_left_features = Dropout(rate=dropout_rate)(AP_left_features)\n",
        "# AP_left_features = Dense(100, activation='relu')(AP_left_features)\n",
        "\n",
        "# V_right_features = Conv1D(8, activation='relu', kernel_size=3, kernel_initializer=initializer, strides=2)(V_right_input)\n",
        "# V_right_features = Conv1D(16, activation='relu', kernel_size=3, kernel_initializer=initializer, strides=2)(V_right_features)\n",
        "# V_right_features = MaxPooling1D(pool_size=2)(V_right_features)\n",
        "# V_right_features = Conv1D(16, activation='relu', kernel_size=3, kernel_initializer=initializer, strides=2)(V_right_features)\n",
        "# V_right_features = Conv1D(16, activation='relu', kernel_size=3, kernel_initializer=initializer, strides=2)(V_right_features)\n",
        "# V_right_features = MaxPooling1D(pool_size=2)(V_right_features)\n",
        "# V_right_features = Flatten()(V_right_features)\n",
        "# V_right_features = Dropout(rate=dropout_rate)(V_right_features)\n",
        "# V_right_features = Dense(100, activation='relu')(V_right_features)\n",
        "\n",
        "# V_left_features = Conv1D(8, activation='relu', kernel_size=3, kernel_initializer=initializer, strides=2)(V_left_input)\n",
        "# V_left_features = Conv1D(16, activation='relu', kernel_size=3, kernel_initializer=initializer, strides=2)(V_left_features)\n",
        "# V_left_features = MaxPooling1D(pool_size=2)(V_left_features)\n",
        "# V_left_features = Conv1D(16, activation='relu', kernel_size=3, kernel_initializer=initializer, strides=2)(V_left_features)\n",
        "# V_left_features = Conv1D(16, activation='relu', kernel_size=3, kernel_initializer=initializer, strides=2)(V_left_features)\n",
        "# V_left_features = MaxPooling1D(pool_size=2)(V_left_features)\n",
        "# V_left_features = Flatten()(V_left_features)\n",
        "# V_left_features = Dropout(rate=dropout_rate)(V_left_features)\n",
        "# V_left_features = Dense(100, activation='relu')(V_left_features)\n",
        "\n",
        "# # concat = concatenate([ML_right_features, ML_left_features, AP_right_features, AP_left_features, V_right_features, V_left_features])\n",
        "# concat = concatenate([V_right_features, V_left_features])\n",
        "# concat = Dropout(rate=dropout_rate)(concat)\n",
        "# Dense1 = Dense(100, activation='relu')(concat)\n",
        "# Dense1 = Dropout(rate=dropout_rate)(Dense1)\n",
        "# Dense2 = Dense(20, activation='relu')(Dense1)\n",
        "# output = Dense(4, activation='softmax')(Dense2)\n",
        "\n",
        "# model = Model(\n",
        "#     #inputs=[ML_right_input, ML_left_input, AP_right_input, AP_left_input, V_right_input, V_left_input],\n",
        "#     inputs=[V_right_input, V_left_input],\n",
        "#     outputs=output,\n",
        "# )\n",
        "#-----------------------------------------------------------------------------------------------------------------------------\n",
        "\n",
        "# Bi-LSTM---------------------------------------------------------------------------------------------------------------------\n",
        "# model = Sequential()\n",
        "\n",
        "# X = np.reshape(train_X, (-1, 101, 6))\n",
        "# validation_X = np.reshape(test_X, (-1, 101, 6))\n",
        "\n",
        "# model.add(InputLayer(input_shape=(101, 6)))\n",
        "# model.add(Bidirectional(LSTM(units=64, input_shape=(101, 6), activation='tanh', dropout=0.5, return_sequences=True)))\n",
        "# model.add(Bidirectional(LSTM(units=64, input_shape=(101, 6), activation='tanh', dropout=0.5, return_sequences=False)))\n",
        "\n",
        "# model.add(Dense(units=4, activation='softmax'))\n",
        "# # model.add(Dense(units=1, activation='sigmoid'))\n",
        "\n",
        "#-----------------------------------------------------------------------------------------------------------------------------\n",
        "\n",
        "#separated-LSTM-------------------------------------------------------------------------------------------------------------------------\n",
        "# dropout_rate = 0.5\n",
        "\n",
        "# ML_right_input = Input(shape=(101, 1), name=\"ML_right\")\n",
        "# ML_left_input = Input(shape=(101, 1), name=\"ML_left\")\n",
        "# AP_right_input = Input(shape=(101, 1), name=\"AP_right\")\n",
        "# AP_left_input = Input(shape=(101, 1), name=\"AP_left\")\n",
        "# V_right_input = Input(shape=(101, 1), name=\"V_right\")\n",
        "# V_left_input = Input(shape=(101, 1), name=\"V_left\")\n",
        "\n",
        "# #ML_right_features = LSTM(64, activation='tanh', dropout=dropout_rate, return_sequences=True)(ML_right_input)\n",
        "# ML_right_features = LSTM(64, activation='tanh', dropout=dropout_rate, return_sequences=False)(ML_right_input)\n",
        "# #ML_left_features = LSTM(64, activation='tanh', dropout=dropout_rate, return_sequences=True)(ML_left_input)\n",
        "# ML_left_features = LSTM(64, activation='tanh', dropout=dropout_rate, return_sequences=False)(ML_left_input)\n",
        "\n",
        "# #AP_right_features = LSTM(64, activation='tanh', dropout=dropout_rate, return_sequences=True)(AP_right_input)\n",
        "# AP_right_features = LSTM(64, activation='tanh', dropout=dropout_rate, return_sequences=False)(AP_right_input)\n",
        "# #AP_left_features = LSTM(64, activation='tanh', dropout=dropout_rate, return_sequences=True)(AP_left_input)\n",
        "# AP_left_features = LSTM(64, activation='tanh', dropout=dropout_rate, return_sequences=False)(AP_left_input)\n",
        "\n",
        "# #V_right_features = LSTM(64, activation='tanh', dropout=dropout_rate, return_sequences=True)(V_right_input)\n",
        "# V_right_features = LSTM(64, activation='tanh', dropout=dropout_rate, return_sequences=False)(V_right_input)\n",
        "# #V_left_features = LSTM(64, activation='tanh', dropout=dropout_rate, return_sequences=True)(V_left_input)\n",
        "# V_left_features = LSTM(64, activation='tanh', dropout=dropout_rate, return_sequences=False)(V_left_input)\n",
        "\n",
        "# concat = concatenate([ML_right_features, ML_left_features, AP_right_features, AP_left_features, V_right_features, V_left_features])\n",
        "# output = Dense(4, activation='softmax')(concat)\n",
        "\n",
        "# model = Model(\n",
        "#     inputs=[ML_right_input, ML_left_input, AP_right_input, AP_left_input, V_right_input, V_left_input],\n",
        "#     outputs=output,\n",
        "# )\n",
        "#-----------------------------------------------------------------------------------------------------------------------------\n",
        "\n",
        "# 共通\n",
        "\n",
        "tensorboard = TensorBoard(log_dir=\"logs/{}\".format(NAME))\n",
        "\n",
        "# 5クラス分類, 4クラス分類\n",
        "model.compile(loss='sparse_categorical_crossentropy', \n",
        "              optimizer= optimizers.Adam(lr=0.002, beta_1= 0.9, beta_2= 0.999),\n",
        "              metrics=['accuracy'],\n",
        "              )\n",
        "\n",
        "# model.compile(loss='sparse_categorical_crossentropy',\n",
        "#               optimizer= optimizers.SGD(lr=5e-3),\n",
        "#               metrics=['accuracy'],\n",
        "#               )\n",
        "\n",
        "# 2クラス分類\n",
        "# model.compile(loss='binary_crossentropy',\n",
        "#               optimizer= optimizers.SGD(lr=5e-3),\n",
        "#               metrics=['accuracy'],\n",
        "#               )\n",
        "\n",
        "model.summary()\n",
        "\n",
        "# X = np.reshape(train_X, (-1, 101, 6))\n",
        "# reshaped_ML_right = np.reshape(X[::, ::, 0], (X.shape[0], X.shape[1], 1))\n",
        "# reshaped_ML_left = np.reshape(X[::, ::, 1], (X.shape[0], X.shape[1], 1))\n",
        "# reshaped_AP_right = np.reshape(X[::, ::, 2], (X.shape[0], X.shape[1], 1))\n",
        "# reshaped_AP_left = np.reshape(X[::, ::, 3], (X.shape[0], X.shape[1], 1))\n",
        "# reshaped_V_right = np.reshape(X[::, ::, 4], (X.shape[0], X.shape[1], 1))\n",
        "# reshaped_V_left = np.reshape(X[::, ::, 5], (X.shape[0], X.shape[1], 1))\n",
        "\n",
        "# model.fit({\"ML_right\": reshaped_ML_right, \"ML_left\": reshaped_ML_left,\n",
        "#            \"AP_right\": reshaped_AP_right, \"AP_left\": reshaped_AP_left,\n",
        "#            \"V_right\": reshaped_V_right, \"V_left\": reshaped_V_left,\n",
        "#            }, \n",
        "#           train_y,\n",
        "#           batch_size=10,\n",
        "#           epochs=100,\n",
        "#           validation_split=0.2,\n",
        "#           callbacks=[tensorboard, checkpoint])\n",
        "\n",
        "# model.fit({\n",
        "#            \"V_right\": reshaped_V_right, \"V_left\": reshaped_V_left,\n",
        "#            }, \n",
        "#           train_y,\n",
        "#           batch_size=10,\n",
        "#           epochs=100,\n",
        "#           validation_split=0.2,\n",
        "#           callbacks=[tensorboard, checkpoint])\n",
        "\n",
        "X = np.reshape(train_X, (-1, 606, 1))\n",
        "model.fit(X, \n",
        "          train_y,\n",
        "          batch_size=3,\n",
        "          epochs=100,\n",
        "          validation_split=0.2,\n",
        "          callbacks=[tensorboard, checkpoint])\n",
        "\n",
        "# training parameters = kernel_size * (1Dだったらここは1, 2Dだったらここはkernel_size) * output_channels + num_bias\n",
        "# 216 = 8 * 1 * 24 + 24"
      ],
      "execution_count": null,
      "outputs": []
    },
    {
      "cell_type": "code",
      "metadata": {
        "id": "2WTsNkCkaLcn"
      },
      "source": [
        "# モデル復元\n",
        "import tensorflow as tf\n",
        "from tensorflow.keras import optimizers, regularizers\n",
        "# from tensorflow.keras.preprocessing.image import ImageDataGenerator\n",
        "from tensorflow.keras.models import Sequential\n",
        "from tensorflow.keras.layers import InputLayer, Dense, Dropout, Activation, Flatten\n",
        "from tensorflow.keras.layers import Conv1D, MaxPooling1D, Input, Reshape, Bidirectional\n",
        "from keras.layers.recurrent import LSTM\n",
        "from tensorflow.keras.callbacks import TensorBoard, LearningRateScheduler\n",
        "import time\n",
        "import math\n",
        "from keras.callbacks import ModelCheckpoint, EarlyStopping\n",
        "from sklearn.metrics import confusion_matrix, classification_report, plot_confusion_matrix\n",
        "import seaborn as sns\n",
        "import numpy as np\n",
        "\n",
        "model = Sequential()\n",
        "\n",
        "X = np.reshape(train_X, (-1, 101, 6))\n",
        "validation_X = np.reshape(test_X, (-1, 101, 6))\n",
        "\n",
        "model.add(Bidirectional(LSTM(units=101, input_shape=(101, 6), activation='tanh', dropout=0.5, return_sequences=True)))\n",
        "model.add(Bidirectional(LSTM(units=101, input_shape=(101, 6), activation='tanh', dropout=0.5, return_sequences=False)))\n",
        "\n",
        "model.add(Dense(units=5, activation='softmax'))\n",
        "# model.add(Dense(units=1, activation='sigmoid'))\n",
        "\n",
        "model.compile(loss='sparse_categorical_crossentropy', \n",
        "              optimizer= optimizers.Adam(lr=0.002, beta_1= 0.9, beta_2= 0.999),\n",
        "              metrics=['accuracy'],\n",
        "              )\n",
        "\n",
        "model.load_weights(\"/saved_model/H-vs-K-vs-A-vs-C-LSTM_4class\")\n",
        "\n",
        "model.summary()\n",
        "model.fit(X, train_y,\n",
        "          batch_size=5,\n",
        "          epochs=1,\n",
        "          validation_data=(validation_X, test_y),\n",
        "          callbacks=[tensorboard])"
      ],
      "execution_count": null,
      "outputs": []
    },
    {
      "cell_type": "code",
      "metadata": {
        "id": "6f_TLi9_deon"
      },
      "source": [
        "# 混合行列\n",
        "predict_classes = model.predict_classes(validation_X)\n",
        "true_classes = test_y\n",
        "cmx = confusion_matrix(true_classes, predict_classes)\n",
        "print(cmx)\n",
        "\n",
        "index1 = [\"HC\", \"Hip\", \"Knee\", \"Ankle\", \"Calcaneus\"]\n",
        "# index1 = [\"HC\", \"Knee\"]\n",
        "\n",
        "print(classification_report(true_classes, predict_classes, target_names=index1))\n",
        "\n",
        "ax= plt.subplot()\n",
        "sns.heatmap(cmx, annot=True, ax = ax);\n",
        "# labels, title and ticks\n",
        "ax.set_xlabel('Predicted labels');\n",
        "ax.set_ylabel('True labels'); \n",
        "ax.set_title('Confusion Matrix'); \n",
        "ax.xaxis.set_ticklabels(index1); \n",
        "ax.yaxis.set_ticklabels(index1);\n",
        "plt.show()"
      ],
      "execution_count": null,
      "outputs": []
    },
    {
      "cell_type": "code",
      "metadata": {
        "id": "2P9j8L_-w6gz"
      },
      "source": [
        "from __future__ import absolute_import, division, print_function, unicode_literals\n",
        "\n",
        "try:\n",
        "  # %tensorflow_version only exists in Colab.\n",
        "  %tensorflow_version 2.x\n",
        "except Exception:\n",
        "  pass"
      ],
      "execution_count": null,
      "outputs": []
    },
    {
      "cell_type": "code",
      "metadata": {
        "id": "1eJCT9VRxAdm"
      },
      "source": [
        "%reload_ext tensorboard\n",
        "# %load_ext tensorboard\n",
        "log_dir=\"logs/\"\n",
        "tensorboard_callback = tf.keras.callbacks.TensorBoard(log_dir=log_dir, histogram_freq=1)\n",
        "%tensorboard --logdir logs/"
      ],
      "execution_count": null,
      "outputs": []
    }
  ]
}