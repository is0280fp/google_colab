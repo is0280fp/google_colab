{
  "nbformat": 4,
  "nbformat_minor": 0,
  "metadata": {
    "colab": {
      "name": "GaitRec_get_csv_data.ipynb",
      "provenance": [],
      "collapsed_sections": [],
      "mount_file_id": "1ijdXNpxuZHp7dm0zBtwiR-ocqDlg6IYg",
      "authorship_tag": "ABX9TyPoVMVDAPFJ7GiujqabVFqH",
      "include_colab_link": true
    },
    "kernelspec": {
      "name": "python3",
      "display_name": "Python 3"
    }
  },
  "cells": [
    {
      "cell_type": "markdown",
      "metadata": {
        "id": "view-in-github",
        "colab_type": "text"
      },
      "source": [
        "<a href=\"https://colab.research.google.com/github/is0280fp/google_colab/blob/main/GaitRec_get_csv_data.ipynb\" target=\"_parent\"><img src=\"https://colab.research.google.com/assets/colab-badge.svg\" alt=\"Open In Colab\"/></a>"
      ]
    },
    {
      "cell_type": "code",
      "metadata": {
        "id": "Lh16VKnfw0Ud"
      },
      "source": [
        "import csv\n",
        "import tensorflow as tf\n",
        "import functools\n",
        "import numpy as np\n",
        "\n",
        "# from IPython.core.debugger import Pdb; Pdb().set_trace()\n",
        "\n",
        "# F_AP_PRO_left = open('/content/drive/MyDrive/GaitRect/GaitRect/GRF_F_AP_PRO_left.csv', encoding='utf-8')\n",
        "# F_AP_PRO_left = csv.DictReader(F_AP_PRO_left)\n",
        "\n",
        "# F_AP_PRO_right = open('/content/drive/MyDrive/GaitRect/GaitRect/GRF_F_AP_PRO_right.csv', encoding='utf-8')\n",
        "# F_AP_PRO_right = csv.DictReader(F_AP_PRO_right)\n",
        "\n",
        "# F_ML_PRO_left = open('/content/drive/MyDrive/GaitRect/GaitRect/GRF_F_ML_PRO_left.csv', encoding='utf-8')\n",
        "# F_ML_PRO_left = csv.DictReader(F_ML_PRO_left)\n",
        "\n",
        "# F_ML_PRO_right = open('/content/drive/MyDrive/GaitRect/GaitRect/GRF_F_ML_PRO_right.csv', encoding='utf-8')\n",
        "# F_ML_PRO_right = csv.DictReader(F_ML_PRO_right)\n",
        "\n",
        "# F_V_PRO_left = open('/content/drive/MyDrive/GaitRect/GaitRect/GRF_F_V_PRO_left.csv', encoding='utf-8')\n",
        "# F_V_PRO_left = csv.DictReader(F_V_PRO_left)\n",
        "\n",
        "# F_V_PRO_right = open('/content/drive/MyDrive/GaitRect/GaitRect/GRF_F_V_PRO_right.csv', encoding='utf-8')\n",
        "# F_V_PRO_right = csv.DictReader(F_V_PRO_right)\n",
        "\n",
        "with open('/content/drive/MyDrive/GaitRect/GaitRect/GRF_F_AP_PRO_left.csv') as f:\n",
        "    reader = csv.reader(f)\n",
        "    GRF_F_AP_PRO_left = [row for row in reader]\n",
        "\n",
        "with open('/content/drive/MyDrive/GaitRect/GaitRect/GRF_metadata.csv') as f:\n",
        "    reader = csv.reader(f)\n",
        "    metadata = [row for row in reader]\n",
        "\n",
        "GRF_items = np.array(GRF_F_AP_PRO_left, dtype=str)[0,::]\n",
        "meta_items = np.array(metadata, dtype=str)[0,::]\n",
        "\n",
        "GRF = np.array(GRF_F_AP_PRO_left)[1:,::]\n",
        "GRF = np.array(GRF, dtype=float)"
      ],
      "execution_count": 80,
      "outputs": []
    },
    {
      "cell_type": "code",
      "metadata": {
        "id": "8VlT5ui9MxLi"
      },
      "source": [
        "# meta = np.array(meta, dytpe=float) str型や日付など変換できない列があるので、逐次floatに変換忘れない\n",
        "# metadataの前処理, 3(class_label_detail)と16(year.date)列目削除して\n",
        "metadata_array = np.array(metadata)\n",
        "meta = np.array(metadata)[1:,::]\n",
        "meta = np.delete(meta, [3,16], axis=1)\n",
        "# 2列目を5クラスに対応した数字に変換(HC=0, H=1, K=2, A=3, C=4)\n",
        "meta = np.where(meta=='HC', 0, meta)\n",
        "meta = np.where(meta=='H', 1, meta)\n",
        "meta = np.where(meta=='K', 2, meta)\n",
        "meta = np.where(meta=='A', 3, meta)\n",
        "meta = np.where(meta=='C', 4, meta)\n",
        "# meta.shape (8971, 18)\n",
        "# NaNがあるとint変換できないので、NaNをチェックする?\n",
        "meta_list = []\n",
        "for i in range(len(meta)):\n",
        "  meta_list.append(meta[i,::].astype(np.float32))\n",
        "meta = np.array(meta_list) # meta.shape (8971, 18)"
      ],
      "execution_count": 81,
      "outputs": []
    },
    {
      "cell_type": "code",
      "metadata": {
        "colab": {
          "base_uri": "https://localhost:8080/"
        },
        "id": "x6ZiWkOj7Pgr",
        "outputId": "4850b4f6-f869-4817-8aee-d943105be8a8"
      },
      "source": [
        "meta_items"
      ],
      "execution_count": null,
      "outputs": [
        {
          "output_type": "execute_result",
          "data": {
            "text/plain": [
              "array(['SUBJECT_ID', 'SESSION_ID', 'CLASS_LABEL', 'CLASS_LABEL_DETAILED',\n",
              "       'SEX', 'AGE', 'HEIGHT', 'BODY_WEIGHT', 'BODY_MASS', 'SHOE_SIZE',\n",
              "       'AFFECTED_SIDE', 'SHOD_CONDITION', 'ORTHOPEDIC_INSOLE', 'SPEED',\n",
              "       'READMISSION', 'SESSION_TYPE', 'SESSION_DATE', 'TRAIN',\n",
              "       'TRAIN_BALANCED', 'TEST'], dtype='<U20')"
            ]
          },
          "metadata": {
            "tags": []
          },
          "execution_count": 93
        }
      ]
    },
    {
      "cell_type": "code",
      "metadata": {
        "colab": {
          "base_uri": "https://localhost:8080/"
        },
        "id": "j0Z_xCI2wNPY",
        "outputId": "c3fe71b7-0971-4b58-9541-65ff9d04782f"
      },
      "source": [
        "GRF.shape"
      ],
      "execution_count": null,
      "outputs": [
        {
          "output_type": "execute_result",
          "data": {
            "text/plain": [
              "(75732, 104)"
            ]
          },
          "metadata": {
            "tags": []
          },
          "execution_count": 350
        }
      ]
    },
    {
      "cell_type": "code",
      "metadata": {
        "colab": {
          "base_uri": "https://localhost:8080/"
        },
        "id": "_N_Y6vNiwZ7B",
        "outputId": "d31933d7-7b22-4b70-8fd9-4d74b956d05a"
      },
      "source": [
        "# GRF_and_metaはGRFにmetadataを3と16項目目を削除してものを足しただけ\n",
        "# 75554~75566まで残す\n",
        "GRF_and_meta[75553:75567,0] == GRF[75553:75567,0]\n",
        "GRF_and_meta[65320:65732,0] == GRF[65320:65732,0]\n",
        "valid_GRF = GRF[75554, ::].reshape(1, 104)\n",
        "valid_GRF.shape\n",
        "valid_GRF[0,1]"
      ],
      "execution_count": 144,
      "outputs": [
        {
          "output_type": "execute_result",
          "data": {
            "text/plain": [
              "888812544.0"
            ]
          },
          "metadata": {
            "tags": []
          },
          "execution_count": 144
        }
      ]
    },
    {
      "cell_type": "code",
      "metadata": {
        "colab": {
          "base_uri": "https://localhost:8080/"
        },
        "id": "mHYYxqFeBiuH",
        "outputId": "adbed753-3194-4079-f4eb-79229942ba95"
      },
      "source": [
        "# SESSION_ID = 888812544 だけmetadataある、使えるデータ\n",
        "for i in range(10):\n",
        "  print(GRF_SESSION_ID[75553+i])"
      ],
      "execution_count": 19,
      "outputs": [
        {
          "output_type": "stream",
          "text": [
            "888812543.0\n",
            "888812544.0\n",
            "888812544.0\n",
            "888812544.0\n",
            "888812544.0\n",
            "888812544.0\n",
            "888812544.0\n",
            "888812544.0\n",
            "888812544.0\n",
            "888812544.0\n"
          ],
          "name": "stdout"
        }
      ]
    },
    {
      "cell_type": "code",
      "metadata": {
        "colab": {
          "base_uri": "https://localhost:8080/"
        },
        "id": "z858XYmK9uOO",
        "outputId": "b6d257f2-378b-4b64-865f-f7022887e777"
      },
      "source": [
        "# GRF_and_meta[75472::,0] == GRF[75472::,0] これより、GRF[75473,::]から最後までがいらないデータ\n",
        "# metadataにないデータをSESSION_IDにもとづいて削除する(888812536~888812635と999910365~999910375の連番、ただし888812544は除く)\n",
        "# strategy: 888812544だけ取り出して保存しておくが、それ以外remove\n",
        "temp_GRF = GRF\n",
        "# lst = list(range(75473, 75732))\n",
        "# temp_GRF = temp_GRF[:75474, ::]\n",
        "# temp_GRF[75473,1] # 888812536.0\n",
        "temp_GRF = temp_GRF[:75473, ::]\n",
        "temp_GRF[75472,1] # 888812536.0\n",
        "print(temp_GRF.shape)\n",
        "# 保存しておいたのを足す\n",
        "temp_GRF = np.append(temp_GRF, valid_GRF, axis=0)\n",
        "print(temp_GRF.shape)"
      ],
      "execution_count": 146,
      "outputs": [
        {
          "output_type": "stream",
          "text": [
            "(75473, 104)\n",
            "(75474, 104)\n"
          ],
          "name": "stdout"
        }
      ]
    },
    {
      "cell_type": "code",
      "metadata": {
        "id": "C9CBhB6iMSFn"
      },
      "source": [
        "# 本番\n",
        "GRF = GRF[:75473, ::]\n",
        "GRF = np.append(GRF, valid_GRF, axis=0)\n",
        "\n",
        "i = 0\n",
        "meta_SESSION_ID = meta[::,1]\n",
        "GRF_SESSION_ID = GRF[::,1]\n",
        "meta_SUBJECT_ID = meta[::,0]\n",
        "GRF_SUBJECT_ID = GRF[::,0]\n",
        "# GRF_and_meta = np.empty((len(GRF), 120))\n",
        "GRF_and_meta = np.ones((len(GRF), 120))\n",
        "for i in range(len(meta_SUBJECT_ID)):\n",
        "  # from IPython.core.debugger import Pdb; Pdb().set_trace()\n",
        "  # index = np.array(np.where(GRF_SUBJECT_ID == meta_SUBJECT_ID[i])[0]) # 問題\n",
        "  index = np.array(np.where(GRF_SESSION_ID == meta_SESSION_ID[i])[0]) # 問題\n",
        "  index = np.array(index)\n",
        "  for k in index:\n",
        "    GRF_and_meta[k, ::] = np.append(GRF[k, ::], meta[i, 2::])\n",
        "  #k=0\n",
        "# GRF_and_meta.shape (75732, 120)"
      ],
      "execution_count": 149,
      "outputs": []
    },
    {
      "cell_type": "code",
      "metadata": {
        "colab": {
          "base_uri": "https://localhost:8080/"
        },
        "id": "qnSt5Z77MtyG",
        "outputId": "c0541145-0cd3-48ca-bd93-2561dfa3d5b9"
      },
      "source": [
        "np.allclose(GRF_and_meta[::,0:104], GRF) # データセットに加工する前のGRFとmetadataのセット完成!"
      ],
      "execution_count": 150,
      "outputs": [
        {
          "output_type": "execute_result",
          "data": {
            "text/plain": [
              "True"
            ]
          },
          "metadata": {
            "tags": []
          },
          "execution_count": 150
        }
      ]
    },
    {
      "cell_type": "code",
      "metadata": {
        "colab": {
          "base_uri": "https://localhost:8080/"
        },
        "id": "BcFfdGbONADw",
        "outputId": "38c0cd77-3f41-4472-e699-6e7f6303b4a3"
      },
      "source": [
        "GRF_and_meta.shape"
      ],
      "execution_count": 151,
      "outputs": [
        {
          "output_type": "execute_result",
          "data": {
            "text/plain": [
              "(75474, 120)"
            ]
          },
          "metadata": {
            "tags": []
          },
          "execution_count": 151
        }
      ]
    }
  ]
}