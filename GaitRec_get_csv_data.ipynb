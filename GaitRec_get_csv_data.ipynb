{
  "nbformat": 4,
  "nbformat_minor": 0,
  "metadata": {
    "accelerator": "GPU",
    "colab": {
      "name": "GaitRec_get_csv_data.ipynb",
      "provenance": [],
      "collapsed_sections": [],
      "toc_visible": true,
      "mount_file_id": "1ijdXNpxuZHp7dm0zBtwiR-ocqDlg6IYg",
      "authorship_tag": "ABX9TyNNbXKFgdbPYmxML1r9wGbO",
      "include_colab_link": true
    },
    "kernelspec": {
      "display_name": "Python 3",
      "name": "python3"
    }
  },
  "cells": [
    {
      "cell_type": "markdown",
      "metadata": {
        "id": "view-in-github",
        "colab_type": "text"
      },
      "source": [
        "<a href=\"https://colab.research.google.com/github/is0280fp/google_colab/blob/main/GaitRec_get_csv_data.ipynb\" target=\"_parent\"><img src=\"https://colab.research.google.com/assets/colab-badge.svg\" alt=\"Open In Colab\"/></a>"
      ]
    },
    {
      "cell_type": "code",
      "metadata": {
        "id": "Lh16VKnfw0Ud"
      },
      "source": [
        "# from IPython.core.debugger import Pdb; Pdb().set_trace()\n",
        "import csv\n",
        "import tensorflow as tf\n",
        "import functools\n",
        "import numpy as np\n",
        "\n",
        "with open('/content/drive/MyDrive/GaitRect/GaitRect/GRF_F_V_PRO_left.csv') as f:\n",
        "    reader = csv.reader(f)\n",
        "    V_left = [row for row in reader]\n",
        "f.close()\n",
        "\n",
        "with open('/content/drive/MyDrive/GaitRect/GaitRect/GRF_F_V_PRO_right.csv') as f:\n",
        "    reader = csv.reader(f)\n",
        "    V_right = [row for row in reader]\n",
        "f.close()\n",
        "\n",
        "with open('/content/drive/MyDrive/GaitRect/GaitRect/GRF_F_AP_PRO_left.csv') as f:\n",
        "    reader = csv.reader(f)\n",
        "    AP_left = [row for row in reader]\n",
        "f.close()\n",
        "\n",
        "with open('/content/drive/MyDrive/GaitRect/GaitRect/GRF_F_AP_PRO_right.csv') as f:\n",
        "    reader = csv.reader(f)\n",
        "    AP_right = [row for row in reader]\n",
        "f.close()\n",
        "\n",
        "with open('/content/drive/MyDrive/GaitRect/GaitRect/GRF_F_ML_PRO_left.csv') as f:\n",
        "    reader = csv.reader(f)\n",
        "    ML_left = [row for row in reader]\n",
        "f.close()\n",
        "\n",
        "with open('/content/drive/MyDrive/GaitRect/GaitRect/GRF_F_ML_PRO_right.csv') as f:\n",
        "    reader = csv.reader(f)\n",
        "    ML_right = [row for row in reader]\n",
        "f.close()"
      ],
      "execution_count": 1,
      "outputs": []
    },
    {
      "cell_type": "code",
      "metadata": {
        "id": "VPXBon1M0dhB"
      },
      "source": [
        "with open('/content/drive/MyDrive/GaitRect/GaitRect/GRF_metadata.csv') as f:\n",
        "    reader = csv.reader(f)\n",
        "    metadata = [row for row in reader]\n",
        "f.close()\n",
        "\n",
        "meta_items = np.array(metadata, dtype=str)[0,::]\n",
        "metadata = np.array(metadata)[1:,::]"
      ],
      "execution_count": 2,
      "outputs": []
    },
    {
      "cell_type": "code",
      "metadata": {
        "id": "o0d7XTWOGElr",
        "colab": {
          "base_uri": "https://localhost:8080/"
        },
        "outputId": "974b665f-b6d8-4ab0-df1f-32f82127360f"
      },
      "source": [
        "len(AP_left)\n",
        "np.array(AP_left).shape\n",
        "np.array(AP_left)[1:,::].shape"
      ],
      "execution_count": 3,
      "outputs": [
        {
          "output_type": "execute_result",
          "data": {
            "text/plain": [
              "(75732, 104)"
            ]
          },
          "metadata": {
            "tags": []
          },
          "execution_count": 3
        }
      ]
    },
    {
      "cell_type": "code",
      "metadata": {
        "id": "cDu3Fg_weaEV"
      },
      "source": [
        "# データそれぞれの一番目の文字列を除去し、数字だけにした\n",
        "V_right_items = np.array(V_right, dtype=str)[0,::]\n",
        "V_right = np.array(V_right)[1:,::]\n",
        "V_right = np.array(V_right, dtype=float)\n",
        "\n",
        "V_left_items = np.array(V_left, dtype=str)[0,::]\n",
        "V_left = np.array(V_left)[1:,::]\n",
        "V_left = np.array(V_left, dtype=float)\n",
        "\n",
        "AP_right_items = np.array(AP_right, dtype=str)[0,::]\n",
        "AP_right = np.array(AP_right)[1:,::]\n",
        "AP_right = np.array(AP_right, dtype=float)\n",
        "\n",
        "AP_left_items = np.array(AP_left, dtype=str)[0,::]\n",
        "AP_left = np.array(AP_left)[1:,::]\n",
        "AP_left = np.array(AP_left, dtype=float)\n",
        "\n",
        "ML_right_items = np.array(ML_right, dtype=str)[0,::]\n",
        "ML_right = np.array(ML_right)[1:,::]\n",
        "ML_right = np.array(ML_right, dtype=float)\n",
        "\n",
        "ML_left_items = np.array(ML_left, dtype=str)[0,::]\n",
        "ML_left = np.array(ML_left)[1:,::]\n",
        "ML_left = np.array(ML_left, dtype=float) # ML_left.shape (75732, 104)"
      ],
      "execution_count": 4,
      "outputs": []
    },
    {
      "cell_type": "code",
      "metadata": {
        "id": "Srqy_zkYGlbG",
        "colab": {
          "base_uri": "https://localhost:8080/"
        },
        "outputId": "8d461dba-5977-4c05-a44a-0745bcc45cd3"
      },
      "source": [
        "AP_left.shape"
      ],
      "execution_count": 5,
      "outputs": [
        {
          "output_type": "execute_result",
          "data": {
            "text/plain": [
              "(75732, 104)"
            ]
          },
          "metadata": {
            "tags": []
          },
          "execution_count": 5
        }
      ]
    },
    {
      "cell_type": "code",
      "metadata": {
        "id": "vRHitCZu82Q5"
      },
      "source": [
        "meta_items\n",
        "SUBJECT_ID = 0\n",
        "SESSION_ID = 1\n",
        "CLASS_LABEL = 2\n",
        "CLASS_LABEL_DETAILED = 3\n",
        "SEX = 4\n",
        "AGE = 5\n",
        "HEIGHT = 6\n",
        "BODY_WEIGHT = 7\n",
        "BODY_MASS = 8\n",
        "SHOE_SIZE = 9\n",
        "AFFECTED_SIDE = 10\n",
        "SHOD_CONDITION = 11\n",
        "ORTHOPEDIC_INSOLE = 12\n",
        "SPEED = 13\n",
        "READMISSION = 14\n",
        "SESSION_TYPE = 15\n",
        "SESSION_DATE = 16\n",
        "TRAIN = 17\n",
        "TRAIN_BALANCED = 18\n",
        "TEST = 19"
      ],
      "execution_count": 6,
      "outputs": []
    },
    {
      "cell_type": "code",
      "metadata": {
        "id": "pZXJEjnx9OXq"
      },
      "source": [
        "metadata_len = len(metadata)"
      ],
      "execution_count": 7,
      "outputs": []
    },
    {
      "cell_type": "code",
      "metadata": {
        "id": "8VlT5ui9MxLi"
      },
      "source": [
        "# meta = np.array(meta, dytpe=float) str型や日付など変換できない列があるので、逐次floatに変換忘れない\n",
        "# metadataの前処理, 3(class_label_detail)と16(year.date)列目削除して\n",
        "temp1_1 = np.concatenate([metadata[::, SUBJECT_ID].reshape(metadata_len, 1), metadata[::, SESSION_ID].reshape(metadata_len, 1)], axis=1)\n",
        "temp1_2 = np.concatenate([metadata[::, CLASS_LABEL].reshape(metadata_len, 1), metadata[::, AFFECTED_SIDE].reshape(metadata_len, 1)], axis=1)\n",
        "temp1_3 = np.concatenate([metadata[::, TRAIN].reshape(metadata_len, 1), metadata[::, TEST].reshape(metadata_len, 1)], axis=1)\n",
        "temp2 = np.concatenate([temp1_1, temp1_2], axis=1)\n",
        "metadata = np.concatenate([temp2, temp1_3], axis=1)"
      ],
      "execution_count": 8,
      "outputs": []
    },
    {
      "cell_type": "code",
      "metadata": {
        "id": "JhbZ6MGX0YU9",
        "colab": {
          "base_uri": "https://localhost:8080/"
        },
        "outputId": "8eff5eef-75c6-42cb-907e-57e87078730a"
      },
      "source": [
        "metadata.shape"
      ],
      "execution_count": 9,
      "outputs": [
        {
          "output_type": "execute_result",
          "data": {
            "text/plain": [
              "(8971, 6)"
            ]
          },
          "metadata": {
            "tags": []
          },
          "execution_count": 9
        }
      ]
    },
    {
      "cell_type": "code",
      "metadata": {
        "id": "TManHd15DK1i"
      },
      "source": [
        "# 2列目を5クラスに対応した数字に変換(HC=0, H=1, K=2, A=3, C=4)\n",
        "metadata = np.where(metadata=='HC', 0, metadata)\n",
        "metadata = np.where(metadata=='H', 1, metadata)\n",
        "metadata = np.where(metadata=='K', 2, metadata)\n",
        "metadata = np.where(metadata=='A', 3, metadata)\n",
        "metadata = np.where(metadata=='C', 4, metadata)"
      ],
      "execution_count": 10,
      "outputs": []
    },
    {
      "cell_type": "code",
      "metadata": {
        "id": "iuFWRLwd2gFV",
        "colab": {
          "base_uri": "https://localhost:8080/"
        },
        "outputId": "d3b8372e-a639-4393-af4a-2c0a23cbe12a"
      },
      "source": [
        "metadata.shape[1]"
      ],
      "execution_count": 11,
      "outputs": [
        {
          "output_type": "execute_result",
          "data": {
            "text/plain": [
              "6"
            ]
          },
          "metadata": {
            "tags": []
          },
          "execution_count": 11
        }
      ]
    },
    {
      "cell_type": "code",
      "metadata": {
        "id": "Ms_w4J7nmGeS"
      },
      "source": [
        "# V_left_and_meta = []\n",
        "# V_right_and_meta = []\n",
        "# AP_left_and_meta = []\n",
        "# AP_right_and_meta = []\n",
        "# ML_left_and_meta = []\n",
        "# ML_right_and_meta = []\n",
        "# リストはramを食いすぎるので、np.arrayを使うことにした\n",
        "\n",
        "TRIAL_num = len(AP_left)\n",
        "metadata_for_GRF = np.zeros([TRIAL_num, metadata.shape[1]])\n",
        "metadata_for_GRF[:,:] = np.nan # shape (8971, 6)\n",
        "\n",
        "for i in range(metadata.shape[0]):\n",
        "  index = np.array(np.where(AP_left[::, SESSION_ID] == int(metadata[i, SESSION_ID]))[0]) # 問題\n",
        "  index = np.array(index)\n",
        "  for k in index:\n",
        "    # from IPython.core.debugger import Pdb; Pdb().set_trace()\n",
        "    metadata_for_GRF[k, ::] = metadata[i, ::]\n"
      ],
      "execution_count": 12,
      "outputs": []
    },
    {
      "cell_type": "code",
      "metadata": {
        "id": "XO_03NIQAk4d"
      },
      "source": [
        "subject_id = 0\n",
        "session_id = 1\n",
        "class_label = 2\n",
        "affected_side = 3\n",
        "train = 4\n",
        "test = 5"
      ],
      "execution_count": 13,
      "outputs": []
    },
    {
      "cell_type": "code",
      "metadata": {
        "id": "BuQa86TwFNKe",
        "colab": {
          "base_uri": "https://localhost:8080/"
        },
        "outputId": "e34b060a-b54f-432b-8e5b-65ebb0486491"
      },
      "source": [
        "TRIAL_num"
      ],
      "execution_count": 14,
      "outputs": [
        {
          "output_type": "execute_result",
          "data": {
            "text/plain": [
              "75732"
            ]
          },
          "metadata": {
            "tags": []
          },
          "execution_count": 14
        }
      ]
    },
    {
      "cell_type": "code",
      "metadata": {
        "id": "iN8tMQiJ3G3u",
        "colab": {
          "base_uri": "https://localhost:8080/"
        },
        "outputId": "d179bd93-c304-48d3-e027-4e1c13c086d7"
      },
      "source": [
        "metadata_for_GRF.shape"
      ],
      "execution_count": 15,
      "outputs": [
        {
          "output_type": "execute_result",
          "data": {
            "text/plain": [
              "(75732, 6)"
            ]
          },
          "metadata": {
            "tags": []
          },
          "execution_count": 15
        }
      ]
    },
    {
      "cell_type": "code",
      "metadata": {
        "id": "UemZHZ-MDO5N",
        "colab": {
          "base_uri": "https://localhost:8080/"
        },
        "outputId": "fbc886a6-6f4a-4e8d-d307-2d2b5f2a5824"
      },
      "source": [
        "metadata_for_GRF[::, class_label]"
      ],
      "execution_count": 16,
      "outputs": [
        {
          "output_type": "execute_result",
          "data": {
            "text/plain": [
              "array([4., 4., 4., ..., 0., 0., 0.])"
            ]
          },
          "metadata": {
            "tags": []
          },
          "execution_count": 16
        }
      ]
    },
    {
      "cell_type": "code",
      "metadata": {
        "id": "tGqgCzoPukjx",
        "colab": {
          "base_uri": "https://localhost:8080/"
        },
        "outputId": "88afc07d-a3b2-4afc-ec2b-0bed8bc67978"
      },
      "source": [
        "print(np.sum(np.isnan(metadata_for_GRF))) # HCの場合、Affected_sideはNaN\n",
        "print(np.array(np.where(metadata_for_GRF[::, class_label] == 0)).shape)\n"
      ],
      "execution_count": 17,
      "outputs": [
        {
          "output_type": "stream",
          "text": [
            "7755\n",
            "(1, 7755)\n"
          ],
          "name": "stdout"
        }
      ]
    },
    {
      "cell_type": "code",
      "metadata": {
        "id": "-gA7sODmJ8NP"
      },
      "source": [
        "# GRFをV,AP,MLの順に横に並べる\n",
        "# AFFECTED_SIDEによって横に並ぶ順番を決める\n",
        "# trainとtestデータにわける\n",
        "\n",
        "V_left = V_left[::,3::]\n",
        "V_right = V_right[::,3::]\n",
        "AP_left = AP_left[::,3::]\n",
        "AP_right = AP_right[::,3::]\n",
        "ML_left = ML_left[::,3::]\n",
        "ML_right = ML_right[::,3::]\n",
        "\n",
        "# min_max normalizationする場合\n",
        "from sklearn import preprocessing\n",
        "mmscaler = preprocessing.MinMaxScaler(feature_range=(-1, 1), copy=True) # インスタンスの作成、活性化関数でtanhを使うのでfeature_range=(-1,1)\n",
        "# mmscaler = preprocessing.MinMaxScaler(feature_range=(0, 1), copy=True) \n",
        "\n",
        "mmscaler.fit(V_left)           # 最大・最小を計算\n",
        "V_left = mmscaler.transform(V_left) # 変換\n",
        "mmscaler.fit(V_right)           # 最大・最小を計算\n",
        "V_right = mmscaler.transform(V_right) # 変換\n",
        "\n",
        "mmscaler.fit(ML_left)           # 最大・最小を計算\n",
        "ML_left = mmscaler.transform(ML_left) # 変換\n",
        "mmscaler.fit(V_right)           # 最大・最小を計算\n",
        "ML_right = mmscaler.transform(ML_right) # 変換\n",
        "\n",
        "mmscaler.fit(AP_left)           # 最大・最小を計算\n",
        "AP_left = mmscaler.transform(AP_left) # 変換\n",
        "mmscaler.fit(AP_right)           # 最大・最小を計算\n",
        "AP_right = mmscaler.transform(AP_right) # 変換"
      ],
      "execution_count": 18,
      "outputs": []
    },
    {
      "cell_type": "code",
      "metadata": {
        "id": "4Sd8LxBieHAv"
      },
      "source": [
        "V_left = V_left.reshape(V_left.shape[0], 1, V_left.shape[1])\n",
        "V_right = V_right.reshape(V_right.shape[0], 1, V_right.shape[1])\n",
        "AP_left = AP_left.reshape(AP_left.shape[0], 1, AP_left.shape[1])\n",
        "AP_right = AP_right.reshape(AP_right.shape[0], 1, AP_right.shape[1])\n",
        "ML_left = ML_left.reshape(ML_left.shape[0], 1, ML_left.shape[1])\n",
        "ML_right = ML_right.reshape(ML_right.shape[0], 1, ML_right.shape[1])"
      ],
      "execution_count": 19,
      "outputs": []
    },
    {
      "cell_type": "code",
      "metadata": {
        "id": "00e6piioTztW"
      },
      "source": [
        "# データのみ\n",
        "right_GRF = np.concatenate([ML_right, AP_right, V_right], axis=2)\n",
        "left_GRF = np.concatenate([ML_left, AP_left, V_left], axis=2)"
      ],
      "execution_count": 20,
      "outputs": []
    },
    {
      "cell_type": "code",
      "metadata": {
        "id": "XKk1RlJlQfNM",
        "colab": {
          "base_uri": "https://localhost:8080/"
        },
        "outputId": "a0b42dc3-294e-4fbb-8d75-d3b3b3021dc0"
      },
      "source": [
        "print(right_GRF.shape)\n",
        "right_GRF[0].shape"
      ],
      "execution_count": 21,
      "outputs": [
        {
          "output_type": "stream",
          "text": [
            "(75732, 1, 303)\n"
          ],
          "name": "stdout"
        },
        {
          "output_type": "execute_result",
          "data": {
            "text/plain": [
              "(1, 303)"
            ]
          },
          "metadata": {
            "tags": []
          },
          "execution_count": 21
        }
      ]
    },
    {
      "cell_type": "code",
      "metadata": {
        "id": "GbuG6quxUfWi",
        "colab": {
          "base_uri": "https://localhost:8080/"
        },
        "outputId": "c7f8f635-264e-4d87-ed0f-f8f557d31d50"
      },
      "source": [
        "np.concatenate([right_GRF[0], left_GRF[0]], axis=1).shape"
      ],
      "execution_count": 22,
      "outputs": [
        {
          "output_type": "execute_result",
          "data": {
            "text/plain": [
              "(1, 606)"
            ]
          },
          "metadata": {
            "tags": []
          },
          "execution_count": 22
        }
      ]
    },
    {
      "cell_type": "code",
      "metadata": {
        "id": "3c3c0cPuUbLj",
        "colab": {
          "base_uri": "https://localhost:8080/"
        },
        "outputId": "d2bfe49d-c7d6-4b00-96bb-09bc74189398"
      },
      "source": [
        "# AFFECTED_SIDEによって横に並ぶ順番を決める\n",
        "import random\n",
        "\n",
        "GRF = []\n",
        "for i in range(TRIAL_num):\n",
        "  if metadata_for_GRF[i, class_label] > 0:    # patient\n",
        "    if metadata_for_GRF[i, affected_side] == 0: # affected_leg is left\n",
        "      # from IPython.core.debugger import Pdb; Pdb().set_trace()   \n",
        "      GRF.append(np.concatenate([left_GRF[i], right_GRF[i]], axis=1))\n",
        "    elif metadata_for_GRF[i, affected_side] == 1:  # affected_leg is right\n",
        "      GRF.append(np.concatenate([right_GRF[i], left_GRF[i]], axis=1))\n",
        "    else: \n",
        "      # from IPython.core.debugger import Pdb; Pdb().set_trace()                                 # affected_leg is both\n",
        "      lst = []\n",
        "      lst.append(right_GRF[i])\n",
        "      lst.append(left_GRF[i])\n",
        "      random.shuffle(lst)\n",
        "      GRF.append(np.concatenate([np.array(lst[0]), np.array(lst[1])], axis=1)) \n",
        "  else:                                    # healthy control\n",
        "    lst = []\n",
        "    lst.append(right_GRF[0])\n",
        "    lst.append(left_GRF[0])\n",
        "    random.shuffle(lst)\n",
        "    GRF.append(np.concatenate([np.array(lst[0]), np.array(lst[1])], axis=1)) \n",
        "\n",
        "print(np.array(GRF).shape)\n",
        "GRF = np.array(GRF)\n",
        "print(np.array(GRF).shape)"
      ],
      "execution_count": 23,
      "outputs": [
        {
          "output_type": "stream",
          "text": [
            "(75732, 1, 606)\n",
            "(75732, 1, 606)\n"
          ],
          "name": "stdout"
        }
      ]
    },
    {
      "cell_type": "code",
      "metadata": {
        "id": "zNwUIy5fsXtu"
      },
      "source": [
        "# trainとtestデータにわける\n",
        "# この時点では、まだGRFとV_PRO_right_and_metaの順番は同じはず\n",
        "# なのでこの時点で対応する正解データも作らないといけない\n",
        "\n",
        "# 5クラス分類(HC vs H vs K vs A vs C)\n",
        "train_data = []\n",
        "train_data_label = []\n",
        "test_data = []\n",
        "test_data_label = []\n",
        "for i in range(TRIAL_num):\n",
        "  if metadata_for_GRF[i, test] == 1: # testデータかどうか\n",
        "    test_data.append(GRF[i])\n",
        "    test_data_label.append(metadata_for_GRF[i, class_label])\n",
        "  else:\n",
        "    train_data.append(GRF[i])\n",
        "    train_data_label.append(metadata_for_GRF[i, class_label])\n",
        "\n",
        "# 4クラス分類(H vs K vs A vs C)\n",
        "# train_data = []\n",
        "# train_data_label = []\n",
        "# test_data = []\n",
        "# test_data_label = []\n",
        "# for i in range(TRIAL_num):\n",
        "#   if metadata_for_GRF[i, test] == 1: # testデータかどうか\n",
        "#     if metadata_for_GRF[i, class_label] == 1:\n",
        "#       test_data.append(GRF[i])\n",
        "#       test_data_label.append(1)\n",
        "#     elif metadata_for_GRF[i, class_label] == 2: \n",
        "#       test_data.append(GRF[i])\n",
        "#       test_data_label.append(2)\n",
        "#     elif metadata_for_GRF[i, class_label] == 3: \n",
        "#       test_data.append(GRF[i])\n",
        "#       test_data_label.append(3)\n",
        "#     elif metadata_for_GRF[i, class_label] == 4: \n",
        "#       test_data.append(GRF[i])\n",
        "#       test_data_label.append(4)\n",
        "#   else:\n",
        "#     if metadata_for_GRF[i, class_label] == 1:\n",
        "#       train_data.append(GRF[i])\n",
        "#       train_data_label.append(1)\n",
        "#     elif metadata_for_GRF[i, class_label] == 2: \n",
        "#       train_data.append(GRF[i])\n",
        "#       train_data_label.append(2)\n",
        "#     elif metadata_for_GRF[i, class_label] == 3: \n",
        "#       train_data.append(GRF[i])\n",
        "#       train_data_label.append(3)\n",
        "#     elif metadata_for_GRF[i, class_label] == 4: \n",
        "#       train_data.append(GRF[i])\n",
        "#       train_data_label.append(4)\n",
        "\n",
        "# 2クラス分類(HC vs GD)\n",
        "# train_data = []\n",
        "# train_data_label = []\n",
        "# test_data = []\n",
        "# test_data_label = []\n",
        "# for i in range(TRIAL_num):\n",
        "#   if metadata_for_GRF[i, test] == 1: # testデータかどうか\n",
        "#     test_data.append(GRF[i])\n",
        "#     if metadata_for_GRF[i, class_label] > 0:\n",
        "#       test_data_label.append(1)\n",
        "#     else:\n",
        "#       test_data_label.append(0)\n",
        "#   else:\n",
        "#     train_data.append(GRF[i])\n",
        "#     if metadata_for_GRF[i, class_label] > 0:\n",
        "#       train_data_label.append(1)\n",
        "#     else:\n",
        "#       train_data_label.append(0)\n",
        "\n",
        "# 2クラス分類(HC vs H)\n",
        "# train_data = []\n",
        "# train_data_label = []\n",
        "# test_data = []\n",
        "# test_data_label = []\n",
        "# for i in range(TRIAL_num):\n",
        "#   if metadata_for_GRF[i, test] == 1: # testデータかどうか\n",
        "#     if metadata_for_GRF[i, class_label] == 0:\n",
        "#       test_data.append(GRF[i])\n",
        "#       test_data_label.append(0)\n",
        "#     elif metadata_for_GRF[i, class_label] == 1: \n",
        "#       test_data.append(GRF[i])\n",
        "#       test_data_label.append(1)\n",
        "#   else:\n",
        "#     if metadata_for_GRF[i, class_label] == 0:\n",
        "#       train_data.append(GRF[i])\n",
        "#       train_data_label.append(0)\n",
        "#     elif metadata_for_GRF[i, class_label] == 1: \n",
        "#       train_data.append(GRF[i])\n",
        "#       train_data_label.append(1)\n",
        "\n",
        "# 2クラス分類(HC vs K)\n",
        "# train_data = []\n",
        "# train_data_label = []\n",
        "# test_data = []\n",
        "# test_data_label = []\n",
        "# for i in range(TRIAL_num):\n",
        "#   if metadata_for_GRF[i, test] == 1: # testデータかどうか\n",
        "#     if metadata_for_GRF[i, class_label] == 0:\n",
        "#       test_data.append(GRF[i])\n",
        "#       test_data_label.append(0)\n",
        "#     elif metadata_for_GRF[i, class_label] == 2: \n",
        "#       test_data.append(GRF[i])\n",
        "#       test_data_label.append(1)\n",
        "#   else:\n",
        "#     if metadata_for_GRF[i, class_label] == 0:\n",
        "#       train_data.append(GRF[i])\n",
        "#       train_data_label.append(0)\n",
        "#     elif metadata_for_GRF[i, class_label] == 2: \n",
        "#       train_data.append(GRF[i])\n",
        "#       train_data_label.append(1)\n",
        "\n",
        "# 2クラス分類(HC vs A)\n",
        "# train_data = []\n",
        "# train_data_label = []\n",
        "# test_data = []\n",
        "# test_data_label = []\n",
        "# for i in range(TRIAL_num):\n",
        "#   if metadata_for_GRF[i, test] == 1: # testデータかどうか\n",
        "#     if metadata_for_GRF[i, class_label] == 0:\n",
        "#       test_data.append(GRF[i])\n",
        "#       test_data_label.append(0)\n",
        "#     elif metadata_for_GRF[i, class_label] == 3: \n",
        "#       test_data.append(GRF[i])\n",
        "#       test_data_label.append(1)\n",
        "#   else:\n",
        "#     if metadata_for_GRF[i, class_label] == 0:\n",
        "#       train_data.append(GRF[i])\n",
        "#       train_data_label.append(0)\n",
        "#     elif metadata_for_GRF[i, class_label] == 3: \n",
        "#       train_data.append(GRF[i])\n",
        "#       train_data_label.append(1)\n",
        "\n",
        "# 2クラス分類(HC vs C)\n",
        "# train_data = []\n",
        "# train_data_label = []\n",
        "# test_data = []\n",
        "# test_data_label = []\n",
        "# for i in range(TRIAL_num):\n",
        "#   if metadata_for_GRF[i, test] == 1: # testデータかどうか\n",
        "#     if metadata_for_GRF[i, class_label] == 0:\n",
        "#       test_data.append(GRF[i])\n",
        "#       test_data_label.append(0)\n",
        "#     elif metadata_for_GRF[i, class_label] == 4: \n",
        "#       test_data.append(GRF[i])\n",
        "#       test_data_label.append(1)\n",
        "#   else:\n",
        "#     if metadata_for_GRF[i, class_label] == 0:\n",
        "#       train_data.append(GRF[i])\n",
        "#       train_data_label.append(0)\n",
        "#     elif metadata_for_GRF[i, class_label] == 4: \n",
        "#       train_data.append(GRF[i])\n",
        "#       train_data_label.append(1)\n",
        "\n",
        "train_X = np.array(train_data)\n",
        "train_y = np.array(train_data_label)\n",
        "test_X = np.array(test_data)\n",
        "test_y = np.array(test_data_label)"
      ],
      "execution_count": 38,
      "outputs": []
    },
    {
      "cell_type": "code",
      "metadata": {
        "id": "VBQp7qm8Z4Jw",
        "colab": {
          "base_uri": "https://localhost:8080/"
        },
        "outputId": "211f7cd9-dd61-47c6-db91-7cf82b589a3d"
      },
      "source": [
        "# データセット内訳チェック\n",
        "print(np.array(np.where(train_y == 0)).shape)\n",
        "print(np.array(np.where(train_y == 1)).shape)\n",
        "print(np.array(np.where(train_y == 2)).shape)\n",
        "print(np.array(np.where(train_y == 3)).shape)\n",
        "print(np.array(np.where(train_y == 4)).shape)\n",
        "\n",
        "# NaNチェック\n",
        "print(np.isnan(train_X).sum())\n",
        "print(np.isnan(train_y).sum())\n",
        "print(np.isnan(test_X).sum())\n",
        "print(np.isnan(test_y).sum())"
      ],
      "execution_count": 33,
      "outputs": [
        {
          "output_type": "stream",
          "text": [
            "(1, 5563)\n",
            "(1, 7900)\n",
            "(1, 13341)\n",
            "(1, 15213)\n",
            "(1, 10728)\n",
            "0\n",
            "0\n",
            "0\n",
            "0\n"
          ],
          "name": "stdout"
        }
      ]
    },
    {
      "cell_type": "code",
      "metadata": {
        "id": "nCuA96Kbz_8a",
        "colab": {
          "base_uri": "https://localhost:8080/",
          "height": 281
        },
        "outputId": "4f5c370f-cbd4-429f-f6ed-e2ce217b07ce"
      },
      "source": [
        "import matplotlib.pyplot as plt\n",
        "plt.title('GRF')\n",
        "plt.grid(True)\n",
        "\n",
        "j = range(101)\n",
        "# plt.plot(j, X[0, 0, 0:101], label=\"vGRF\")\n",
        "\n",
        "# plt.plot(j, X[0, 1, 0:101], label='apGRF')\n",
        "\n",
        "# plt.plot(j, X[0, 2, 0:101], label='mlGRF')\n",
        "\n",
        "plt.plot(j, train_X[0, 0, :101], label=\"mlGRF_right\")\n",
        "plt.plot(j, train_X[0, 0, 303:404], label=\"mlGRF_left\")\n",
        "\n",
        "plt.plot(j, train_X[0, 0, 101:202], label='apGRF_right')\n",
        "plt.plot(j, train_X[0, 0, 404:505], label='apGRF_left')\n",
        "\n",
        "plt.plot(j, train_X[0, 0, 202:303], label='vGRF_right')\n",
        "plt.plot(j, train_X[0, 0, 505:606], label='vGRF_left')\n",
        "\n",
        "plt.legend(loc='best')\n",
        "plt.show()"
      ],
      "execution_count": 34,
      "outputs": [
        {
          "output_type": "display_data",
          "data": {
            "image/png": "[encoded data removed]",
            "text/plain": [
              "<Figure size 432x288 with 1 Axes>"
            ]
          },
          "metadata": {
            "tags": [],
            "needs_background": "light"
          }
        }
      ]
    },
    {
      "cell_type": "code",
      "metadata": {
        "id": "MdXgcprG6dXD",
        "colab": {
          "base_uri": "https://localhost:8080/"
        },
        "outputId": "41bd8a81-bc1f-44c2-83a2-b58e344a06b6"
      },
      "source": [
        "import tensorflow as tf\n",
        "from tensorflow.keras import optimizers, regularizers\n",
        "# from tensorflow.keras.preprocessing.image import ImageDataGenerator\n",
        "from tensorflow.keras.models import Sequential\n",
        "from tensorflow.keras.layers import InputLayer, Dense, Dropout, Activation, Flatten\n",
        "from tensorflow.keras.layers import Conv1D, MaxPooling1D, Input, Reshape\n",
        "from keras.layers.recurrent import LSTM\n",
        "from tensorflow.keras.callbacks import TensorBoard, LearningRateScheduler\n",
        "import time\n",
        "import math\n",
        "from keras.callbacks import ModelCheckpoint, EarlyStopping\n",
        "from sklearn.metrics import confusion_matrix, classification_report, plot_confusion_matrix\n",
        "import seaborn as sns\n",
        "\n",
        "# NAME = \"HC-vs-C-LSTM_2class\"\n",
        "# NAME = \"HC-vs-A-LSTM_2class\"\n",
        "# NAME = \"HC-vs-K-LSTM_2class\"\n",
        "# NAME = \"HC-vs-H-LSTM_2class\"\n",
        "# NAME = \"HC-vs-GDs-LSTM_2class\"\n",
        "NAME = \"HC-H-vs-K-vs-A-vs-C-LSTM_5class\"\n",
        "# NAME = \"H-vs-K-vs-A-vs-C-CNN_4class\"\n",
        "# NAME = \"HC-vs-Patients-CNN_5class\"\n",
        "# NAME = \"HC-vs-GDs-CNN_2class\"\n",
        "# NAME = \"HC-vs-H-CNN_2class\"\n",
        "# NAME = \"HC-vs-K-CNN_2class\"\n",
        "# NAME = \"HC-vs-A-CNN_2class\"\n",
        "# NAME = \"HC-vs-C-CNN_2class\"\n",
        "\n",
        "# 学習\n",
        "early_stopping = EarlyStopping(\n",
        "                        monitor='val_loss',\n",
        "                        min_delta=0.0,\n",
        "                        # patience=2,\n",
        "                )\n",
        "\n",
        "# checkpointの設定\n",
        "checkpoint = ModelCheckpoint(\n",
        "                    filepath=\"saved_model\".format(NAME)\",\n",
        "                    monitor='val_loss',\n",
        "                    save_best_only=True,\n",
        "                    period=1,\n",
        "                )\n",
        "# CNN\n",
        "# model = Sequential()\n",
        "\n",
        "# stddeviation = math.pow(606, -0.5)\n",
        "# initializer = tf.keras.initializers.RandomNormal(mean=0, stddev=stddeviation)\n",
        "\n",
        "# # X = np.reshape(train_X, (-1, 101, 6))\n",
        "# # validation_X = np.reshape(test_X, (-1, 101, 6))\n",
        "# X = np.reshape(train_X, (-1, 606, 1))\n",
        "# validation_X = np.reshape(test_X, (-1, 606, 1))\n",
        "\n",
        "# model.add(Conv1D(24, kernel_size=8 , kernel_initializer=initializer, strides=2, input_shape=(606, 1)))\n",
        "# model.add(Activation('relu'))\n",
        "# # model.add(MaxPooling1D(pool_size=2))\n",
        "\n",
        "# model.add(Conv1D(24, kernel_size=8, strides=2))\n",
        "# model.add(Activation('relu'))\n",
        "# # model.add(MaxPooling1D(pool_size=2))\n",
        "\n",
        "# model.add(Conv1D(48, kernel_size=6, strides=3))\n",
        "# model.add(Activation('relu'))\n",
        "# # model.add(MaxPooling1D(pool_size=3))\n",
        "\n",
        "# model.add(Flatten())  # this converts our 3D feature maps to 1D feature vectors\n",
        "\n",
        "# # # model.add(Dense(5)) # 5クラス分類\n",
        "# # # model.add(Activation('softmax'))\n",
        "# # model.add(Dense(4)) # 4クラス分類\n",
        "# # model.add(Activation('softmax'))\n",
        "# model.add(Dense(1)) # 2クラス分類\n",
        "# model.add(Activation('sigmoid'))\n",
        "\n",
        "#-----------------------------------------------------------------------------------------------------------------------------\n",
        "\n",
        "# LSTM\n",
        "model = Sequential()\n",
        "\n",
        "X = np.reshape(train_X, (-1, 101, 6))\n",
        "validation_X = np.reshape(test_X, (-1, 101, 6))\n",
        "\n",
        "model.add(LSTM(units=101, input_shape=(101, 6), activation='tanh', dropout=0.5, return_sequences=True))\n",
        "model.add(LSTM(units=101, input_shape=(101, 6), activation='tanh', dropout=0.5, return_sequences=False))\n",
        "\n",
        "# model.add(Dense(units=5, activation='softmax'))\n",
        "model.add(Dense(units=1, activation='sigmoid'))\n",
        "\n",
        "#-----------------------------------------------------------------------------------------------------------------------------\n",
        "\n",
        "# 共通\n",
        "\n",
        "tensorboard = TensorBoard(log_dir=\"logs/{}\".format(NAME))\n",
        "\n",
        "# 5クラス分類, 4クラス分類\n",
        "model.compile(loss='sparse_categorical_crossentropy', \n",
        "              optimizer= optimizers.Adam(lr=0.002, beta_1= 0.9, beta_2= 0.999),\n",
        "              metrics=['accuracy'],\n",
        "              )\n",
        "\n",
        "# 2クラス分類\n",
        "# model.compile(loss='binary_crossentropy',\n",
        "#               optimizer= optimizers.SGD(lr=5e-3),\n",
        "#               metrics=['accuracy'],\n",
        "#               )\n",
        "\n",
        "model.summary()\n",
        "model.fit(X, train_y,\n",
        "          batch_size=5,\n",
        "          epochs=2,\n",
        "          validation_data=(validation_X, test_y),\n",
        "          callbacks=[tensorboard, checkpoint])\n",
        "\n",
        "\n",
        "# training parameters = kernel_size * (1Dだったらここは1, 2Dだったらここはkernel_size) * output_channels + num_bias\n",
        "# 216 = 8 * 1 * 24 + 24"
      ],
      "execution_count": 27,
      "outputs": [
        {
          "output_type": "stream",
          "text": [
            "WARNING:tensorflow:`period` argument is deprecated. Please use `save_freq` to specify the frequency in number of batches seen.\n",
            "Model: \"sequential\"\n",
            "_________________________________________________________________\n",
            "Layer (type)                 Output Shape              Param #   \n",
            "=================================================================\n",
            "lstm (LSTM)                  (None, 101, 101)          43632     \n",
            "_________________________________________________________________\n",
            "lstm_1 (LSTM)                (None, 101)               82012     \n",
            "_________________________________________________________________\n",
            "dense (Dense)                (None, 1)                 102       \n",
            "=================================================================\n",
            "Total params: 125,746\n",
            "Trainable params: 125,746\n",
            "Non-trainable params: 0\n",
            "_________________________________________________________________\n",
            "Epoch 1/2\n",
            "3781/3781 [==============================] - 71s 16ms/step - loss: 0.4692 - accuracy: 0.7719 - val_loss: 0.0359 - val_accuracy: 0.9923\n",
            "Epoch 2/2\n",
            "3781/3781 [==============================] - 61s 16ms/step - loss: 0.0815 - accuracy: 0.9693 - val_loss: 0.0181 - val_accuracy: 0.9940\n"
          ],
          "name": "stdout"
        },
        {
          "output_type": "execute_result",
          "data": {
            "text/plain": [
              "<tensorflow.python.keras.callbacks.History at 0x7faeb02907b8>"
            ]
          },
          "metadata": {
            "tags": []
          },
          "execution_count": 27
        }
      ]
    },
    {
      "cell_type": "code",
      "metadata": {
        "colab": {
          "base_uri": "https://localhost:8080/"
        },
        "id": "2WTsNkCkaLcn",
        "outputId": "9e8c1cf7-7b43-47d3-98e3-647119488aa4"
      },
      "source": [
        "# モデル復元\n",
        "\n",
        "model = Sequential()\n",
        "\n",
        "X = np.reshape(train_X, (-1, 101, 6))\n",
        "validation_X = np.reshape(test_X, (-1, 101, 6))\n",
        "\n",
        "model.add(LSTM(units=101, input_shape=(101, 6), activation='tanh', dropout=0.5, return_sequences=True))\n",
        "model.add(LSTM(units=101, input_shape=(101, 6), activation='tanh', dropout=0.5, return_sequences=False))\n",
        "\n",
        "model.add(Dense(units=5, activation='softmax'))\n",
        "# model.add(Dense(units=1, activation='sigmoid'))\n",
        "\n",
        "model.compile(loss='sparse_categorical_crossentropy', \n",
        "              optimizer= optimizers.Adam(lr=0.002, beta_1= 0.9, beta_2= 0.999),\n",
        "              metrics=['accuracy'],\n",
        "              )\n",
        "\n",
        "model.load_weights(\"/content/HC_vs_4classes_LSTM_12_27\")\n",
        "\n",
        "model.summary()\n",
        "model.fit(X, train_y,\n",
        "          batch_size=5,\n",
        "          epochs=1,\n",
        "          validation_data=(validation_X, test_y),\n",
        "          callbacks=[tensorboard])"
      ],
      "execution_count": 48,
      "outputs": [
        {
          "output_type": "stream",
          "text": [
            "Model: \"sequential_11\"\n",
            "_________________________________________________________________\n",
            "Layer (type)                 Output Shape              Param #   \n",
            "=================================================================\n",
            "lstm_22 (LSTM)               (None, 101, 101)          43632     \n",
            "_________________________________________________________________\n",
            "lstm_23 (LSTM)               (None, 101)               82012     \n",
            "_________________________________________________________________\n",
            "dense_11 (Dense)             (None, 5)                 510       \n",
            "=================================================================\n",
            "Total params: 126,154\n",
            "Trainable params: 126,154\n",
            "Non-trainable params: 0\n",
            "_________________________________________________________________\n",
            "10549/10549 [==============================] - 163s 15ms/step - loss: 1.0349 - accuracy: 0.5228 - val_loss: 1.0349 - val_accuracy: 0.4965\n"
          ],
          "name": "stdout"
        },
        {
          "output_type": "execute_result",
          "data": {
            "text/plain": [
              "<tensorflow.python.keras.callbacks.History at 0x7fae82c6c400>"
            ]
          },
          "metadata": {
            "tags": []
          },
          "execution_count": 48
        }
      ]
    },
    {
      "cell_type": "code",
      "metadata": {
        "colab": {
          "base_uri": "https://localhost:8080/",
          "height": 638
        },
        "id": "6f_TLi9_deon",
        "outputId": "8e5919cf-7882-491d-d7b2-5dc913d446b3"
      },
      "source": [
        "# 混合行列\n",
        "predict_classes = model.predict_classes(validation_X)\n",
        "true_classes = test_y\n",
        "cmx = confusion_matrix(true_classes, predict_classes)\n",
        "print(cmx)\n",
        "\n",
        "index1 = [\"HC\", \"Hip\", \"Knee\", \"Ankle\", \"Calcaneus\"]\n",
        "# index1 = [\"HC\", \"Knee\"]\n",
        "\n",
        "print(classification_report(true_classes, predict_classes, target_names=index1))\n",
        "\n",
        "ax= plt.subplot()\n",
        "sns.heatmap(cmx, annot=True, ax = ax);\n",
        "# labels, title and ticks\n",
        "ax.set_xlabel('Predicted labels');\n",
        "ax.set_ylabel('True labels'); \n",
        "ax.set_title('Confusion Matrix'); \n",
        "ax.xaxis.set_ticklabels(index1); \n",
        "ax.yaxis.set_ticklabels(index1);\n",
        "plt.show()"
      ],
      "execution_count": 49,
      "outputs": [
        {
          "output_type": "stream",
          "text": [
            "/usr/local/lib/python3.6/dist-packages/tensorflow/python/keras/engine/sequential.py:450: UserWarning: `model.predict_classes()` is deprecated and will be removed after 2021-01-01. Please use instead:* `np.argmax(model.predict(x), axis=-1)`,   if your model does multi-class classification   (e.g. if it uses a `softmax` last-layer activation).* `(model.predict(x) > 0.5).astype(\"int32\")`,   if your model does binary classification   (e.g. if it uses a `sigmoid` last-layer activation).\n",
            "  warnings.warn('`model.predict_classes()` is deprecated and '\n"
          ],
          "name": "stderr"
        },
        {
          "output_type": "stream",
          "text": [
            "[[2192    0    0    0    0]\n",
            " [   1  145 3975  624  103]\n",
            " [   0  213 5214 1019   86]\n",
            " [   8   86 2704 2592  783]\n",
            " [  11   10  471 1481 1269]]\n",
            "              precision    recall  f1-score   support\n",
            "\n",
            "          HC       0.99      1.00      1.00      2192\n",
            "         Hip       0.32      0.03      0.05      4848\n",
            "        Knee       0.42      0.80      0.55      6532\n",
            "       Ankle       0.45      0.42      0.44      6173\n",
            "   Calcaneus       0.57      0.39      0.46      3242\n",
            "\n",
            "    accuracy                           0.50     22987\n",
            "   macro avg       0.55      0.53      0.50     22987\n",
            "weighted avg       0.48      0.50      0.45     22987\n",
            "\n"
          ],
          "name": "stdout"
        },
        {
          "output_type": "display_data",
          "data": {
            "image/png": "[encoded data removed]",
            "text/plain": [
              "<Figure size 432x288 with 2 Axes>"
            ]
          },
          "metadata": {
            "tags": [],
            "needs_background": "light"
          }
        }
      ]
    },
    {
      "cell_type": "code",
      "metadata": {
        "id": "2P9j8L_-w6gz"
      },
      "source": [
        "from __future__ import absolute_import, division, print_function, unicode_literals\n",
        "\n",
        "try:\n",
        "  # %tensorflow_version only exists in Colab.\n",
        "  %tensorflow_version 2.x\n",
        "except Exception:\n",
        "  pass"
      ],
      "execution_count": 50,
      "outputs": []
    },
    {
      "cell_type": "code",
      "metadata": {
        "id": "1eJCT9VRxAdm",
        "colab": {
          "base_uri": "https://localhost:8080/"
        },
        "outputId": "ec7d89a0-4ce3-44f1-d029-c588b1500db2"
      },
      "source": [
        "%load_ext tensorboard"
      ],
      "execution_count": 51,
      "outputs": [
        {
          "output_type": "stream",
          "text": [
            "The tensorboard extension is already loaded. To reload it, use:\n",
            "  %reload_ext tensorboard\n"
          ],
          "name": "stdout"
        }
      ]
    },
    {
      "cell_type": "code",
      "metadata": {
        "id": "ZklL-Yj5xCk7"
      },
      "source": [
        "%tensorboard --logdir logs"
      ],
      "execution_count": null,
      "outputs": []
    }
  ]
}