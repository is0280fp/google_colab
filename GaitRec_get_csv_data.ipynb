{
  "nbformat": 4,
  "nbformat_minor": 0,
  "metadata": {
    "colab": {
      "name": "GaitRec_get_csv_data.ipynb",
      "provenance": [],
      "collapsed_sections": [],
      "mount_file_id": "1ijdXNpxuZHp7dm0zBtwiR-ocqDlg6IYg",
      "authorship_tag": "ABX9TyPtEF51Jla408isX3ZNGou3",
      "include_colab_link": true
    },
    "kernelspec": {
      "name": "python3",
      "display_name": "Python 3"
    },
    "accelerator": "GPU"
  },
  "cells": [
    {
      "cell_type": "markdown",
      "metadata": {
        "id": "view-in-github",
        "colab_type": "text"
      },
      "source": [
        "<a href=\"https://colab.research.google.com/github/is0280fp/google_colab/blob/main/GaitRec_get_csv_data.ipynb\" target=\"_parent\"><img src=\"https://colab.research.google.com/assets/colab-badge.svg\" alt=\"Open In Colab\"/></a>"
      ]
    },
    {
      "cell_type": "code",
      "metadata": {
        "id": "Lh16VKnfw0Ud"
      },
      "source": [
        "# from IPython.core.debugger import Pdb; Pdb().set_trace()\n",
        "import csv\n",
        "import tensorflow as tf\n",
        "import functools\n",
        "import numpy as np\n",
        "\n",
        "with open('/content/drive/MyDrive/GaitRect/GaitRect/GRF_F_V_PRO_left.csv') as f:\n",
        "    reader = csv.reader(f)\n",
        "    V_left = [row for row in reader]\n",
        "f.close()\n",
        "\n",
        "with open('/content/drive/MyDrive/GaitRect/GaitRect/GRF_F_V_PRO_right.csv') as f:\n",
        "    reader = csv.reader(f)\n",
        "    V_right = [row for row in reader]\n",
        "f.close()\n",
        "\n",
        "with open('/content/drive/MyDrive/GaitRect/GaitRect/GRF_F_AP_PRO_left.csv') as f:\n",
        "    reader = csv.reader(f)\n",
        "    AP_left = [row for row in reader]\n",
        "f.close()\n",
        "\n",
        "with open('/content/drive/MyDrive/GaitRect/GaitRect/GRF_F_AP_PRO_right.csv') as f:\n",
        "    reader = csv.reader(f)\n",
        "    AP_right = [row for row in reader]\n",
        "f.close()\n",
        "\n",
        "with open('/content/drive/MyDrive/GaitRect/GaitRect/GRF_F_ML_PRO_left.csv') as f:\n",
        "    reader = csv.reader(f)\n",
        "    ML_left = [row for row in reader]\n",
        "f.close()\n",
        "\n",
        "with open('/content/drive/MyDrive/GaitRect/GaitRect/GRF_F_ML_PRO_right.csv') as f:\n",
        "    reader = csv.reader(f)\n",
        "    ML_right = [row for row in reader]\n",
        "f.close()"
      ],
      "execution_count": 1,
      "outputs": []
    },
    {
      "cell_type": "code",
      "metadata": {
        "id": "VPXBon1M0dhB"
      },
      "source": [
        "with open('/content/drive/MyDrive/GaitRect/GaitRect/GRF_metadata.csv') as f:\n",
        "    reader = csv.reader(f)\n",
        "    metadata = [row for row in reader]\n",
        "f.close()\n",
        "\n",
        "meta_items = np.array(metadata, dtype=str)[0,::]\n",
        "metadata = np.array(metadata)[1:,::]"
      ],
      "execution_count": 2,
      "outputs": []
    },
    {
      "cell_type": "code",
      "metadata": {
        "colab": {
          "base_uri": "https://localhost:8080/"
        },
        "id": "o0d7XTWOGElr",
        "outputId": "244810b7-44cc-4458-8d16-1a0d97279985"
      },
      "source": [
        "len(AP_left)\n",
        "np.array(AP_left).shape\n",
        "np.array(AP_left)[1:,::].shape"
      ],
      "execution_count": 12,
      "outputs": [
        {
          "output_type": "execute_result",
          "data": {
            "text/plain": [
              "(75732, 104)"
            ]
          },
          "metadata": {
            "tags": []
          },
          "execution_count": 12
        }
      ]
    },
    {
      "cell_type": "code",
      "metadata": {
        "id": "cDu3Fg_weaEV"
      },
      "source": [
        "# データそれぞれの一番目の文字列を除去し、数字だけにした\n",
        "V_right_items = np.array(V_right, dtype=str)[0,::]\n",
        "V_right = np.array(V_right)[1:,::]\n",
        "V_right = np.array(V_right, dtype=float)\n",
        "\n",
        "V_left_items = np.array(V_left, dtype=str)[0,::]\n",
        "V_left = np.array(V_left)[1:,::]\n",
        "V_left = np.array(V_left, dtype=float)\n",
        "\n",
        "AP_right_items = np.array(AP_right, dtype=str)[0,::]\n",
        "AP_right = np.array(AP_right)[1:,::]\n",
        "AP_right = np.array(AP_right, dtype=float)\n",
        "\n",
        "AP_left_items = np.array(AP_left, dtype=str)[0,::]\n",
        "AP_left = np.array(AP_left)[1:,::]\n",
        "AP_left = np.array(AP_left, dtype=float)\n",
        "\n",
        "ML_right_items = np.array(ML_right, dtype=str)[0,::]\n",
        "ML_right = np.array(ML_right)[1:,::]\n",
        "ML_right = np.array(ML_right, dtype=float)\n",
        "\n",
        "ML_left_items = np.array(ML_left, dtype=str)[0,::]\n",
        "ML_left = np.array(ML_left)[1:,::]\n",
        "ML_left = np.array(ML_left, dtype=float) # ML_left.shape (75732, 104)"
      ],
      "execution_count": 13,
      "outputs": []
    },
    {
      "cell_type": "code",
      "metadata": {
        "colab": {
          "base_uri": "https://localhost:8080/"
        },
        "id": "Srqy_zkYGlbG",
        "outputId": "f3a26db9-4b29-41b4-c8ec-bfcf7d090713"
      },
      "source": [
        "AP_left.shape"
      ],
      "execution_count": 15,
      "outputs": [
        {
          "output_type": "execute_result",
          "data": {
            "text/plain": [
              "(75732, 104)"
            ]
          },
          "metadata": {
            "tags": []
          },
          "execution_count": 15
        }
      ]
    },
    {
      "cell_type": "code",
      "metadata": {
        "id": "vRHitCZu82Q5"
      },
      "source": [
        "meta_items\n",
        "SUBJECT_ID = 0\n",
        "SESSION_ID = 1\n",
        "CLASS_LABEL = 2\n",
        "CLASS_LABEL_DETAILED = 3\n",
        "SEX = 4\n",
        "AGE = 5\n",
        "HEIGHT = 6\n",
        "BODY_WEIGHT = 7\n",
        "BODY_MASS = 8\n",
        "SHOE_SIZE = 9\n",
        "AFFECTED_SIDE = 10\n",
        "SHOD_CONDITION = 11\n",
        "ORTHOPEDIC_INSOLE = 12\n",
        "SPEED = 13\n",
        "READMISSION = 14\n",
        "SESSION_TYPE = 15\n",
        "SESSION_DATE = 16\n",
        "TRAIN = 17\n",
        "TRAIN_BALANCED = 18\n",
        "TEST = 19"
      ],
      "execution_count": 16,
      "outputs": []
    },
    {
      "cell_type": "code",
      "metadata": {
        "id": "pZXJEjnx9OXq"
      },
      "source": [
        "metadata_len = len(metadata)"
      ],
      "execution_count": 17,
      "outputs": []
    },
    {
      "cell_type": "code",
      "metadata": {
        "id": "8VlT5ui9MxLi"
      },
      "source": [
        "# meta = np.array(meta, dytpe=float) str型や日付など変換できない列があるので、逐次floatに変換忘れない\n",
        "# metadataの前処理, 3(class_label_detail)と16(year.date)列目削除して\n",
        "temp1_1 = np.concatenate([metadata[::, SUBJECT_ID].reshape(metadata_len, 1), metadata[::, SESSION_ID].reshape(metadata_len, 1)], axis=1)\n",
        "temp1_2 = np.concatenate([metadata[::, CLASS_LABEL].reshape(metadata_len, 1), metadata[::, AFFECTED_SIDE].reshape(metadata_len, 1)], axis=1)\n",
        "temp1_3 = np.concatenate([metadata[::, TRAIN].reshape(metadata_len, 1), metadata[::, TEST].reshape(metadata_len, 1)], axis=1)\n",
        "temp2 = np.concatenate([temp1_1, temp1_2], axis=1)\n",
        "metadata = np.concatenate([temp2, temp1_3], axis=1)"
      ],
      "execution_count": 18,
      "outputs": []
    },
    {
      "cell_type": "code",
      "metadata": {
        "colab": {
          "base_uri": "https://localhost:8080/"
        },
        "id": "JhbZ6MGX0YU9",
        "outputId": "cabe8254-9c79-41a4-c69a-702b9323a14b"
      },
      "source": [
        "metadata.shape"
      ],
      "execution_count": 19,
      "outputs": [
        {
          "output_type": "execute_result",
          "data": {
            "text/plain": [
              "(8971, 6)"
            ]
          },
          "metadata": {
            "tags": []
          },
          "execution_count": 19
        }
      ]
    },
    {
      "cell_type": "code",
      "metadata": {
        "id": "TManHd15DK1i"
      },
      "source": [
        "# 2列目を5クラスに対応した数字に変換(HC=0, H=1, K=2, A=3, C=4)\n",
        "metadata = np.where(metadata=='HC', 0, metadata)\n",
        "metadata = np.where(metadata=='H', 1, metadata)\n",
        "metadata = np.where(metadata=='K', 2, metadata)\n",
        "metadata = np.where(metadata=='A', 3, metadata)\n",
        "metadata = np.where(metadata=='C', 4, metadata)"
      ],
      "execution_count": 20,
      "outputs": []
    },
    {
      "cell_type": "code",
      "metadata": {
        "colab": {
          "base_uri": "https://localhost:8080/"
        },
        "id": "iuFWRLwd2gFV",
        "outputId": "fcbbb84d-d90d-46e5-8528-a1b3148c70cb"
      },
      "source": [
        "metadata.shape[1]"
      ],
      "execution_count": 21,
      "outputs": [
        {
          "output_type": "execute_result",
          "data": {
            "text/plain": [
              "6"
            ]
          },
          "metadata": {
            "tags": []
          },
          "execution_count": 21
        }
      ]
    },
    {
      "cell_type": "code",
      "metadata": {
        "id": "Ms_w4J7nmGeS"
      },
      "source": [
        "# V_left_and_meta = []\n",
        "# V_right_and_meta = []\n",
        "# AP_left_and_meta = []\n",
        "# AP_right_and_meta = []\n",
        "# ML_left_and_meta = []\n",
        "# ML_right_and_meta = []\n",
        "# リストはramを食いすぎるので、np.arrayを使うことにした\n",
        "\n",
        "TRIAL_num = len(AP_left)\n",
        "metadata_for_GRF = np.zeros([TRIAL_num, metadata.shape[1]])\n",
        "metadata_for_GRF[:,:] = np.nan # shape (8971, 6)\n",
        "\n",
        "for i in range(metadata.shape[0]):\n",
        "  index = np.array(np.where(AP_left[::, SESSION_ID] == int(metadata[i, SESSION_ID]))[0]) # 問題\n",
        "  index = np.array(index)\n",
        "  for k in index:\n",
        "    # from IPython.core.debugger import Pdb; Pdb().set_trace()\n",
        "    metadata_for_GRF[k, ::] = metadata[i, ::]\n"
      ],
      "execution_count": 36,
      "outputs": []
    },
    {
      "cell_type": "code",
      "metadata": {
        "id": "XO_03NIQAk4d"
      },
      "source": [
        "subject_id = 0\n",
        "session_id = 1\n",
        "class_label = 2\n",
        "affected_side = 3\n",
        "train = 4\n",
        "test = 5"
      ],
      "execution_count": 37,
      "outputs": []
    },
    {
      "cell_type": "code",
      "metadata": {
        "colab": {
          "base_uri": "https://localhost:8080/"
        },
        "id": "BuQa86TwFNKe",
        "outputId": "073cca64-9359-4dfa-e23b-48d9a447b155"
      },
      "source": [
        "TRIAL_num"
      ],
      "execution_count": 38,
      "outputs": [
        {
          "output_type": "execute_result",
          "data": {
            "text/plain": [
              "75732"
            ]
          },
          "metadata": {
            "tags": []
          },
          "execution_count": 38
        }
      ]
    },
    {
      "cell_type": "code",
      "metadata": {
        "colab": {
          "base_uri": "https://localhost:8080/"
        },
        "id": "iN8tMQiJ3G3u",
        "outputId": "ab6fad67-b02f-48fa-9a4f-4c8e99e9048a"
      },
      "source": [
        "metadata_for_GRF.shape"
      ],
      "execution_count": 27,
      "outputs": [
        {
          "output_type": "execute_result",
          "data": {
            "text/plain": [
              "(75732, 6)"
            ]
          },
          "metadata": {
            "tags": []
          },
          "execution_count": 27
        }
      ]
    },
    {
      "cell_type": "code",
      "metadata": {
        "colab": {
          "base_uri": "https://localhost:8080/"
        },
        "id": "UemZHZ-MDO5N",
        "outputId": "1073d760-9d63-4d83-c9f1-ce66b86a5dbc"
      },
      "source": [
        "metadata_for_GRF[::, class_label]"
      ],
      "execution_count": 28,
      "outputs": [
        {
          "output_type": "execute_result",
          "data": {
            "text/plain": [
              "array([4., 4., 4., ..., 0., 0., 0.])"
            ]
          },
          "metadata": {
            "tags": []
          },
          "execution_count": 28
        }
      ]
    },
    {
      "cell_type": "code",
      "metadata": {
        "colab": {
          "base_uri": "https://localhost:8080/"
        },
        "id": "tGqgCzoPukjx",
        "outputId": "4e629be5-c690-495c-94c1-562946121f88"
      },
      "source": [
        "print(np.sum(np.isnan(metadata_for_GRF))) # HCの場合、Affected_sideはNaN\n",
        "print(np.array(np.where(metadata_for_GRF[::, class_label] == 0)).shape)\n"
      ],
      "execution_count": 29,
      "outputs": [
        {
          "output_type": "stream",
          "text": [
            "7755\n",
            "(1, 7755)\n"
          ],
          "name": "stdout"
        }
      ]
    },
    {
      "cell_type": "code",
      "metadata": {
        "id": "kSzVILW6Fzyd"
      },
      "source": [
        "# GRFをV,AP,MLの順に横に並べる\n",
        "# AFFECTED_SIDEによって横に並ぶ順番を決める\n",
        "# trainとtestデータにわける\n",
        "\n",
        "# データのみ\n",
        "right_GRF = np.concatenate([V_right[::,3:], AP_right[::,3:], ML_right[::,3:]], axis=0)\n",
        "left_GRF = np.concatenate([V_left[::,3:], AP_left[::,3:], ML_left[::,3:]], axis=0)\n"
      ],
      "execution_count": 39,
      "outputs": []
    },
    {
      "cell_type": "code",
      "metadata": {
        "colab": {
          "base_uri": "https://localhost:8080/"
        },
        "id": "NkOzrpOjnAqy",
        "outputId": "3cb2ffc3-2233-4081-bad5-053e19f5bd1e"
      },
      "source": [
        "right_GRF.shape"
      ],
      "execution_count": 40,
      "outputs": [
        {
          "output_type": "execute_result",
          "data": {
            "text/plain": [
              "(227196, 101)"
            ]
          },
          "metadata": {
            "tags": []
          },
          "execution_count": 40
        }
      ]
    },
    {
      "cell_type": "code",
      "metadata": {
        "id": "3c3c0cPuUbLj"
      },
      "source": [
        "# AFFECTED_SIDEによって横に並ぶ順番を決める\n",
        "import random\n",
        "\n",
        "GRF = []\n",
        "for i in range(TRIAL_num):\n",
        "  if metadata_for_GRF[i, class_label] > 0:    # patient\n",
        "    if metadata_for_GRF[i, affected_side] == 0: # affected_leg is left\n",
        "      GRF.append(np.concatenate([left_GRF[i], right_GRF[i]]))\n",
        "    elif metadata_for_GRF[i, affected_side] == 1:  # affected_leg is right\n",
        "      GRF.append(np.concatenate([right_GRF[i], left_GRF[i]]))\n",
        "    else:                                  # affected_leg is both\n",
        "      lst = []\n",
        "      lst.append(right_GRF[0])\n",
        "      lst.append(left_GRF[0])\n",
        "      random.shuffle(lst)\n",
        "      GRF.append(np.concatenate([lst[0],lst[1]])) \n",
        "  else:                                    # healthy control\n",
        "    lst = []\n",
        "    lst.append(right_GRF[0])\n",
        "    lst.append(left_GRF[0])\n",
        "    random.shuffle(lst)\n",
        "    GRF.append(np.concatenate([lst[0],lst[1]])) "
      ],
      "execution_count": 41,
      "outputs": []
    },
    {
      "cell_type": "code",
      "metadata": {
        "colab": {
          "base_uri": "https://localhost:8080/"
        },
        "id": "20FFXfQFqInJ",
        "outputId": "6389ff86-d120-4661-8cf9-5c9b625688c2"
      },
      "source": [
        "np.array(GRF).shape"
      ],
      "execution_count": 42,
      "outputs": [
        {
          "output_type": "execute_result",
          "data": {
            "text/plain": [
              "(75732, 202)"
            ]
          },
          "metadata": {
            "tags": []
          },
          "execution_count": 42
        }
      ]
    },
    {
      "cell_type": "code",
      "metadata": {
        "id": "zNwUIy5fsXtu"
      },
      "source": [
        "# trainとtestデータにわける\n",
        "# この時点では、まだGRFとV_PRO_right_and_metaの順番は同じはず\n",
        "# なのでこの時点で対応する正解データも作らないといけない\n",
        "# 5クラス分類(HC vs H vs K vs A vs C)\n",
        "train_data = []\n",
        "train_data_label = []\n",
        "test_data = []\n",
        "test_data_label = []\n",
        "for i in range(TRIAL_num):\n",
        "  if metadata_for_GRF[i, class_label] == 1: # testデータかどうか\n",
        "    test_data.append(GRF[i])\n",
        "    test_data_label.append(metadata_for_GRF[i, class_label])\n",
        "  else:\n",
        "    train_data.append(GRF[i])\n",
        "    train_data_label.append(metadata_for_GRF[i, class_label])"
      ],
      "execution_count": 43,
      "outputs": []
    },
    {
      "cell_type": "code",
      "metadata": {
        "colab": {
          "base_uri": "https://localhost:8080/"
        },
        "id": "0zloDWcoHxU5",
        "outputId": "4c2fcdeb-eaab-4a1a-8d93-411e5627c14b"
      },
      "source": [
        "print(np.array(test_data).shape)\n",
        "print(np.array(test_data_label).shape)\n",
        "print(np.array(train_data).shape)\n",
        "print(np.array(train_data_label).shape)\n",
        "print(np.array(test_data).shape[0]+np.array(train_data).shape[0])"
      ],
      "execution_count": 46,
      "outputs": [
        {
          "output_type": "stream",
          "text": [
            "(12748, 202)\n",
            "(12748,)\n",
            "(62984, 202)\n",
            "(62984,)\n",
            "75732\n"
          ],
          "name": "stdout"
        }
      ]
    },
    {
      "cell_type": "code",
      "metadata": {
        "id": "mrZII3glIJbR"
      },
      "source": [
        ""
      ],
      "execution_count": null,
      "outputs": []
    },
    {
      "cell_type": "code",
      "metadata": {
        "id": "UVNi9PiO4JNr"
      },
      "source": [
        "# import pickle\n",
        "\n",
        "# with open(\"train_data.pickle\", mode=\"wb\") as f:\n",
        "#    pickle.dump(train_data, f)\n",
        "\n",
        "# with open(\"test_data.pickle\", mode=\"wb\") as f:\n",
        "#    pickle.dump(test_data, f)\n",
        "\n",
        "# with open(\"train_data_label.pickle\", mode=\"wb\") as f:\n",
        "#    pickle.dump(train_data_label, f)\n",
        "\n",
        "# with open(\"test_data_label.pickle\", mode=\"wb\") as f:\n",
        "#    pickle.dump(test_data_label, f)\n",
        "\n",
        "# with open(\"train_data.pickle\", mode=\"rb\") as f:\n",
        "#    train = pickle.load(f)\n",
        "\n",
        "# with open(\"test_data.pickle\", mode=\"rb\") as f:\n",
        "#    test = pickle.load(f)\n",
        "\n",
        "# with open(\"train_data_label.pickle\", mode=\"rb\") as f:\n",
        "#    train_label = pickle.load(f)\n",
        "\n",
        "# with open(\"test_data_label.pickle\", mode=\"rb\") as f:\n",
        "#    test_label = pickle.load(f)"
      ],
      "execution_count": null,
      "outputs": []
    },
    {
      "cell_type": "code",
      "metadata": {
        "id": "Sy0LlP5VGKrE"
      },
      "source": [
        "# X = train\n",
        "# y = train_label"
      ],
      "execution_count": null,
      "outputs": []
    },
    {
      "cell_type": "code",
      "metadata": {
        "id": "MdXgcprG6dXD"
      },
      "source": [
        "# import tensorflow as tf\n",
        "# from tensorflow.keras.datasets import cifar10\n",
        "# # from tensorflow.keras.preprocessing.image import ImageDataGenerator\n",
        "# from tensorflow.keras.models import Sequential\n",
        "# from tensorflow.keras.layers import Dense, Dropout, Activation, Flatten\n",
        "# from tensorflow.keras.layers import Conv2D, MaxPooling2D\n",
        "# # more info on callbakcs: https://keras.io/callbacks/ model saver is cool too.\n",
        "# from tensorflow.keras.callbacks import TensorBoard\n",
        "# import time\n",
        "\n",
        "# NAME = \"HC-vs-Patient-CNN\"\n",
        "\n",
        "# model = Sequential()\n",
        "\n",
        "# model.add(Conv2D(256, (3, 3), input_shape=X.shape[1:]))\n",
        "# model.add(Activation('relu'))\n",
        "# model.add(MaxPooling2D(pool_size=(2, 2)))\n",
        "\n",
        "# model.add(Conv2D(256, (3, 3)))\n",
        "# model.add(Activation('relu'))\n",
        "# model.add(MaxPooling2D(pool_size=(2, 2)))\n",
        "\n",
        "# model.add(Flatten())  # this converts our 3D feature maps to 1D feature vectors\n",
        "# model.add(Dense(64))\n",
        "\n",
        "# model.add(Dense(1))\n",
        "# model.add(Activation('sigmoid'))\n",
        "\n",
        "# tensorboard = TensorBoard(log_dir=\"logs/{}\".format(NAME))\n",
        "\n",
        "# model.compile(loss='binary_crossentropy',\n",
        "#               optimizer='adam',\n",
        "#               metrics=['accuracy'],\n",
        "#               )\n",
        "\n",
        "# model.fit(X, y,\n",
        "#           batch_size=32,\n",
        "#           epochs=3,\n",
        "#           validation_split=0.3,\n",
        "#           callbacks=[tensorboard])\n",
        "\n"
      ],
      "execution_count": null,
      "outputs": []
    }
  ]
}