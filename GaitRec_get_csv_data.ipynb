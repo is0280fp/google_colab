{
  "nbformat": 4,
  "nbformat_minor": 0,
  "metadata": {
    "colab": {
      "name": "GaitRec_get_csv_data.ipynb",
      "provenance": [],
      "collapsed_sections": [],
      "mount_file_id": "1ijdXNpxuZHp7dm0zBtwiR-ocqDlg6IYg",
      "authorship_tag": "ABX9TyP/J6YPz6MhRNyLOzGYsXkB",
      "include_colab_link": true
    },
    "kernelspec": {
      "name": "python3",
      "display_name": "Python 3"
    },
    "accelerator": "GPU"
  },
  "cells": [
    {
      "cell_type": "markdown",
      "metadata": {
        "id": "view-in-github",
        "colab_type": "text"
      },
      "source": [
        "<a href=\"https://colab.research.google.com/github/is0280fp/google_colab/blob/main/GaitRec_get_csv_data.ipynb\" target=\"_parent\"><img src=\"https://colab.research.google.com/assets/colab-badge.svg\" alt=\"Open In Colab\"/></a>"
      ]
    },
    {
      "cell_type": "code",
      "metadata": {
        "id": "Lh16VKnfw0Ud"
      },
      "source": [
        "# from IPython.core.debugger import Pdb; Pdb().set_trace()\n",
        "import csv\n",
        "import tensorflow as tf\n",
        "import functools\n",
        "import numpy as np\n",
        "\n",
        "with open('/content/drive/MyDrive/GaitRect/GaitRect/GRF_F_V_PRO_left.csv') as f:\n",
        "    reader = csv.reader(f)\n",
        "    V_left = [row for row in reader]\n",
        "f.close()\n",
        "\n",
        "with open('/content/drive/MyDrive/GaitRect/GaitRect/GRF_F_V_PRO_right.csv') as f:\n",
        "    reader = csv.reader(f)\n",
        "    V_right = [row for row in reader]\n",
        "f.close()\n",
        "\n",
        "with open('/content/drive/MyDrive/GaitRect/GaitRect/GRF_F_AP_PRO_left.csv') as f:\n",
        "    reader = csv.reader(f)\n",
        "    AP_left = [row for row in reader]\n",
        "f.close()\n",
        "\n",
        "with open('/content/drive/MyDrive/GaitRect/GaitRect/GRF_F_AP_PRO_right.csv') as f:\n",
        "    reader = csv.reader(f)\n",
        "    AP_right = [row for row in reader]\n",
        "f.close()\n",
        "\n",
        "with open('/content/drive/MyDrive/GaitRect/GaitRect/GRF_F_ML_PRO_left.csv') as f:\n",
        "    reader = csv.reader(f)\n",
        "    ML_left = [row for row in reader]\n",
        "f.close()\n",
        "\n",
        "with open('/content/drive/MyDrive/GaitRect/GaitRect/GRF_F_ML_PRO_right.csv') as f:\n",
        "    reader = csv.reader(f)\n",
        "    ML_right = [row for row in reader]\n",
        "f.close()"
      ],
      "execution_count": 10,
      "outputs": []
    },
    {
      "cell_type": "code",
      "metadata": {
        "id": "VPXBon1M0dhB"
      },
      "source": [
        "with open('/content/drive/MyDrive/GaitRect/GaitRect/GRF_metadata.csv') as f:\n",
        "    reader = csv.reader(f)\n",
        "    metadata = [row for row in reader]\n",
        "f.close()\n",
        "\n",
        "meta_items = np.array(metadata, dtype=str)[0,::]\n",
        "metadata = np.array(metadata)[1:,::]"
      ],
      "execution_count": 11,
      "outputs": []
    },
    {
      "cell_type": "code",
      "metadata": {
        "colab": {
          "base_uri": "https://localhost:8080/"
        },
        "id": "o0d7XTWOGElr",
        "outputId": "81798bd4-1d68-4c65-b121-ba384ddea0a5"
      },
      "source": [
        "len(AP_left)\n",
        "np.array(AP_left).shape\n",
        "np.array(AP_left)[1:,::].shape"
      ],
      "execution_count": 12,
      "outputs": [
        {
          "output_type": "execute_result",
          "data": {
            "text/plain": [
              "(75732, 104)"
            ]
          },
          "metadata": {
            "tags": []
          },
          "execution_count": 12
        }
      ]
    },
    {
      "cell_type": "code",
      "metadata": {
        "id": "cDu3Fg_weaEV"
      },
      "source": [
        "# データそれぞれの一番目の文字列を除去し、数字だけにした\n",
        "V_right_items = np.array(V_right, dtype=str)[0,::]\n",
        "V_right = np.array(V_right)[1:,::]\n",
        "V_right = np.array(V_right, dtype=float)\n",
        "\n",
        "V_left_items = np.array(V_left, dtype=str)[0,::]\n",
        "V_left = np.array(V_left)[1:,::]\n",
        "V_left = np.array(V_left, dtype=float)\n",
        "\n",
        "AP_right_items = np.array(AP_right, dtype=str)[0,::]\n",
        "AP_right = np.array(AP_right)[1:,::]\n",
        "AP_right = np.array(AP_right, dtype=float)\n",
        "\n",
        "AP_left_items = np.array(AP_left, dtype=str)[0,::]\n",
        "AP_left = np.array(AP_left)[1:,::]\n",
        "AP_left = np.array(AP_left, dtype=float)\n",
        "\n",
        "ML_right_items = np.array(ML_right, dtype=str)[0,::]\n",
        "ML_right = np.array(ML_right)[1:,::]\n",
        "ML_right = np.array(ML_right, dtype=float)\n",
        "\n",
        "ML_left_items = np.array(ML_left, dtype=str)[0,::]\n",
        "ML_left = np.array(ML_left)[1:,::]\n",
        "ML_left = np.array(ML_left, dtype=float) # ML_left.shape (75732, 104)"
      ],
      "execution_count": 13,
      "outputs": []
    },
    {
      "cell_type": "code",
      "metadata": {
        "colab": {
          "base_uri": "https://localhost:8080/"
        },
        "id": "Srqy_zkYGlbG",
        "outputId": "2bcfd045-95b9-473b-f2ef-2960fb25ab65"
      },
      "source": [
        "AP_left.shape"
      ],
      "execution_count": 14,
      "outputs": [
        {
          "output_type": "execute_result",
          "data": {
            "text/plain": [
              "(75732, 104)"
            ]
          },
          "metadata": {
            "tags": []
          },
          "execution_count": 14
        }
      ]
    },
    {
      "cell_type": "code",
      "metadata": {
        "id": "vRHitCZu82Q5"
      },
      "source": [
        "meta_items\n",
        "SUBJECT_ID = 0\n",
        "SESSION_ID = 1\n",
        "CLASS_LABEL = 2\n",
        "CLASS_LABEL_DETAILED = 3\n",
        "SEX = 4\n",
        "AGE = 5\n",
        "HEIGHT = 6\n",
        "BODY_WEIGHT = 7\n",
        "BODY_MASS = 8\n",
        "SHOE_SIZE = 9\n",
        "AFFECTED_SIDE = 10\n",
        "SHOD_CONDITION = 11\n",
        "ORTHOPEDIC_INSOLE = 12\n",
        "SPEED = 13\n",
        "READMISSION = 14\n",
        "SESSION_TYPE = 15\n",
        "SESSION_DATE = 16\n",
        "TRAIN = 17\n",
        "TRAIN_BALANCED = 18\n",
        "TEST = 19"
      ],
      "execution_count": 15,
      "outputs": []
    },
    {
      "cell_type": "code",
      "metadata": {
        "id": "pZXJEjnx9OXq"
      },
      "source": [
        "metadata_len = len(metadata)"
      ],
      "execution_count": 16,
      "outputs": []
    },
    {
      "cell_type": "code",
      "metadata": {
        "id": "8VlT5ui9MxLi"
      },
      "source": [
        "# meta = np.array(meta, dytpe=float) str型や日付など変換できない列があるので、逐次floatに変換忘れない\n",
        "# metadataの前処理, 3(class_label_detail)と16(year.date)列目削除して\n",
        "temp1_1 = np.concatenate([metadata[::, SUBJECT_ID].reshape(metadata_len, 1), metadata[::, SESSION_ID].reshape(metadata_len, 1)], axis=1)\n",
        "temp1_2 = np.concatenate([metadata[::, CLASS_LABEL].reshape(metadata_len, 1), metadata[::, AFFECTED_SIDE].reshape(metadata_len, 1)], axis=1)\n",
        "temp1_3 = np.concatenate([metadata[::, TRAIN].reshape(metadata_len, 1), metadata[::, TEST].reshape(metadata_len, 1)], axis=1)\n",
        "temp2 = np.concatenate([temp1_1, temp1_2], axis=1)\n",
        "metadata = np.concatenate([temp2, temp1_3], axis=1)"
      ],
      "execution_count": 17,
      "outputs": []
    },
    {
      "cell_type": "code",
      "metadata": {
        "colab": {
          "base_uri": "https://localhost:8080/"
        },
        "id": "JhbZ6MGX0YU9",
        "outputId": "507bab15-3e51-4f77-aa82-b00756ea7f50"
      },
      "source": [
        "metadata.shape"
      ],
      "execution_count": 18,
      "outputs": [
        {
          "output_type": "execute_result",
          "data": {
            "text/plain": [
              "(8971, 6)"
            ]
          },
          "metadata": {
            "tags": []
          },
          "execution_count": 18
        }
      ]
    },
    {
      "cell_type": "code",
      "metadata": {
        "id": "TManHd15DK1i"
      },
      "source": [
        "# 2列目を5クラスに対応した数字に変換(HC=0, H=1, K=2, A=3, C=4)\n",
        "metadata = np.where(metadata=='HC', 0, metadata)\n",
        "metadata = np.where(metadata=='H', 1, metadata)\n",
        "metadata = np.where(metadata=='K', 2, metadata)\n",
        "metadata = np.where(metadata=='A', 3, metadata)\n",
        "metadata = np.where(metadata=='C', 4, metadata)"
      ],
      "execution_count": 19,
      "outputs": []
    },
    {
      "cell_type": "code",
      "metadata": {
        "colab": {
          "base_uri": "https://localhost:8080/"
        },
        "id": "iuFWRLwd2gFV",
        "outputId": "1a4a470d-3c5f-4694-e920-d09905940456"
      },
      "source": [
        "metadata.shape[1]"
      ],
      "execution_count": 20,
      "outputs": [
        {
          "output_type": "execute_result",
          "data": {
            "text/plain": [
              "6"
            ]
          },
          "metadata": {
            "tags": []
          },
          "execution_count": 20
        }
      ]
    },
    {
      "cell_type": "code",
      "metadata": {
        "id": "Ms_w4J7nmGeS"
      },
      "source": [
        "# V_left_and_meta = []\n",
        "# V_right_and_meta = []\n",
        "# AP_left_and_meta = []\n",
        "# AP_right_and_meta = []\n",
        "# ML_left_and_meta = []\n",
        "# ML_right_and_meta = []\n",
        "# リストはramを食いすぎるので、np.arrayを使うことにした\n",
        "\n",
        "TRIAL_num = len(AP_left)\n",
        "metadata_for_GRF = np.zeros([TRIAL_num, metadata.shape[1]])\n",
        "metadata_for_GRF[:,:] = np.nan # shape (8971, 6)\n",
        "\n",
        "for i in range(metadata.shape[0]):\n",
        "  index = np.array(np.where(AP_left[::, SESSION_ID] == int(metadata[i, SESSION_ID]))[0]) # 問題\n",
        "  index = np.array(index)\n",
        "  for k in index:\n",
        "    # from IPython.core.debugger import Pdb; Pdb().set_trace()\n",
        "    metadata_for_GRF[k, ::] = metadata[i, ::]\n"
      ],
      "execution_count": 21,
      "outputs": []
    },
    {
      "cell_type": "code",
      "metadata": {
        "id": "XO_03NIQAk4d"
      },
      "source": [
        "subject_id = 0\n",
        "session_id = 1\n",
        "class_label = 2\n",
        "affected_side = 3\n",
        "train = 4\n",
        "test = 5"
      ],
      "execution_count": 22,
      "outputs": []
    },
    {
      "cell_type": "code",
      "metadata": {
        "colab": {
          "base_uri": "https://localhost:8080/"
        },
        "id": "BuQa86TwFNKe",
        "outputId": "48b2efca-79d4-4805-c3ff-65b9a850ad79"
      },
      "source": [
        "TRIAL_num"
      ],
      "execution_count": 23,
      "outputs": [
        {
          "output_type": "execute_result",
          "data": {
            "text/plain": [
              "75732"
            ]
          },
          "metadata": {
            "tags": []
          },
          "execution_count": 23
        }
      ]
    },
    {
      "cell_type": "code",
      "metadata": {
        "colab": {
          "base_uri": "https://localhost:8080/"
        },
        "id": "iN8tMQiJ3G3u",
        "outputId": "0239b215-b596-49e1-cda1-afe4cc48fd83"
      },
      "source": [
        "metadata_for_GRF.shape"
      ],
      "execution_count": 24,
      "outputs": [
        {
          "output_type": "execute_result",
          "data": {
            "text/plain": [
              "(75732, 6)"
            ]
          },
          "metadata": {
            "tags": []
          },
          "execution_count": 24
        }
      ]
    },
    {
      "cell_type": "code",
      "metadata": {
        "colab": {
          "base_uri": "https://localhost:8080/"
        },
        "id": "UemZHZ-MDO5N",
        "outputId": "056f7858-df8d-4e35-b7a1-671fee4a479d"
      },
      "source": [
        "metadata_for_GRF[::, class_label]"
      ],
      "execution_count": 25,
      "outputs": [
        {
          "output_type": "execute_result",
          "data": {
            "text/plain": [
              "array([4., 4., 4., ..., 0., 0., 0.])"
            ]
          },
          "metadata": {
            "tags": []
          },
          "execution_count": 25
        }
      ]
    },
    {
      "cell_type": "code",
      "metadata": {
        "colab": {
          "base_uri": "https://localhost:8080/"
        },
        "id": "tGqgCzoPukjx",
        "outputId": "20f2f581-101f-4579-dc46-36eb37b88ff5"
      },
      "source": [
        "print(np.sum(np.isnan(metadata_for_GRF))) # HCの場合、Affected_sideはNaN\n",
        "print(np.array(np.where(metadata_for_GRF[::, class_label] == 0)).shape)\n"
      ],
      "execution_count": 26,
      "outputs": [
        {
          "output_type": "stream",
          "text": [
            "7755\n",
            "(1, 7755)\n"
          ],
          "name": "stdout"
        }
      ]
    },
    {
      "cell_type": "code",
      "metadata": {
        "id": "-gA7sODmJ8NP"
      },
      "source": [
        "# GRFをV,AP,MLの順に横に並べる\n",
        "# AFFECTED_SIDEによって横に並ぶ順番を決める\n",
        "# trainとtestデータにわける\n",
        "\n",
        "V_left = V_left[::,3::]\n",
        "V_right = V_right[::,3::]\n",
        "AP_left = AP_left[::,3::]\n",
        "AP_right = AP_right[::,3::]\n",
        "ML_left = ML_left[::,3::]\n",
        "ML_right = ML_right[::,3::]\n",
        "\n",
        "V_left = V_left.reshape(V_left.shape[0], 1, V_left.shape[1])\n",
        "V_right = V_right.reshape(V_right.shape[0], 1, V_right.shape[1])\n",
        "AP_left = AP_left.reshape(AP_left.shape[0], 1, AP_left.shape[1])\n",
        "AP_right = AP_right.reshape(AP_right.shape[0], 1, AP_right.shape[1])\n",
        "ML_left = ML_left.reshape(ML_left.shape[0], 1, ML_left.shape[1])\n",
        "ML_right = ML_right.reshape(ML_right.shape[0], 1, ML_right.shape[1])"
      ],
      "execution_count": 27,
      "outputs": []
    },
    {
      "cell_type": "code",
      "metadata": {
        "id": "00e6piioTztW"
      },
      "source": [
        "# データのみ\n",
        "right_GRF = np.concatenate([ML_right, AP_right, V_right], axis=2)\n",
        "left_GRF = np.concatenate([ML_left, AP_left, V_left], axis=2)"
      ],
      "execution_count": 28,
      "outputs": []
    },
    {
      "cell_type": "code",
      "metadata": {
        "colab": {
          "base_uri": "https://localhost:8080/"
        },
        "id": "XKk1RlJlQfNM",
        "outputId": "bf5c3501-9cf8-4ffe-a912-df362f4cc859"
      },
      "source": [
        "print(right_GRF.shape)\n",
        "right_GRF[0].shape"
      ],
      "execution_count": 29,
      "outputs": [
        {
          "output_type": "stream",
          "text": [
            "(75732, 1, 303)\n"
          ],
          "name": "stdout"
        },
        {
          "output_type": "execute_result",
          "data": {
            "text/plain": [
              "(1, 303)"
            ]
          },
          "metadata": {
            "tags": []
          },
          "execution_count": 29
        }
      ]
    },
    {
      "cell_type": "code",
      "metadata": {
        "colab": {
          "base_uri": "https://localhost:8080/"
        },
        "id": "GbuG6quxUfWi",
        "outputId": "6747ed90-fc1d-4a97-9759-d672338a26ee"
      },
      "source": [
        "np.concatenate([right_GRF[0], left_GRF[0]], axis=1).shape"
      ],
      "execution_count": 30,
      "outputs": [
        {
          "output_type": "execute_result",
          "data": {
            "text/plain": [
              "(1, 606)"
            ]
          },
          "metadata": {
            "tags": []
          },
          "execution_count": 30
        }
      ]
    },
    {
      "cell_type": "code",
      "metadata": {
        "id": "3c3c0cPuUbLj"
      },
      "source": [
        "# AFFECTED_SIDEによって横に並ぶ順番を決める\n",
        "import random\n",
        "\n",
        "GRF = []\n",
        "for i in range(TRIAL_num):\n",
        "  if metadata_for_GRF[i, class_label] > 0:    # patient\n",
        "    if metadata_for_GRF[i, affected_side] == 0: # affected_leg is left\n",
        "      # from IPython.core.debugger import Pdb; Pdb().set_trace()   \n",
        "      GRF.append(np.concatenate([left_GRF[i], right_GRF[i]], axis=1))\n",
        "    elif metadata_for_GRF[i, affected_side] == 1:  # affected_leg is right\n",
        "      GRF.append(np.concatenate([right_GRF[i], left_GRF[i]], axis=1))\n",
        "    else: \n",
        "      # from IPython.core.debugger import Pdb; Pdb().set_trace()                                 # affected_leg is both\n",
        "      lst = []\n",
        "      lst.append(right_GRF[i])\n",
        "      lst.append(left_GRF[i])\n",
        "      random.shuffle(lst)\n",
        "      GRF.append(np.concatenate([np.array(lst[0]), np.array(lst[1])], axis=1)) \n",
        "  else:                                    # healthy control\n",
        "    lst = []\n",
        "    lst.append(right_GRF[0])\n",
        "    lst.append(left_GRF[0])\n",
        "    random.shuffle(lst)\n",
        "    GRF.append(np.concatenate([np.array(lst[0]), np.array(lst[1])], axis=1)) "
      ],
      "execution_count": 31,
      "outputs": []
    },
    {
      "cell_type": "code",
      "metadata": {
        "colab": {
          "base_uri": "https://localhost:8080/"
        },
        "id": "20FFXfQFqInJ",
        "outputId": "3b78b66f-1381-49d1-eebd-66fafec022e7"
      },
      "source": [
        "print(np.array(GRF).shape)\n",
        "GRF = np.array(GRF)\n",
        "print(np.array(GRF).shape)"
      ],
      "execution_count": 32,
      "outputs": [
        {
          "output_type": "stream",
          "text": [
            "(75732, 1, 606)\n",
            "(75732, 1, 606)\n"
          ],
          "name": "stdout"
        }
      ]
    },
    {
      "cell_type": "code",
      "metadata": {
        "id": "zNwUIy5fsXtu"
      },
      "source": [
        "# trainとtestデータにわける\n",
        "# この時点では、まだGRFとV_PRO_right_and_metaの順番は同じはず\n",
        "# なのでこの時点で対応する正解データも作らないといけない\n",
        "# 5クラス分類(HC vs H vs K vs A vs C)\n",
        "train_data = []\n",
        "train_data_label = []\n",
        "test_data = []\n",
        "test_data_label = []\n",
        "for i in range(TRIAL_num):\n",
        "  if metadata_for_GRF[i, test] == 1: # testデータかどうか\n",
        "    test_data.append(GRF[i])\n",
        "    test_data_label.append(metadata_for_GRF[i, class_label])\n",
        "  else:\n",
        "    train_data.append(GRF[i])\n",
        "    train_data_label.append(metadata_for_GRF[i, class_label])"
      ],
      "execution_count": 33,
      "outputs": []
    },
    {
      "cell_type": "code",
      "metadata": {
        "colab": {
          "base_uri": "https://localhost:8080/"
        },
        "id": "DfQv0OmVZKRp",
        "outputId": "87c69dc6-f784-4b2c-848b-af112b50d598"
      },
      "source": [
        "# ラベルあっているかチェック\n",
        "print(metadata_for_GRF[0, class_label])\n",
        "print(train_data_label[0])"
      ],
      "execution_count": 34,
      "outputs": [
        {
          "output_type": "stream",
          "text": [
            "4.0\n",
            "4.0\n"
          ],
          "name": "stdout"
        }
      ]
    },
    {
      "cell_type": "code",
      "metadata": {
        "colab": {
          "base_uri": "https://localhost:8080/"
        },
        "id": "-k0dzNPWaSGv",
        "outputId": "cdbdbbfa-8186-4204-99e3-93fdf3453289"
      },
      "source": [
        "print(np.array(test_data).shape)\n",
        "print(np.array(train_data).shape)"
      ],
      "execution_count": 35,
      "outputs": [
        {
          "output_type": "stream",
          "text": [
            "(22987, 1, 606)\n",
            "(52745, 1, 606)\n"
          ],
          "name": "stdout"
        }
      ]
    },
    {
      "cell_type": "code",
      "metadata": {
        "id": "UVNi9PiO4JNr"
      },
      "source": [
        "import pickle\n",
        "\n",
        "with open(\"train_data.pickle\", mode=\"wb\") as f:\n",
        "   pickle.dump(train_data, f)\n",
        "\n",
        "with open(\"test_data.pickle\", mode=\"wb\") as f:\n",
        "   pickle.dump(test_data, f)\n",
        "\n",
        "with open(\"train_data_label.pickle\", mode=\"wb\") as f:\n",
        "   pickle.dump(train_data_label, f)\n",
        "\n",
        "with open(\"test_data_label.pickle\", mode=\"wb\") as f:\n",
        "   pickle.dump(test_data_label, f)\n",
        "\n",
        "with open(\"train_data.pickle\", mode=\"rb\") as f:\n",
        "   train = pickle.load(f)\n",
        "\n",
        "with open(\"test_data.pickle\", mode=\"rb\") as f:\n",
        "   test = pickle.load(f)\n",
        "\n",
        "with open(\"train_data_label.pickle\", mode=\"rb\") as f:\n",
        "   train_label = pickle.load(f)\n",
        "\n",
        "with open(\"test_data_label.pickle\", mode=\"rb\") as f:\n",
        "   test_label = pickle.load(f)"
      ],
      "execution_count": 36,
      "outputs": []
    },
    {
      "cell_type": "code",
      "metadata": {
        "id": "Sy0LlP5VGKrE"
      },
      "source": [
        "X = np.array(train)\n",
        "y = np.array(train_label)"
      ],
      "execution_count": 37,
      "outputs": []
    },
    {
      "cell_type": "code",
      "metadata": {
        "colab": {
          "base_uri": "https://localhost:8080/"
        },
        "id": "VBQp7qm8Z4Jw",
        "outputId": "aa0e8923-99f2-40d5-9bd1-b3f5f553e851"
      },
      "source": [
        "print(X.shape)\n",
        "print(y.shape)"
      ],
      "execution_count": 38,
      "outputs": [
        {
          "output_type": "stream",
          "text": [
            "(52745, 1, 606)\n",
            "(52745,)\n"
          ],
          "name": "stdout"
        }
      ]
    },
    {
      "cell_type": "code",
      "metadata": {
        "colab": {
          "base_uri": "https://localhost:8080/"
        },
        "id": "LVluggPsbSDi",
        "outputId": "38520d06-7f67-4f0b-ccd9-80622623e6dc"
      },
      "source": [
        "X.shape[1:]"
      ],
      "execution_count": 39,
      "outputs": [
        {
          "output_type": "execute_result",
          "data": {
            "text/plain": [
              "(1, 606)"
            ]
          },
          "metadata": {
            "tags": []
          },
          "execution_count": 39
        }
      ]
    },
    {
      "cell_type": "code",
      "metadata": {
        "colab": {
          "base_uri": "https://localhost:8080/",
          "height": 281
        },
        "id": "nCuA96Kbz_8a",
        "outputId": "15772194-7078-4d90-9589-13f3fca13686"
      },
      "source": [
        "import matplotlib.pyplot as plt\n",
        "plt.title('GRF')\n",
        "plt.grid(True)\n",
        "\n",
        "j = range(101)\n",
        "# plt.plot(j, X[0, 0, 0:101], label=\"vGRF\")\n",
        "\n",
        "# plt.plot(j, X[0, 1, 0:101], label='apGRF')\n",
        "\n",
        "# plt.plot(j, X[0, 2, 0:101], label='mlGRF')\n",
        "\n",
        "plt.plot(j, X[0, 0, :101], label=\"vGRF\")\n",
        "\n",
        "plt.plot(j, X[0, 0, 102:203], label='apGRF')\n",
        "\n",
        "plt.plot(j, X[0, 0, 203:304], label='mlGRF')\n",
        "\n",
        "\n",
        "plt.legend(loc='best')\n",
        "plt.show()"
      ],
      "execution_count": 40,
      "outputs": [
        {
          "output_type": "display_data",
          "data": {
            "image/png": "[encoded data removed]",
            "text/plain": [
              "<Figure size 432x288 with 1 Axes>"
            ]
          },
          "metadata": {
            "tags": [],
            "needs_background": "light"
          }
        }
      ]
    },
    {
      "cell_type": "code",
      "metadata": {
        "colab": {
          "base_uri": "https://localhost:8080/"
        },
        "id": "vj586hMdA__G",
        "outputId": "42abad2c-89a7-4704-f9af-c8b6d960ab98"
      },
      "source": [
        "np.reshape(X, (-1, 606, 1)).shape"
      ],
      "execution_count": 41,
      "outputs": [
        {
          "output_type": "execute_result",
          "data": {
            "text/plain": [
              "(52745, 606, 1)"
            ]
          },
          "metadata": {
            "tags": []
          },
          "execution_count": 41
        }
      ]
    },
    {
      "cell_type": "code",
      "metadata": {
        "id": "MdXgcprG6dXD",
        "colab": {
          "base_uri": "https://localhost:8080/"
        },
        "outputId": "bd9bda14-a7ea-4092-cc32-3cddde8523eb"
      },
      "source": [
        "import tensorflow as tf\n",
        "from tensorflow.keras import optimizers\n",
        "# from tensorflow.keras.preprocessing.image import ImageDataGenerator\n",
        "from tensorflow.keras.models import Sequential\n",
        "from tensorflow.keras.layers import Dense, Dropout, Activation, Flatten\n",
        "from tensorflow.keras.layers import Conv1D, MaxPooling1D, Input, Reshape\n",
        "# more info on callbakcs: https://keras.io/callbacks/ model saver is cool too.\n",
        "from tensorflow.keras.callbacks import TensorBoard, LearningRateScheduler\n",
        "import time\n",
        "import math\n",
        "\n",
        "\n",
        "\n",
        "NAME = \"HC-vs-4class_Patients-CNN\"\n",
        "\n",
        "model = Sequential()\n",
        "\n",
        "stddeviation = math.pow(606, -0.5)\n",
        "initializer = tf.keras.initializers.RandomNormal(mean=0, stddev=stddeviation)\n",
        "\n",
        "X_dammy = np.reshape(X, (-1, 606, 1))\n",
        "\n",
        "model.add(Conv1D(24, kernel_size=8 , kernel_initializer=initializer, strides=2, input_shape=(606, 1)))\n",
        "model.add(Activation('relu'))\n",
        "# model.add(MaxPooling1D(pool_size=2))\n",
        "\n",
        "model.add(Conv1D(24, kernel_size=8, strides=2))\n",
        "model.add(Activation('relu'))\n",
        "# model.add(MaxPooling1D(pool_size=2))\n",
        "\n",
        "model.add(Conv1D(48, kernel_size=6, strides=3))\n",
        "model.add(Activation('relu'))\n",
        "# model.add(MaxPooling1D(pool_size=3))\n",
        "\n",
        "model.add(Flatten())  # this converts our 3D feature maps to 1D feature vectors\n",
        "\n",
        "model.add(Dense(5))\n",
        "model.add(Activation('softmax'))\n",
        "\n",
        "tensorboard = TensorBoard(log_dir=\"logs/{}\".format(NAME))\n",
        "\n",
        "# 学習率\n",
        "# def step_decay(iteration):\n",
        "#     x = 5e-3\n",
        "#     if e-4 < iteration < e-3: \n",
        "#       x = 0.01\n",
        "#     if iteration : \n",
        "#       x = 0.001\n",
        "#     return x\n",
        "# lr_decay = LearningRateScheduler(step_decay)\n",
        "\n",
        "sgd = optimizers.SGD(lr=5e-3)\n",
        "model.compile(loss='sparse_categorical_crossentropy',\n",
        "              optimizer= sgd,\n",
        "              metrics=['accuracy'],\n",
        "              )\n",
        "model.summary()\n",
        "model.fit(X_dammy, y,\n",
        "          batch_size=5,\n",
        "          epochs=30,\n",
        "          validation_split=0.3,\n",
        "          callbacks=[tensorboard])\n",
        "\n"
      ],
      "execution_count": 50,
      "outputs": [
        {
          "output_type": "stream",
          "text": [
            "Model: \"sequential_8\"\n",
            "_________________________________________________________________\n",
            "Layer (type)                 Output Shape              Param #   \n",
            "=================================================================\n",
            "conv1d_19 (Conv1D)           (None, 300, 24)           216       \n",
            "_________________________________________________________________\n",
            "activation_24 (Activation)   (None, 300, 24)           0         \n",
            "_________________________________________________________________\n",
            "conv1d_20 (Conv1D)           (None, 147, 24)           4632      \n",
            "_________________________________________________________________\n",
            "activation_25 (Activation)   (None, 147, 24)           0         \n",
            "_________________________________________________________________\n",
            "conv1d_21 (Conv1D)           (None, 48, 48)            6960      \n",
            "_________________________________________________________________\n",
            "activation_26 (Activation)   (None, 48, 48)            0         \n",
            "_________________________________________________________________\n",
            "flatten_6 (Flatten)          (None, 2304)              0         \n",
            "_________________________________________________________________\n",
            "dense_6 (Dense)              (None, 5)                 11525     \n",
            "_________________________________________________________________\n",
            "activation_27 (Activation)   (None, 5)                 0         \n",
            "=================================================================\n",
            "Total params: 23,333\n",
            "Trainable params: 23,333\n",
            "Non-trainable params: 0\n",
            "_________________________________________________________________\n",
            "Epoch 1/30\n",
            "   1/7385 [..............................] - ETA: 2s - loss: 1.5959 - accuracy: 0.6000WARNING:tensorflow:Callbacks method `on_train_batch_end` is slow compared to the batch time (batch time: 0.0052s vs `on_train_batch_end` time: 0.0405s). Check your callbacks.\n",
            "7385/7385 [==============================] - 27s 4ms/step - loss: 1.4083 - accuracy: 0.3553 - val_loss: 1.1452 - val_accuracy: 0.5607\n",
            "Epoch 2/30\n",
            "7385/7385 [==============================] - 26s 4ms/step - loss: 1.0668 - accuracy: 0.5290 - val_loss: 0.9288 - val_accuracy: 0.5587\n",
            "Epoch 3/30\n",
            "7385/7385 [==============================] - 26s 4ms/step - loss: 0.9546 - accuracy: 0.5810 - val_loss: 0.8301 - val_accuracy: 0.6340\n",
            "Epoch 4/30\n",
            "7385/7385 [==============================] - 28s 4ms/step - loss: 0.9027 - accuracy: 0.6121 - val_loss: 0.8409 - val_accuracy: 0.6143\n",
            "Epoch 5/30\n",
            "7385/7385 [==============================] - 27s 4ms/step - loss: 0.8685 - accuracy: 0.6265 - val_loss: 0.7792 - val_accuracy: 0.6530\n",
            "Epoch 6/30\n",
            "7385/7385 [==============================] - 26s 4ms/step - loss: 0.8417 - accuracy: 0.6422 - val_loss: 1.0912 - val_accuracy: 0.5058\n",
            "Epoch 7/30\n",
            "7385/7385 [==============================] - 26s 3ms/step - loss: 0.8203 - accuracy: 0.6501 - val_loss: 0.9332 - val_accuracy: 0.5973\n",
            "Epoch 8/30\n",
            "7385/7385 [==============================] - 26s 4ms/step - loss: 0.8069 - accuracy: 0.6596 - val_loss: 0.8574 - val_accuracy: 0.6129\n",
            "Epoch 9/30\n",
            "7385/7385 [==============================] - 26s 4ms/step - loss: 0.7948 - accuracy: 0.6671 - val_loss: 0.7716 - val_accuracy: 0.6550\n",
            "Epoch 10/30\n",
            "7385/7385 [==============================] - 26s 4ms/step - loss: 0.7836 - accuracy: 0.6740 - val_loss: 0.7595 - val_accuracy: 0.6872\n",
            "Epoch 11/30\n",
            "7385/7385 [==============================] - 26s 4ms/step - loss: 0.7751 - accuracy: 0.6768 - val_loss: 0.7669 - val_accuracy: 0.6644\n",
            "Epoch 12/30\n",
            "7385/7385 [==============================] - 26s 4ms/step - loss: 0.7661 - accuracy: 0.6814 - val_loss: 0.7526 - val_accuracy: 0.6948\n",
            "Epoch 13/30\n",
            "7385/7385 [==============================] - 26s 4ms/step - loss: 0.7561 - accuracy: 0.6866 - val_loss: 0.8494 - val_accuracy: 0.6020\n",
            "Epoch 14/30\n",
            "7385/7385 [==============================] - 26s 4ms/step - loss: 0.7486 - accuracy: 0.6894 - val_loss: 0.7573 - val_accuracy: 0.6689\n",
            "Epoch 15/30\n",
            "7385/7385 [==============================] - 26s 4ms/step - loss: 0.7419 - accuracy: 0.6919 - val_loss: 0.7592 - val_accuracy: 0.6667\n",
            "Epoch 16/30\n",
            "7385/7385 [==============================] - 27s 4ms/step - loss: 0.7358 - accuracy: 0.6972 - val_loss: 0.7372 - val_accuracy: 0.6760\n",
            "Epoch 17/30\n",
            "7385/7385 [==============================] - 27s 4ms/step - loss: 0.7259 - accuracy: 0.7014 - val_loss: 0.8155 - val_accuracy: 0.6373\n",
            "Epoch 18/30\n",
            "7385/7385 [==============================] - 28s 4ms/step - loss: 0.7205 - accuracy: 0.7042 - val_loss: 0.8277 - val_accuracy: 0.6254\n",
            "Epoch 19/30\n",
            "7385/7385 [==============================] - 28s 4ms/step - loss: 0.7125 - accuracy: 0.7090 - val_loss: 0.7191 - val_accuracy: 0.6917\n",
            "Epoch 20/30\n",
            "7385/7385 [==============================] - 27s 4ms/step - loss: 0.7071 - accuracy: 0.7116 - val_loss: 0.7540 - val_accuracy: 0.6862\n",
            "Epoch 21/30\n",
            "7385/7385 [==============================] - 28s 4ms/step - loss: 0.6986 - accuracy: 0.7176 - val_loss: 0.7160 - val_accuracy: 0.7013\n",
            "Epoch 22/30\n",
            "7385/7385 [==============================] - 28s 4ms/step - loss: 0.6934 - accuracy: 0.7160 - val_loss: 0.7234 - val_accuracy: 0.7048\n",
            "Epoch 23/30\n",
            "7385/7385 [==============================] - 27s 4ms/step - loss: 0.6856 - accuracy: 0.7227 - val_loss: 0.7461 - val_accuracy: 0.6906\n",
            "Epoch 24/30\n",
            "7385/7385 [==============================] - 27s 4ms/step - loss: 0.6809 - accuracy: 0.7241 - val_loss: 0.7300 - val_accuracy: 0.6928\n",
            "Epoch 25/30\n",
            "7385/7385 [==============================] - 26s 4ms/step - loss: 0.6736 - accuracy: 0.7258 - val_loss: 0.7214 - val_accuracy: 0.6927\n",
            "Epoch 26/30\n",
            "7385/7385 [==============================] - 27s 4ms/step - loss: 0.6712 - accuracy: 0.7289 - val_loss: 0.8106 - val_accuracy: 0.6514\n",
            "Epoch 27/30\n",
            "7385/7385 [==============================] - 28s 4ms/step - loss: 0.6635 - accuracy: 0.7328 - val_loss: 0.8084 - val_accuracy: 0.6615\n",
            "Epoch 28/30\n",
            "7385/7385 [==============================] - 27s 4ms/step - loss: 0.6586 - accuracy: 0.7337 - val_loss: 0.8681 - val_accuracy: 0.6289\n",
            "Epoch 29/30\n",
            "7385/7385 [==============================] - 27s 4ms/step - loss: 0.6530 - accuracy: 0.7386 - val_loss: 0.7891 - val_accuracy: 0.6681\n",
            "Epoch 30/30\n",
            "7385/7385 [==============================] - 26s 4ms/step - loss: 0.6465 - accuracy: 0.7407 - val_loss: 0.7756 - val_accuracy: 0.6718\n"
          ],
          "name": "stdout"
        },
        {
          "output_type": "execute_result",
          "data": {
            "text/plain": [
              "<tensorflow.python.keras.callbacks.History at 0x7fddae6e2860>"
            ]
          },
          "metadata": {
            "tags": []
          },
          "execution_count": 50
        }
      ]
    }
  ]
}