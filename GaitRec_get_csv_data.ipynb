{
  "nbformat": 4,
  "nbformat_minor": 0,
  "metadata": {
    "colab": {
      "name": "GaitRec_get_csv_data.ipynb",
      "provenance": [],
      "mount_file_id": "1ijdXNpxuZHp7dm0zBtwiR-ocqDlg6IYg",
      "authorship_tag": "ABX9TyNNM7DWzxXFP6A6CD9JNkUI",
      "include_colab_link": true
    },
    "kernelspec": {
      "name": "python3",
      "display_name": "Python 3"
    },
    "accelerator": "GPU"
  },
  "cells": [
    {
      "cell_type": "markdown",
      "metadata": {
        "id": "view-in-github",
        "colab_type": "text"
      },
      "source": [
        "<a href=\"https://colab.research.google.com/github/is0280fp/google_colab/blob/main/GaitRec_get_csv_data.ipynb\" target=\"_parent\"><img src=\"https://colab.research.google.com/assets/colab-badge.svg\" alt=\"Open In Colab\"/></a>"
      ]
    },
    {
      "cell_type": "code",
      "metadata": {
        "id": "Lh16VKnfw0Ud"
      },
      "source": [
        "import csv\n",
        "\n",
        "# GRF_COP_AP_RAW_left = open('/content/drive/MyDrive/GaitRect.zip (Unzipped Files)/GaitRect/GRF_COP_AP_RAW_left.csv', encoding='utf-8')\n",
        "# GRF_COP_AP_RAW_left = csv.DictReader(GRF_COP_AP_RAW_left)\n",
        "\n",
        "# GRF_COP_AP_RAW_left = open('/content/drive/MyDrive/GaitRect.zip (Unzipped Files)/GaitRect/GRF_COP_AP_RAW_left.csv', encoding='utf-8')\n",
        "# GRF_COP_AP_RAW_left = csv.DictReader(GRF_COP_AP_RAW_left)\n",
        "\n",
        "# GRF_COP_AP_RAW_right = open('/content/drive/MyDrive/GaitRect.zip (Unzipped Files)/GaitRect/GRF_COP_AP_RAW_right.csv', encoding='utf-8')\n",
        "# GRF_COP_AP_RAW_right = csv.DictReader(GRF_COP_AP_RAW_right)\n",
        "\n",
        "# GRF_COP_ML_RAW_left = open('/content/drive/MyDrive/GaitRect.zip (Unzipped Files)/GaitRect/GRF_COP_ML_RAW_left.csv', encoding='utf-8')\n",
        "# GRF_COP_ML_RAW_left = csv.DictReader(GRF_COP_ML_RAW_left)\n",
        "\n",
        "# GRF_COP_ML_RAW_right = open('/content/drive/MyDrive/GaitRect.zip (Unzipped Files)/GaitRect/GRF_COP_ML_RAW_right.csv', encoding='utf-8')\n",
        "# GRF_COP_ML_RAW_right = csv.DictReader(GRF_COP_ML_RAW_right)\n",
        "\n",
        "# GRF_F_AP_RAW_left = open('/content/drive/MyDrive/GaitRect.zip (Unzipped Files)/GaitRect/GRF_F_AP_RAW_left.csv', encoding='utf-8')\n",
        "# GRF_F_AP_RAW_left = csv.DictReader(GRF_F_AP_RAW_left)\n",
        "\n",
        "# GRF_F_AP_RAW_right = open('/content/drive/MyDrive/GaitRect.zip (Unzipped Files)/GaitRect/GRF_F_AP_RAW_right.csv', encoding='utf-8')\n",
        "# GRF_F_AP_RAW_right = csv.DictReader(GRF_F_AP_RAW_right)\n",
        "\n",
        "# GRF_F_AP_RAW_left = open('/content/drive/MyDrive/GaitRect.zip (Unzipped Files)/GaitRect/GRF_F_AP_RAW_left.csv', encoding='utf-8')\n",
        "# GRF_F_AP_RAW_left = csv.DictReader(GRF_F_AP_RAW_left)\n",
        "\n",
        "# GRF_F_AP_RAW_right = open('/content/drive/MyDrive/GaitRect.zip (Unzipped Files)/GaitRect/GRF_F_AP_RAW_right.csv', encoding='utf-8')\n",
        "# GRF_F_AP_RAW_right = csv.DictReader(GRF_F_AP_RAW_right)\n",
        "\n",
        "# GRF_F_ML_RAW_left = open('/content/drive/MyDrive/GaitRect.zip (Unzipped Files)/GaitRect/GRF_F_ML_RAW_left.csv', encoding='utf-8')\n",
        "# GRF_F_ML_RAW_left = csv.DictReader(GRF_F_ML_RAW_left)\n",
        "\n",
        "# GRF_F_ML_RAW_right = open('/content/drive/MyDrive/GaitRect.zip (Unzipped Files)/GaitRect/GRF_F_ML_RAW_right.csv', encoding='utf-8')\n",
        "# GRF_F_ML_RAW_right = csv.DictReader(GRF_F_ML_RAW_right)\n",
        "\n",
        "# GRF_F_V_RAW_left = open('/content/drive/MyDrive/GaitRect.zip (Unzipped Files)/GaitRect/GRF_F_V_RAW_left.csv', encoding='utf-8')\n",
        "# GRF_F_V_RAW_left = csv.DictReader(GRF_F_V_RAW_left)\n",
        "\n",
        "# GRF_F_V_RAW_right = open('/content/drive/MyDrive/GaitRect.zip (Unzipped Files)/GaitRect/GRF_F_V_RAW_right.csv', encoding='utf-8')\n",
        "# GRF_F_V_RAW_right = csv.DictReader(GRF_F_V_RAW_right)\n",
        "\n",
        "# COP_AP_PRO_left = open('/content/drive/MyDrive/GaitRect.zip (Unzipped Files)/GaitRect/GRF_COP_AP_PRO_left.csv', encoding='utf-8')\n",
        "# COP_AP_PRO_left = csv.DictReader(COP_AP_PRO_left)\n",
        "\n",
        "# COP_AP_PRO_right = open('/content/drive/MyDrive/GaitRect.zip (Unzipped Files)/GaitRect/GRF_COP_AP_PRO_right.csv', encoding='utf-8')\n",
        "# COP_AP_PRO_right = csv.DictReader(COP_AP_PRO_right)\n",
        "\n",
        "# COP_ML_PRO_left = open('/content/drive/MyDrive/GaitRect.zip (Unzipped Files)/GaitRect/GRF_COP_ML_PRO_left.csv', encoding='utf-8')\n",
        "# COP_ML_PRO_left = csv.DictReader(COP_ML_PRO_left)\n",
        "\n",
        "# COP_ML_PRO_right = open('/content/drive/MyDrive/GaitRect.zip (Unzipped Files)/GaitRect/GRF_COP_ML_PRO_right.csv', encoding='utf-8')\n",
        "# COP_ML_PRO_right = csv.DictReader(COP_ML_PRO_right)\n",
        "\n",
        "F_AP_PRO_left = open('/content/drive/MyDrive/GaitRect.zip (Unzipped Files)/GaitRect/GRF_F_AP_PRO_left.csv', encoding='utf-8')\n",
        "F_AP_PRO_left = csv.DictReader(F_AP_PRO_left)\n",
        "\n",
        "F_AP_PRO_right = open('/content/drive/MyDrive/GaitRect.zip (Unzipped Files)/GaitRect/GRF_F_AP_PRO_right.csv', encoding='utf-8')\n",
        "F_AP_PRO_right = csv.DictReader(F_AP_PRO_right)\n",
        "\n",
        "F_ML_PRO_left = open('/content/drive/MyDrive/GaitRect.zip (Unzipped Files)/GaitRect/GRF_F_ML_PRO_left.csv', encoding='utf-8')\n",
        "F_ML_PRO_left = csv.DictReader(F_ML_PRO_left)\n",
        "\n",
        "F_ML_PRO_right = open('/content/drive/MyDrive/GaitRect.zip (Unzipped Files)/GaitRect/GRF_F_ML_PRO_right.csv', encoding='utf-8')\n",
        "F_ML_PRO_right = csv.DictReader(F_ML_PRO_right)\n",
        "\n",
        "F_V_PRO_left = open('/content/drive/MyDrive/GaitRect.zip (Unzipped Files)/GaitRect/GRF_F_V_PRO_left.csv', encoding='utf-8')\n",
        "F_V_PRO_left = csv.DictReader(F_V_PRO_left)\n",
        "\n",
        "F_V_PRO_right = open('/content/drive/MyDrive/GaitRect.zip (Unzipped Files)/GaitRect/GRF_F_V_PRO_right.csv', encoding='utf-8')\n",
        "F_V_PRO_right = csv.DictReader(F_V_PRO_right)\n",
        "\n",
        "metadata = open('/content/drive/MyDrive/GaitRect.zip (Unzipped Files)/GaitRect/GRF_metadata.csv', encoding='utf-8')\n",
        "metadata = csv.DictReader(metadata)\n"
      ],
      "execution_count": null,
      "outputs": []
    },
    {
      "cell_type": "markdown",
      "metadata": {
        "id": "QcU3mryH8xB1"
      },
      "source": [
        ""
      ]
    }
  ]
}