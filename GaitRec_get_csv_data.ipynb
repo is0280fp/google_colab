{
  "nbformat": 4,
  "nbformat_minor": 0,
  "metadata": {
    "colab": {
      "name": "GaitRec_get_csv_data.ipynb",
      "provenance": [],
      "collapsed_sections": [],
      "mount_file_id": "1ijdXNpxuZHp7dm0zBtwiR-ocqDlg6IYg",
      "authorship_tag": "ABX9TyNQofxAFO4RzDl1R/fmObtr",
      "include_colab_link": true
    },
    "kernelspec": {
      "name": "python3",
      "display_name": "Python 3"
    }
  },
  "cells": [
    {
      "cell_type": "markdown",
      "metadata": {
        "id": "view-in-github",
        "colab_type": "text"
      },
      "source": [
        "<a href=\"https://colab.research.google.com/github/is0280fp/google_colab/blob/main/GaitRec_get_csv_data.ipynb\" target=\"_parent\"><img src=\"https://colab.research.google.com/assets/colab-badge.svg\" alt=\"Open In Colab\"/></a>"
      ]
    },
    {
      "cell_type": "code",
      "metadata": {
        "id": "Lh16VKnfw0Ud"
      },
      "source": [
        "import csv\n",
        "import tensorflow as tf\n",
        "import functools\n",
        "import numpy as np\n",
        "\n",
        "# from IPython.core.debugger import Pdb; Pdb().set_trace()\n",
        "\n",
        "# F_AP_PRO_left = open('/content/drive/MyDrive/GaitRect/GaitRect/GRF_F_AP_PRO_left.csv', encoding='utf-8')\n",
        "# F_AP_PRO_left = csv.DictReader(F_AP_PRO_left)\n",
        "\n",
        "# F_AP_PRO_right = open('/content/drive/MyDrive/GaitRect/GaitRect/GRF_F_AP_PRO_right.csv', encoding='utf-8')\n",
        "# F_AP_PRO_right = csv.DictReader(F_AP_PRO_right)\n",
        "\n",
        "# F_ML_PRO_left = open('/content/drive/MyDrive/GaitRect/GaitRect/GRF_F_ML_PRO_left.csv', encoding='utf-8')\n",
        "# F_ML_PRO_left = csv.DictReader(F_ML_PRO_left)\n",
        "\n",
        "# F_ML_PRO_right = open('/content/drive/MyDrive/GaitRect/GaitRect/GRF_F_ML_PRO_right.csv', encoding='utf-8')\n",
        "# F_ML_PRO_right = csv.DictReader(F_ML_PRO_right)\n",
        "\n",
        "# F_V_PRO_left = open('/content/drive/MyDrive/GaitRect/GaitRect/GRF_F_V_PRO_left.csv', encoding='utf-8')\n",
        "# F_V_PRO_left = csv.DictReader(F_V_PRO_left)\n",
        "\n",
        "# F_V_PRO_right = open('/content/drive/MyDrive/GaitRect/GaitRect/GRF_F_V_PRO_right.csv', encoding='utf-8')\n",
        "# F_V_PRO_right = csv.DictReader(F_V_PRO_right)\n",
        "\n",
        "with open('/content/drive/MyDrive/GaitRect/GaitRect/GRF_F_AP_PRO_left.csv') as f:\n",
        "    reader = csv.reader(f)\n",
        "    GRF_F_AP_PRO_left = [row for row in reader]\n",
        "\n",
        "with open('/content/drive/MyDrive/GaitRect/GaitRect/GRF_metadata.csv') as f:\n",
        "    reader = csv.reader(f)\n",
        "    metadata = [row for row in reader]\n",
        "\n",
        "GRF_items = np.array(GRF_F_AP_PRO_left, dtype=str)[0,::]\n",
        "meta_items = np.array(metadata, dtype=str)[0,::]\n",
        "\n",
        "GRF = np.array(GRF_F_AP_PRO_left)[1:,::]\n",
        "GRF = np.array(GRF, dtype=float)"
      ],
      "execution_count": 361,
      "outputs": []
    },
    {
      "cell_type": "code",
      "metadata": {
        "id": "8VlT5ui9MxLi"
      },
      "source": [
        "# meta = np.array(meta, dytpe=float) str型や日付など変換できない列があるので、逐次floatに変換忘れない\n",
        "# metadataの前処理, 3(class_label_detail)と16(year.date)列目削除して\n",
        "metadata_array = np.array(metadata)\n",
        "meta = np.array(metadata)[1:,::]\n",
        "meta = np.delete(meta, [3,16], axis=1)\n",
        "# 2列目を5クラスに対応した数字に変換(HC=0, H=1, K=2, A=3, C=4)\n",
        "meta = np.where(meta=='HC', 0, meta)\n",
        "meta = np.where(meta=='H', 1, meta)\n",
        "meta = np.where(meta=='K', 2, meta)\n",
        "meta = np.where(meta=='A', 3, meta)\n",
        "meta = np.where(meta=='C', 4, meta)\n",
        "# meta.shape (8971, 18)\n",
        "# NaNがあるとint変換できないので、NaNをチェックする?\n",
        "meta_list = []\n",
        "for i in range(len(meta)):\n",
        "  meta_list.append(meta[i,::].astype(np.float32))\n",
        "meta = np.array(meta_list) # meta.shape (8971, 18)"
      ],
      "execution_count": 362,
      "outputs": []
    },
    {
      "cell_type": "code",
      "metadata": {
        "colab": {
          "base_uri": "https://localhost:8080/"
        },
        "id": "x6ZiWkOj7Pgr",
        "outputId": "4850b4f6-f869-4817-8aee-d943105be8a8"
      },
      "source": [
        "meta_items"
      ],
      "execution_count": 93,
      "outputs": [
        {
          "output_type": "execute_result",
          "data": {
            "text/plain": [
              "array(['SUBJECT_ID', 'SESSION_ID', 'CLASS_LABEL', 'CLASS_LABEL_DETAILED',\n",
              "       'SEX', 'AGE', 'HEIGHT', 'BODY_WEIGHT', 'BODY_MASS', 'SHOE_SIZE',\n",
              "       'AFFECTED_SIDE', 'SHOD_CONDITION', 'ORTHOPEDIC_INSOLE', 'SPEED',\n",
              "       'READMISSION', 'SESSION_TYPE', 'SESSION_DATE', 'TRAIN',\n",
              "       'TRAIN_BALANCED', 'TEST'], dtype='<U20')"
            ]
          },
          "metadata": {
            "tags": []
          },
          "execution_count": 93
        }
      ]
    },
    {
      "cell_type": "code",
      "metadata": {
        "id": "zrIhH2T-UGoi"
      },
      "source": [
        "i = 0\n",
        "meta_SESSION_ID = meta[::,1]\n",
        "GRF_SESSION_ID = GRF[::,1]\n",
        "# meta_SUBJECT_ID = meta[::,0]\n",
        "# GRF_SUBJECT_ID = GRF[::,0]\n",
        "# GRF_and_meta = np.empty((len(GRF), 120))\n",
        "GRF_and_meta = np.ones((len(GRF), 120))\n",
        "for i in range(len(meta_SUBJECT_ID)):\n",
        "  # from IPython.core.debugger import Pdb; Pdb().set_trace()\n",
        "  # index = np.array(np.where(GRF_SUBJECT_ID == meta_SUBJECT_ID[i])[0]) # 問題\n",
        "  index = np.array(np.where(GRF_SESSION_ID == meta_SESSION_ID[i])[0]) # 問題\n",
        "  index = np.array(index)\n",
        "  for k in index:\n",
        "    GRF_and_meta[k, ::] = np.append(GRF[k, ::], meta[i, 2::])\n",
        "  #k=0\n",
        "# GRF_and_meta.shape (75732, 120)"
      ],
      "execution_count": 455,
      "outputs": []
    },
    {
      "cell_type": "code",
      "metadata": {
        "colab": {
          "base_uri": "https://localhost:8080/"
        },
        "id": "ONwjrpNduB_d",
        "outputId": "51a56eec-ff21-460c-da75-f18be5489593"
      },
      "source": [
        "meta[::,1].shape"
      ],
      "execution_count": 345,
      "outputs": [
        {
          "output_type": "execute_result",
          "data": {
            "text/plain": [
              "(8971,)"
            ]
          },
          "metadata": {
            "tags": []
          },
          "execution_count": 345
        }
      ]
    },
    {
      "cell_type": "code",
      "metadata": {
        "colab": {
          "base_uri": "https://localhost:8080/"
        },
        "id": "j0Z_xCI2wNPY",
        "outputId": "c3fe71b7-0971-4b58-9541-65ff9d04782f"
      },
      "source": [
        "GRF.shape"
      ],
      "execution_count": 350,
      "outputs": [
        {
          "output_type": "execute_result",
          "data": {
            "text/plain": [
              "(75732, 104)"
            ]
          },
          "metadata": {
            "tags": []
          },
          "execution_count": 350
        }
      ]
    },
    {
      "cell_type": "code",
      "metadata": {
        "colab": {
          "base_uri": "https://localhost:8080/"
        },
        "id": "_N_Y6vNiwZ7B",
        "outputId": "47810608-d956-439c-8e44-b7a9ba9e2345"
      },
      "source": [
        "GRF_and_meta[75472:75732,0] == GRF[75472:75732,0]"
      ],
      "execution_count": 456,
      "outputs": [
        {
          "output_type": "execute_result",
          "data": {
            "text/plain": [
              "array([ True, False, False, False, False, False, False, False, False,\n",
              "       False, False, False, False, False, False, False, False, False,\n",
              "       False, False, False, False, False, False, False, False, False,\n",
              "       False, False, False, False, False, False, False, False, False,\n",
              "       False, False, False, False, False, False, False, False, False,\n",
              "       False, False, False, False, False, False, False, False, False,\n",
              "       False, False, False, False, False, False, False, False, False,\n",
              "       False, False, False, False, False, False, False, False, False,\n",
              "       False, False, False, False, False, False, False, False, False,\n",
              "       False,  True,  True,  True,  True,  True,  True,  True,  True,\n",
              "        True,  True,  True,  True, False, False, False, False, False,\n",
              "       False, False, False, False, False, False, False, False, False,\n",
              "       False, False, False, False, False, False, False, False, False,\n",
              "       False, False, False, False, False, False, False, False, False,\n",
              "       False, False, False, False, False, False, False, False, False,\n",
              "       False, False, False, False, False, False, False, False, False,\n",
              "       False, False, False, False, False, False, False, False, False,\n",
              "       False, False, False, False, False, False, False, False, False,\n",
              "       False, False, False, False, False, False, False, False, False,\n",
              "       False, False, False, False, False, False, False, False, False,\n",
              "       False, False, False, False, False, False, False, False, False,\n",
              "       False, False, False, False, False, False, False, False, False,\n",
              "       False, False, False, False, False, False, False, False, False,\n",
              "       False, False, False, False, False, False, False, False, False,\n",
              "       False, False, False, False, False, False, False, False, False,\n",
              "       False, False, False, False, False, False, False, False, False,\n",
              "       False, False, False, False, False, False, False, False, False,\n",
              "       False, False, False, False, False, False, False, False, False,\n",
              "       False, False, False, False, False, False, False, False])"
            ]
          },
          "metadata": {
            "tags": []
          },
          "execution_count": 456
        }
      ]
    },
    {
      "cell_type": "code",
      "metadata": {
        "colab": {
          "base_uri": "https://localhost:8080/"
        },
        "id": "IrZAbLtDvim2",
        "outputId": "2c5d7387-2ec2-4170-85a0-3c1ec67ebfd3"
      },
      "source": [
        "np.where(GRF_SESSION_ID[[75473]] == meta_SESSION_ID)"
      ],
      "execution_count": 441,
      "outputs": [
        {
          "output_type": "execute_result",
          "data": {
            "text/plain": [
              "(array([], dtype=int64),)"
            ]
          },
          "metadata": {
            "tags": []
          },
          "execution_count": 441
        }
      ]
    },
    {
      "cell_type": "code",
      "metadata": {
        "colab": {
          "base_uri": "https://localhost:8080/"
        },
        "id": "mHYYxqFeBiuH",
        "outputId": "7a462262-a12e-4303-840e-391c404b19d2"
      },
      "source": [
        "GRF_SESSION_ID[75480]"
      ],
      "execution_count": 449,
      "outputs": [
        {
          "output_type": "execute_result",
          "data": {
            "text/plain": [
              "888812536.0"
            ]
          },
          "metadata": {
            "tags": []
          },
          "execution_count": 449
        }
      ]
    },
    {
      "cell_type": "code",
      "metadata": {
        "colab": {
          "base_uri": "https://localhost:8080/"
        },
        "id": "kaVf5_x-8s3c",
        "outputId": "684ae4f4-0711-4187-c877-9607934d103d"
      },
      "source": [
        "g = np.array([5,5,5,5,5,5,5,5,5,5,5,5,5,5,5])\n",
        "g.shape\n",
        "m = np.array([5,5,5,3,3,3,3,3])\n",
        "m.shape\n",
        "np.array(np.where(g == m[0])[0]).shape"
      ],
      "execution_count": 436,
      "outputs": [
        {
          "output_type": "execute_result",
          "data": {
            "text/plain": [
              "(15,)"
            ]
          },
          "metadata": {
            "tags": []
          },
          "execution_count": 436
        }
      ]
    },
    {
      "cell_type": "code",
      "metadata": {
        "colab": {
          "base_uri": "https://localhost:8080/"
        },
        "id": "oHh5FeehD0dI",
        "outputId": "957bfd1c-2d69-48ba-9f16-2a913fa1e993"
      },
      "source": [
        "GRF_SESSION_ID.max()"
      ],
      "execution_count": 458,
      "outputs": [
        {
          "output_type": "execute_result",
          "data": {
            "text/plain": [
              "999910375.0"
            ]
          },
          "metadata": {
            "tags": []
          },
          "execution_count": 458
        }
      ]
    },
    {
      "cell_type": "code",
      "metadata": {
        "id": "9R6qSRMcEAw-"
      },
      "source": [
        "i = 0\n",
        "# meta_SESSION_ID = meta[::,1]\n",
        "# GRF_SESSION_ID = GRF[::,1]\n",
        "meta_SUBJECT_ID = meta[::,0]\n",
        "GRF_SUBJECT_ID = GRF[::,0]\n",
        "# GRF_and_meta = np.empty((len(GRF), 120))\n",
        "GRF_and_meta = np.ones((len(GRF), 120))\n",
        "for i in range(len(meta_SUBJECT_ID)):\n",
        "  # from IPython.core.debugger import Pdb; Pdb().set_trace()\n",
        "  index = np.array(np.where(GRF_SUBJECT_ID == meta_SUBJECT_ID[i])[0]) # 問題\n",
        "  # index = np.array(np.where(GRF_SESSION_ID == meta_SESSION_ID[i])[0]) # 問題\n",
        "  index = np.array(index)\n",
        "  for k in index:\n",
        "    GRF_and_meta[k, ::] = np.append(GRF[k, ::], meta[i, 2::])\n",
        "  #k=0\n",
        "# GRF_and_meta.shape (75732, 120)"
      ],
      "execution_count": 459,
      "outputs": []
    },
    {
      "cell_type": "code",
      "metadata": {
        "colab": {
          "base_uri": "https://localhost:8080/"
        },
        "id": "AB0zH9KbEKuI",
        "outputId": "f906f56e-6016-43b2-97cc-762a016ae24e"
      },
      "source": [
        "GRF_and_meta[75472:75732,0] == GRF[75472:75732,0]"
      ],
      "execution_count": 460,
      "outputs": [
        {
          "output_type": "execute_result",
          "data": {
            "text/plain": [
              "array([ True,  True,  True,  True,  True,  True,  True,  True,  True,\n",
              "        True,  True,  True,  True,  True,  True,  True,  True,  True,\n",
              "        True,  True,  True,  True,  True,  True,  True,  True,  True,\n",
              "        True,  True,  True,  True,  True,  True,  True,  True,  True,\n",
              "        True,  True,  True,  True,  True,  True,  True,  True,  True,\n",
              "        True,  True,  True,  True,  True,  True,  True,  True,  True,\n",
              "        True,  True,  True,  True,  True,  True,  True,  True,  True,\n",
              "        True,  True,  True,  True,  True,  True,  True,  True,  True,\n",
              "        True,  True,  True,  True,  True,  True,  True,  True,  True,\n",
              "        True,  True,  True,  True,  True,  True,  True,  True,  True,\n",
              "        True,  True,  True,  True,  True,  True,  True,  True,  True,\n",
              "        True,  True,  True,  True,  True,  True,  True,  True,  True,\n",
              "        True,  True,  True,  True,  True,  True,  True,  True,  True,\n",
              "        True,  True,  True,  True,  True,  True,  True,  True,  True,\n",
              "        True,  True,  True,  True,  True,  True,  True,  True,  True,\n",
              "        True,  True,  True,  True,  True,  True,  True,  True,  True,\n",
              "        True,  True,  True,  True,  True,  True,  True,  True,  True,\n",
              "        True,  True,  True,  True,  True,  True,  True,  True,  True,\n",
              "        True,  True,  True,  True,  True,  True,  True,  True,  True,\n",
              "        True,  True,  True,  True,  True,  True,  True,  True,  True,\n",
              "        True,  True,  True,  True,  True,  True,  True,  True,  True,\n",
              "        True,  True,  True,  True,  True,  True,  True,  True,  True,\n",
              "        True,  True,  True,  True,  True,  True,  True,  True,  True,\n",
              "        True,  True,  True,  True,  True,  True,  True,  True,  True,\n",
              "        True,  True,  True,  True,  True,  True,  True,  True,  True,\n",
              "        True,  True,  True,  True,  True,  True,  True,  True,  True,\n",
              "        True,  True,  True,  True,  True,  True,  True,  True,  True,\n",
              "        True,  True,  True,  True,  True,  True,  True,  True,  True,\n",
              "        True,  True,  True,  True,  True,  True,  True,  True])"
            ]
          },
          "metadata": {
            "tags": []
          },
          "execution_count": 460
        }
      ]
    }
  ]
}