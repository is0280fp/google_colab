{
  "nbformat": 4,
  "nbformat_minor": 0,
  "metadata": {
    "colab": {
      "name": "GaitRec_get_csv_data.ipynb",
      "provenance": [],
      "collapsed_sections": [],
      "mount_file_id": "1ijdXNpxuZHp7dm0zBtwiR-ocqDlg6IYg",
      "authorship_tag": "ABX9TyOmZJZ0zpnxK7zBP3oq0Qvf",
      "include_colab_link": true
    },
    "kernelspec": {
      "name": "python3",
      "display_name": "Python 3"
    }
  },
  "cells": [
    {
      "cell_type": "markdown",
      "metadata": {
        "id": "view-in-github",
        "colab_type": "text"
      },
      "source": [
        "<a href=\"https://colab.research.google.com/github/is0280fp/google_colab/blob/main/GaitRec_get_csv_data.ipynb\" target=\"_parent\"><img src=\"https://colab.research.google.com/assets/colab-badge.svg\" alt=\"Open In Colab\"/></a>"
      ]
    },
    {
      "cell_type": "code",
      "metadata": {
        "id": "Lh16VKnfw0Ud"
      },
      "source": [
        "import csv\n",
        "import tensorflow as tf\n",
        "import functools\n",
        "import numpy as np\n",
        "\n",
        "# from IPython.core.debugger import Pdb; Pdb().set_trace()\n",
        "\n",
        "with open('/content/drive/MyDrive/GaitRect/GaitRect/GRF_F_V_PRO_left.csv') as f:\n",
        "    reader = csv.reader(f)\n",
        "    V_PRO_left = [row for row in reader]\n",
        "\n",
        "with open('/content/drive/MyDrive/GaitRect/GaitRect/GRF_F_V_PRO_right.csv') as f:\n",
        "    reader = csv.reader(f)\n",
        "    V_PRO_right = [row for row in reader]\n",
        "\n",
        "with open('/content/drive/MyDrive/GaitRect/GaitRect/GRF_F_AP_PRO_left.csv') as f:\n",
        "    reader = csv.reader(f)\n",
        "    AP_PRO_left = [row for row in reader]\n",
        "\n",
        "with open('/content/drive/MyDrive/GaitRect/GaitRect/GRF_F_AP_PRO_right.csv') as f:\n",
        "    reader = csv.reader(f)\n",
        "    AP_PRO_right = [row for row in reader]\n",
        "\n",
        "with open('/content/drive/MyDrive/GaitRect/GaitRect/GRF_F_ML_PRO_left.csv') as f:\n",
        "    reader = csv.reader(f)\n",
        "    ML_PRO_left = [row for row in reader]\n",
        "\n",
        "with open('/content/drive/MyDrive/GaitRect/GaitRect/GRF_F_ML_PRO_right.csv') as f:\n",
        "    reader = csv.reader(f)\n",
        "    ML_PRO_right = [row for row in reader]\n",
        "\n",
        "with open('/content/drive/MyDrive/GaitRect/GaitRect/GRF_metadata.csv') as f:\n",
        "    reader = csv.reader(f)\n",
        "    metadata = [row for row in reader]"
      ],
      "execution_count": null,
      "outputs": []
    },
    {
      "cell_type": "code",
      "metadata": {
        "id": "cDu3Fg_weaEV"
      },
      "source": [
        "meta_items = np.array(metadata, dtype=str)[0,::]\n",
        "\n",
        "V_PRO_right_items = np.array(V_PRO_right, dtype=str)[0,::]\n",
        "V_PRO_right = np.array(V_PRO_right)[1:,::]\n",
        "V_PRO_right = np.array(V_PRO_right, dtype=float)\n",
        "\n",
        "V_PRO_left_items = np.array(V_PRO_left, dtype=str)[0,::]\n",
        "V_PRO_left = np.array(V_PRO_left)[1:,::]\n",
        "V_PRO_left = np.array(V_PRO_left, dtype=float)\n",
        "\n",
        "AP_PRO_right_items = np.array(AP_PRO_right, dtype=str)[0,::]\n",
        "AP_PRO_right = np.array(AP_PRO_right)[1:,::]\n",
        "AP_PRO_right = np.array(AP_PRO_right, dtype=float)\n",
        "\n",
        "AP_PRO_left_items = np.array(AP_PRO_left, dtype=str)[0,::]\n",
        "AP_PRO_left = np.array(AP_PRO_left)[1:,::]\n",
        "AP_PRO_left = np.array(AP_PRO_left, dtype=float)\n",
        "\n",
        "ML_PRO_right_items = np.array(ML_PRO_right, dtype=str)[0,::]\n",
        "ML_PRO_right = np.array(ML_PRO_right)[1:,::]\n",
        "ML_PRO_right = np.array(ML_PRO_right, dtype=float)\n",
        "\n",
        "ML_PRO_left_items = np.array(ML_PRO_left, dtype=str)[0,::]\n",
        "ML_PRO_left = np.array(ML_PRO_left)[1:,::]\n",
        "ML_PRO_left = np.array(ML_PRO_left, dtype=float)"
      ],
      "execution_count": null,
      "outputs": []
    },
    {
      "cell_type": "code",
      "metadata": {
        "id": "8VlT5ui9MxLi"
      },
      "source": [
        "# meta = np.array(meta, dytpe=float) str型や日付など変換できない列があるので、逐次floatに変換忘れない\n",
        "# metadataの前処理, 3(class_label_detail)と16(year.date)列目削除して\n",
        "metadata_array = np.array(metadata)\n",
        "meta = np.array(metadata)[1:,::]\n",
        "meta = np.delete(meta, [3,16], axis=1)\n",
        "# 2列目を5クラスに対応した数字に変換(HC=0, H=1, K=2, A=3, C=4)\n",
        "meta = np.where(meta=='HC', 0, meta)\n",
        "meta = np.where(meta=='H', 1, meta)\n",
        "meta = np.where(meta=='K', 2, meta)\n",
        "meta = np.where(meta=='A', 3, meta)\n",
        "meta = np.where(meta=='C', 4, meta)\n",
        "# meta.shape (8971, 18)\n",
        "# NaNがあるとint変換できないので、NaNをチェックする?\n",
        "meta_list = []\n",
        "for i in range(len(meta)):\n",
        "  meta_list.append(meta[i,::].astype(np.float32))\n",
        "meta = np.array(meta_list) # meta.shape (8971, 18)"
      ],
      "execution_count": null,
      "outputs": []
    },
    {
      "cell_type": "code",
      "metadata": {
        "id": "_N_Y6vNiwZ7B"
      },
      "source": [
        "# GRF_and_metaはGRFにmetadataを3と16項目目を削除してものを足しただけ\n",
        "# 75554~75566まで残す\n",
        "valid_AP_PRO_left = AP_PRO_left[75554, ::].reshape(1, 104)\n",
        "valid_AP_PRO_right = AP_PRO_right[75554, ::].reshape(1, 104)\n",
        "\n",
        "valid_V_PRO_left = V_PRO_left[75554, ::].reshape(1, 104)\n",
        "valid_V_PRO_right = V_PRO_right[75554, ::].reshape(1, 104)\n",
        "\n",
        "valid_ML_PRO_left = ML_PRO_left[75554, ::].reshape(1, 104)\n",
        "valid_ML_PRO_right = ML_PRO_right[75554, ::].reshape(1, 104)"
      ],
      "execution_count": null,
      "outputs": []
    },
    {
      "cell_type": "code",
      "metadata": {
        "colab": {
          "base_uri": "https://localhost:8080/"
        },
        "id": "-yfhvk8fhXeS",
        "outputId": "610b41da-164e-498d-afcd-a6ef7dd5a2df"
      },
      "source": [
        "meta_items"
      ],
      "execution_count": null,
      "outputs": [
        {
          "output_type": "execute_result",
          "data": {
            "text/plain": [
              "array(['SUBJECT_ID', 'SESSION_ID', 'CLASS_LABEL', 'CLASS_LABEL_DETAILED',\n",
              "       'SEX', 'AGE', 'HEIGHT', 'BODY_WEIGHT', 'BODY_MASS', 'SHOE_SIZE',\n",
              "       'AFFECTED_SIDE', 'SHOD_CONDITION', 'ORTHOPEDIC_INSOLE', 'SPEED',\n",
              "       'READMISSION', 'SESSION_TYPE', 'SESSION_DATE', 'TRAIN',\n",
              "       'TRAIN_BALANCED', 'TEST'], dtype='<U20')"
            ]
          },
          "metadata": {
            "tags": []
          },
          "execution_count": 6
        }
      ]
    },
    {
      "cell_type": "code",
      "metadata": {
        "id": "z858XYmK9uOO"
      },
      "source": [
        "# GRF_and_meta[75472::,0] == GRF[75472::,0] これより、GRF[75473,::]から最後までがいらないデータ\n",
        "# metadataにないデータをSESSION_IDにもとづいて削除する(888812536~888812635と999910365~999910375の連番、ただし888812544は除く)\n",
        "# strategy: 888812544だけ取り出して保存しておくが、それ以外remove\n",
        "temp_AP_PRO_left = AP_PRO_left\n",
        "temp_AP_PRO_left = temp_AP_PRO_left[:75473, ::] # 保存しておいたのを足す\n",
        "temp_AP_PRO_left = np.append(temp_AP_PRO_left, valid_AP_PRO_left, axis=0)\n",
        "\n",
        "temp_AP_PRO_right = AP_PRO_right\n",
        "temp_AP_PRO_right = temp_AP_PRO_right[:75473, ::] # 保存しておいたのを足す\n",
        "temp_AP_PRO_right = np.append(temp_AP_PRO_right, valid_AP_PRO_right, axis=0)\n",
        "\n",
        "temp_ML_PRO_left = ML_PRO_left\n",
        "temp_ML_PRO_left = temp_ML_PRO_left[:75473, ::] # 保存しておいたのを足す\n",
        "temp_ML_PRO_left = np.append(temp_ML_PRO_left, valid_ML_PRO_left, axis=0)\n",
        "\n",
        "temp_ML_PRO_right = ML_PRO_right\n",
        "temp_ML_PRO_right = temp_ML_PRO_right[:75473, ::] # 保存しておいたのを足す\n",
        "temp_ML_PRO_right = np.append(temp_ML_PRO_right, valid_ML_PRO_right, axis=0)\n",
        "\n",
        "temp_V_PRO_left = V_PRO_left\n",
        "temp_V_PRO_left = temp_V_PRO_left[:75473, ::] # 保存しておいたのを足す\n",
        "temp_V_PRO_left = np.append(temp_V_PRO_left, valid_V_PRO_left, axis=0)\n",
        "\n",
        "temp_V_PRO_right = V_PRO_right\n",
        "temp_V_PRO_right = temp_V_PRO_right[:75473, ::] # 保存しておいたのを足す\n",
        "temp_V_PRO_right = np.append(temp_V_PRO_right, valid_V_PRO_right, axis=0)"
      ],
      "execution_count": null,
      "outputs": []
    },
    {
      "cell_type": "code",
      "metadata": {
        "id": "C9CBhB6iMSFn"
      },
      "source": [
        "# 本番\n",
        "V_PRO_left = V_PRO_left[:75473, ::]\n",
        "V_PRO_left = np.append(V_PRO_left, valid_V_PRO_left, axis=0)\n",
        "\n",
        "V_PRO_right = V_PRO_right[:75473, ::]\n",
        "V_PRO_right = np.append(V_PRO_right, valid_V_PRO_right, axis=0)\n",
        "\n",
        "AP_PRO_left = AP_PRO_left[:75473, ::]\n",
        "AP_PRO_left = np.append(AP_PRO_left, valid_AP_PRO_left, axis=0)\n",
        "\n",
        "AP_PRO_right = AP_PRO_right[:75473, ::]\n",
        "AP_PRO_right = np.append(AP_PRO_right, valid_AP_PRO_right, axis=0)\n",
        "\n",
        "ML_PRO_left = ML_PRO_left[:75473, ::]\n",
        "ML_PRO_left = np.append(ML_PRO_left, valid_ML_PRO_left, axis=0)\n",
        "\n",
        "ML_PRO_right = ML_PRO_right[:75473, ::]\n",
        "ML_PRO_right = np.append(ML_PRO_right, valid_ML_PRO_right, axis=0)"
      ],
      "execution_count": null,
      "outputs": []
    },
    {
      "cell_type": "code",
      "metadata": {
        "id": "FAA2u_1fg7HE"
      },
      "source": [
        "i = 0\n",
        "\n",
        "meta_SESSION_ID = meta[::,1]\n",
        "meta_SUBJECT_ID = meta[::,0]\n",
        "\n",
        "V_PRO_right_SESSION_ID = V_PRO_right[::,1]\n",
        "V_PRO_right_and_meta = np.empty((len(V_PRO_right), 120))\n",
        "\n",
        "V_PRO_left_SESSION_ID = V_PRO_left[::,1]\n",
        "V_PRO_left_and_meta = np.empty((len(V_PRO_left), 120))\n",
        "\n",
        "AP_PRO_right_SESSION_ID = AP_PRO_right[::,1]\n",
        "AP_PRO_right_and_meta = np.empty((len(AP_PRO_right), 120))\n",
        "\n",
        "AP_PRO_left_SESSION_ID = AP_PRO_left[::,1]\n",
        "AP_PRO_left_and_meta = np.empty((len(AP_PRO_left), 120))\n",
        "\n",
        "ML_PRO_right_SESSION_ID = ML_PRO_right[::,1]\n",
        "ML_PRO_right_and_meta = np.empty((len(ML_PRO_right), 120))\n",
        "\n",
        "ML_PRO_left_SESSION_ID = ML_PRO_left[::,1]\n",
        "ML_PRO_left_and_meta = np.empty((len(ML_PRO_left), 120))"
      ],
      "execution_count": null,
      "outputs": []
    },
    {
      "cell_type": "code",
      "metadata": {
        "id": "Ms_w4J7nmGeS"
      },
      "source": [
        "for i in range(len(meta_SUBJECT_ID)):\n",
        "  # from IPython.core.debugger import Pdb; Pdb().set_trace()\n",
        "  index = np.array(np.where(AP_PRO_left_SESSION_ID == meta_SESSION_ID[i])[0]) # 問題\n",
        "  index = np.array(index)\n",
        "  for k in index:\n",
        "    V_PRO_left_and_meta[k, ::] = np.append(V_PRO_left[k, ::], meta[i, 2::])\n",
        "    V_PRO_right_and_meta[k, ::] = np.append(V_PRO_right[k, ::], meta[i, 2::])\n",
        "    AP_PRO_left_and_meta[k, ::] = np.append(AP_PRO_left[k, ::], meta[i, 2::])\n",
        "    AP_PRO_right_and_meta[k, ::] = np.append(AP_PRO_right[k, ::], meta[i, 2::])\n",
        "    ML_PRO_left_and_meta[k, ::] = np.append(ML_PRO_left[k, ::], meta[i, 2::])\n",
        "    ML_PRO_right_and_meta[k, ::] = np.append(ML_PRO_right[k, ::], meta[i, 2::])"
      ],
      "execution_count": null,
      "outputs": []
    },
    {
      "cell_type": "code",
      "metadata": {
        "colab": {
          "base_uri": "https://localhost:8080/"
        },
        "id": "qnSt5Z77MtyG",
        "outputId": "c3d1d4e8-62cd-47b9-be49-c10b345490c9"
      },
      "source": [
        "np.allclose(ML_PRO_left_and_meta[::,0:104], ML_PRO_left) # データセットに加工する前のGRFとmetadataのセット完成!\n",
        "np.allclose(ML_PRO_right_and_meta[::,0:104], ML_PRO_right)"
      ],
      "execution_count": null,
      "outputs": [
        {
          "output_type": "execute_result",
          "data": {
            "text/plain": [
              "True"
            ]
          },
          "metadata": {
            "tags": []
          },
          "execution_count": 11
        }
      ]
    },
    {
      "cell_type": "code",
      "metadata": {
        "colab": {
          "base_uri": "https://localhost:8080/"
        },
        "id": "zsiSTaFomurW",
        "outputId": "58525e0a-e3e2-404c-ea55-54e9998a8017"
      },
      "source": [
        "np.allclose(AP_PRO_left_and_meta[::,0:104], AP_PRO_left) # データセットに加工する前のGRFとmetadataのセット完成!\n",
        "np.allclose(AP_PRO_right_and_meta[::,0:104], AP_PRO_right)"
      ],
      "execution_count": null,
      "outputs": [
        {
          "output_type": "execute_result",
          "data": {
            "text/plain": [
              "True"
            ]
          },
          "metadata": {
            "tags": []
          },
          "execution_count": 12
        }
      ]
    },
    {
      "cell_type": "code",
      "metadata": {
        "colab": {
          "base_uri": "https://localhost:8080/"
        },
        "id": "SFzWzlNJmxFT",
        "outputId": "d217f60a-ad5f-498c-9071-e25fa6f783e0"
      },
      "source": [
        "np.allclose(V_PRO_left_and_meta[::,0:104], V_PRO_left) # データセットに加工する前のGRFとmetadataのセット完成!\n",
        "np.allclose(V_PRO_right_and_meta[::,0:104], V_PRO_right)"
      ],
      "execution_count": null,
      "outputs": [
        {
          "output_type": "execute_result",
          "data": {
            "text/plain": [
              "True"
            ]
          },
          "metadata": {
            "tags": []
          },
          "execution_count": 13
        }
      ]
    },
    {
      "cell_type": "code",
      "metadata": {
        "id": "kSzVILW6Fzyd"
      },
      "source": [
        "# GRFをV,AP,MLの順に横に並べる\n",
        "# AFFECTED_SIDEによって横に並ぶ順番を決める\n",
        "# trainとtestデータにわける\n",
        "SUBJECT_num = len(V_PRO_right_and_meta)\n",
        "\n",
        "AP_PRO_right_values = AP_PRO_right[::,3:]\n",
        "AP_PRO_left_values = AP_PRO_left[::,3:]\n",
        "ML_PRO_right_values = ML_PRO_right[::,3:]\n",
        "ML_PRO_left_values = ML_PRO_left[::,3:]\n",
        "V_PRO_right_values = V_PRO_right[::,3:]\n",
        "V_PRO_left_values = V_PRO_left[::,3:]\n",
        "\n",
        "# データのみ\n",
        "right_GRF = np.concatenate([V_PRO_right_values, AP_PRO_right_values, ML_PRO_right_values], axis=1)\n",
        "left_GRF = np.concatenate([V_PRO_left_values, AP_PRO_left_values, ML_PRO_left_values], axis=1)\n"
      ],
      "execution_count": null,
      "outputs": []
    },
    {
      "cell_type": "code",
      "metadata": {
        "colab": {
          "base_uri": "https://localhost:8080/"
        },
        "id": "NkOzrpOjnAqy",
        "outputId": "517ff7b7-4925-4354-af47-57cd6694391e"
      },
      "source": [
        "right_GRF.shape"
      ],
      "execution_count": null,
      "outputs": [
        {
          "output_type": "execute_result",
          "data": {
            "text/plain": [
              "(75474, 303)"
            ]
          },
          "metadata": {
            "tags": []
          },
          "execution_count": 40
        }
      ]
    },
    {
      "cell_type": "code",
      "metadata": {
        "id": "3c3c0cPuUbLj"
      },
      "source": [
        "# AFFECTED_SIDEによって横に並ぶ順番を決める\n",
        "import random\n",
        "\n",
        "GRF = []\n",
        "for i in range(SUBJECT_num):\n",
        "  if V_PRO_right_and_meta[i, 2] > 0:    # patient\n",
        "    if V_PRO_right_and_meta[i, 9] == 0: # affected_leg is left\n",
        "      GRF.append(np.concatenate([left_GRF[i], right_GRF[i]]))\n",
        "    elif V_PRO_right_and_meta[i, 9] == 1:  # affected_leg is right\n",
        "      GRF.append(np.concatenate([right_GRF[i], left_GRF[i]]))\n",
        "    else:                                  # affected_leg is both\n",
        "      lst = []\n",
        "      lst.append(right_GRF[0])\n",
        "      lst.append(left_GRF[0])\n",
        "      random.shuffle(lst)\n",
        "      GRF.append(np.concatenate([lst[0],lst[1]])) \n",
        "  else:                                    # healthy control\n",
        "    lst = []\n",
        "    lst.append(right_GRF[0])\n",
        "    lst.append(left_GRF[0])\n",
        "    random.shuffle(lst)\n",
        "    GRF.append(np.concatenate([lst[0],lst[1]])) "
      ],
      "execution_count": null,
      "outputs": []
    },
    {
      "cell_type": "code",
      "metadata": {
        "colab": {
          "base_uri": "https://localhost:8080/"
        },
        "id": "20FFXfQFqInJ",
        "outputId": "068dbb88-420d-48bd-fa1a-dcffd017574d"
      },
      "source": [
        "np.array(GRF).shape"
      ],
      "execution_count": 78,
      "outputs": [
        {
          "output_type": "execute_result",
          "data": {
            "text/plain": [
              "(75474, 606)"
            ]
          },
          "metadata": {
            "tags": []
          },
          "execution_count": 78
        }
      ]
    },
    {
      "cell_type": "code",
      "metadata": {
        "id": "zNwUIy5fsXtu"
      },
      "source": [
        "# trainとtestデータにわける\n",
        "# この時点では、まだGRFとV_PRO_right_and_metaの順番は同じはず\n",
        "train_data = []\n",
        "test_data = []\n",
        "for i in range(SUBJECT_num):\n",
        "  if V_PRO_right_and_meta[i, -1] == 1: # testデータのラベル\n",
        "    test_data.append(GRF[i])\n",
        "  else:\n",
        "    train_data.append(GRF[i])"
      ],
      "execution_count": 83,
      "outputs": []
    },
    {
      "cell_type": "code",
      "metadata": {
        "colab": {
          "base_uri": "https://localhost:8080/"
        },
        "id": "57QWPtxnwokv",
        "outputId": "bee041a7-b701-4959-89fe-4732591f22e6"
      },
      "source": [
        "print(np.array(train_data).shape)\n",
        "print(np.array(test_data).shape)\n",
        "52519 + 22955 "
      ],
      "execution_count": 89,
      "outputs": [
        {
          "output_type": "stream",
          "text": [
            "(52519, 606)\n",
            "(22955, 606)\n"
          ],
          "name": "stdout"
        },
        {
          "output_type": "execute_result",
          "data": {
            "text/plain": [
              "75474"
            ]
          },
          "metadata": {
            "tags": []
          },
          "execution_count": 89
        }
      ]
    }
  ]
}